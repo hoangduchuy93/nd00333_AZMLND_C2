{
  "cells": [
    {
      "cell_type": "markdown",
      "source": [
        "Copyright (c) Microsoft Corporation. All rights reserved.  \n",
        "Licensed under the MIT License."
      ],
      "metadata": {}
    },
    {
      "cell_type": "markdown",
      "source": [
        "![Impressions](https://PixelServer20190423114238.azurewebsites.net/api/impressions/NotebookVM/how-to-use-azureml/machine-learning-pipelines/intro-to-pipelines/aml-pipelines-with-automated-machine-learning-step.png)"
      ],
      "metadata": {}
    },
    {
      "cell_type": "markdown",
      "source": [
        "# Azure Machine Learning Pipeline with AutoMLStep (Udacity Course 2)\n",
        "This notebook demonstrates the use of AutoMLStep in Azure Machine Learning Pipeline."
      ],
      "metadata": {}
    },
    {
      "cell_type": "markdown",
      "source": [
        "## Introduction\n",
        "In this example we showcase how you can use AzureML Dataset to load data for AutoML via AML Pipeline. \n",
        "\n",
        "If you are using an Azure Machine Learning Notebook VM, you are all set. Otherwise, make sure you have executed the [configuration](https://aka.ms/pl-config) before running this notebook.\n",
        "\n",
        "In this notebook you will learn how to:\n",
        "1. Create an `Experiment` in an existing `Workspace`.\n",
        "2. Create or Attach existing AmlCompute to a workspace.\n",
        "3. Define data loading in a `TabularDataset`.\n",
        "4. Configure AutoML using `AutoMLConfig`.\n",
        "5. Use AutoMLStep\n",
        "6. Train the model using AmlCompute\n",
        "7. Explore the results.\n",
        "8. Test the best fitted model."
      ],
      "metadata": {}
    },
    {
      "cell_type": "markdown",
      "source": [
        "## Azure Machine Learning and Pipeline SDK-specific imports"
      ],
      "metadata": {}
    },
    {
      "cell_type": "code",
      "source": [
        "%pip install azureml-widgets\n",
        "%pip install xgboost==1.5.0\n",
        "%pip install --upgrade azureml-sdk[notebooks,automl]\n",
        "%pip install azureml-train-automl-runtime==1.57.0\n",
        "%pip install azureml-pipeline-core==1.57.0\n",
        "%pip install azureml-pipeline-steps"
      ],
      "outputs": [
        {
          "output_type": "display_data",
          "data": {
            "application/vnd.livy.statement-meta+json": {
              "spark_pool": "ef21626c-69c8-45dc-850a-aff25dab2560",
              "statement_id": 54,
              "statement_ids": [
                45,
                46,
                47,
                48,
                49,
                50,
                51,
                52,
                53,
                54
              ],
              "state": "finished",
              "livy_statement_state": "available",
              "spark_jobs": {
                "numbers": {
                  "FAILED": 0,
                  "RUNNING": 0,
                  "UNKNOWN": 0,
                  "SUCCEEDED": 0
                },
                "jobs": [],
                "limit": 20,
                "rule": "ALL_DESC"
              },
              "session_id": "0",
              "normalized_state": "finished",
              "queued_time": "2024-10-15T09:06:57.6611814Z",
              "session_start_time": null,
              "execution_start_time": "2024-10-15T09:06:57.8011372Z",
              "execution_finish_time": "2024-10-15T09:08:23.1775694Z",
              "parent_msg_id": "24df4857-3f88-47a9-8af3-31588749c7c8"
            },
            "text/plain": "StatementMeta(ef21626c-69c8-45dc-850a-aff25dab2560, 0, 54, Finished, Available, Finished)"
          },
          "metadata": {}
        },
        {
          "output_type": "execute_result",
          "execution_count": 27,
          "data": {},
          "metadata": {}
        },
        {
          "output_type": "stream",
          "name": "stdout",
          "text": "Requirement already satisfied: azureml-widgets in /nfs4/pyenv-525bb166-fc19-4c39-bec6-1e96d4e3df1d/lib/python3.10/site-packages (1.57.0)\nRequirement already satisfied: ipywidgets<8.0.0,>=7.0.0 in /home/trusted-service-user/cluster-env/env/lib/python3.10/site-packages (from azureml-widgets) (7.7.0)\nRequirement already satisfied: azureml-core~=1.57.0 in /nfs4/pyenv-525bb166-fc19-4c39-bec6-1e96d4e3df1d/lib/python3.10/site-packages (from azureml-widgets) (1.57.0.post3)\nRequirement already satisfied: azureml-telemetry~=1.57.0 in /nfs4/pyenv-525bb166-fc19-4c39-bec6-1e96d4e3df1d/lib/python3.10/site-packages (from azureml-widgets) (1.57.0)\nRequirement already satisfied: azure-storage-blob>=12.6.0 in /home/trusted-service-user/cluster-env/env/lib/python3.10/site-packages (from azureml-widgets) (12.14.1)\nRequirement already satisfied: jinja2<4.0 in /home/trusted-service-user/cluster-env/env/lib/python3.10/site-packages (from azureml-widgets) (3.1.2)\nRequirement already satisfied: cryptography>=2.1.4 in /home/trusted-service-user/cluster-env/env/lib/python3.10/site-packages (from azure-storage-blob>=12.6.0->azureml-widgets) (38.0.3)\nRequirement already satisfied: msrest>=0.7.1 in /home/trusted-service-user/cluster-env/env/lib/python3.10/site-packages (from azure-storage-blob>=12.6.0->azureml-widgets) (0.7.1)\nRequirement already satisfied: azure-core<2.0.0,>=1.24.2 in /nfs4/pyenv-525bb166-fc19-4c39-bec6-1e96d4e3df1d/lib/python3.10/site-packages (from azure-storage-blob>=12.6.0->azureml-widgets) (1.31.0)\nRequirement already satisfied: azure-graphrbac<1.0.0,>=0.40.0 in /home/trusted-service-user/cluster-env/env/lib/python3.10/site-packages (from azureml-core~=1.57.0->azureml-widgets) (0.61.1)\nRequirement already satisfied: azure-mgmt-network<=26.0.0 in /nfs4/pyenv-525bb166-fc19-4c39-bec6-1e96d4e3df1d/lib/python3.10/site-packages (from azureml-core~=1.57.0->azureml-widgets) (26.0.0)\nRequirement already satisfied: SecretStorage<4.0.0 in /home/trusted-service-user/cluster-env/env/lib/python3.10/site-packages (from azureml-core~=1.57.0->azureml-widgets) (3.3.3)\nRequirement already satisfied: adal<=1.2.7,>=1.2.0 in /home/trusted-service-user/cluster-env/env/lib/python3.10/site-packages (from azureml-core~=1.57.0->azureml-widgets) (1.2.7)\nRequirement already satisfied: msal-extensions<=2.0.0,>=0.3.0 in /nfs4/pyenv-525bb166-fc19-4c39-bec6-1e96d4e3df1d/lib/python3.10/site-packages (from azureml-core~=1.57.0->azureml-widgets) (0.3.1)\nRequirement already satisfied: contextlib2<22.0.0 in /home/trusted-service-user/cluster-env/env/lib/python3.10/site-packages (from azureml-core~=1.57.0->azureml-widgets) (21.6.0)\nRequirement already satisfied: azure-mgmt-containerregistry<11,>=8.2.0 in /home/trusted-service-user/cluster-env/env/lib/python3.10/site-packages (from azureml-core~=1.57.0->azureml-widgets) (10.0.0)\nRequirement already satisfied: knack<0.12.0 in /home/trusted-service-user/cluster-env/env/lib/python3.10/site-packages (from azureml-core~=1.57.0->azureml-widgets) (0.10.0)\nRequirement already satisfied: msal<2.0.0,>=1.15.0 in /home/trusted-service-user/cluster-env/env/lib/python3.10/site-packages (from azureml-core~=1.57.0->azureml-widgets) (1.18.0)\nRequirement already satisfied: pathspec<1.0.0 in /home/trusted-service-user/cluster-env/env/lib/python3.10/site-packages (from azureml-core~=1.57.0->azureml-widgets) (0.10.1)\nRequirement already satisfied: backports.tempfile in /home/trusted-service-user/cluster-env/env/lib/python3.10/site-packages (from azureml-core~=1.57.0->azureml-widgets) (1.0)\nRequirement already satisfied: msrestazure<=0.7,>=0.4.33 in /home/trusted-service-user/cluster-env/env/lib/python3.10/site-packages (from azureml-core~=1.57.0->azureml-widgets) (0.6.4)\nRequirement already satisfied: argcomplete<4 in /home/trusted-service-user/cluster-env/env/lib/python3.10/site-packages (from azureml-core~=1.57.0->azureml-widgets) (2.0.0)\nRequirement already satisfied: jsonpickle<4.0.0 in /home/trusted-service-user/cluster-env/env/lib/python3.10/site-packages (from azureml-core~=1.57.0->azureml-widgets) (2.2.0)\nRequirement already satisfied: docker<8.0.0 in /home/trusted-service-user/cluster-env/env/lib/python3.10/site-packages (from azureml-core~=1.57.0->azureml-widgets) (6.0.1)\nRequirement already satisfied: requests[socks]<3.0.0,>=2.19.1 in /home/trusted-service-user/cluster-env/env/lib/python3.10/site-packages (from azureml-core~=1.57.0->azureml-widgets) (2.28.1)\nRequirement already satisfied: packaging<=25.0,>=20.0 in /home/trusted-service-user/cluster-env/env/lib/python3.10/site-packages (from azureml-core~=1.57.0->azureml-widgets) (21.3)\nRequirement already satisfied: humanfriendly<11.0,>=4.7 in /home/trusted-service-user/cluster-env/env/lib/python3.10/site-packages (from azureml-core~=1.57.0->azureml-widgets) (10.0)\nRequirement already satisfied: paramiko<4.0.0,>=2.0.8 in /home/trusted-service-user/cluster-env/env/lib/python3.10/site-packages (from azureml-core~=1.57.0->azureml-widgets) (2.12.0)\nRequirement already satisfied: pytz in /home/trusted-service-user/cluster-env/env/lib/python3.10/site-packages (from azureml-core~=1.57.0->azureml-widgets) (2022.6)\nRequirement already satisfied: azure-mgmt-storage<=22.0.0,>=16.0.0 in /home/trusted-service-user/cluster-env/env/lib/python3.10/site-packages (from azureml-core~=1.57.0->azureml-widgets) (20.1.0)\nRequirement already satisfied: pyopenssl<25.0.0 in /home/trusted-service-user/cluster-env/env/lib/python3.10/site-packages (from azureml-core~=1.57.0->azureml-widgets) (22.1.0)\nRequirement already satisfied: azure-mgmt-keyvault<11.0.0,>=0.40.0 in /home/trusted-service-user/cluster-env/env/lib/python3.10/site-packages (from azureml-core~=1.57.0->azureml-widgets) (10.1.0)\nRequirement already satisfied: azure-mgmt-authorization<5,>=0.40.0 in /home/trusted-service-user/cluster-env/env/lib/python3.10/site-packages (from azureml-core~=1.57.0->azureml-widgets) (2.0.0)\nRequirement already satisfied: pkginfo in /home/trusted-service-user/cluster-env/env/lib/python3.10/site-packages (from azureml-core~=1.57.0->azureml-widgets) (1.8.3)\nRequirement already satisfied: urllib3<3.0.0,>1.26.17 in /nfs4/pyenv-525bb166-fc19-4c39-bec6-1e96d4e3df1d/lib/python3.10/site-packages (from azureml-core~=1.57.0->azureml-widgets) (1.26.20)\nRequirement already satisfied: ndg-httpsclient<=0.5.1 in /home/trusted-service-user/cluster-env/env/lib/python3.10/site-packages (from azureml-core~=1.57.0->azureml-widgets) (0.5.1)\nRequirement already satisfied: azure-mgmt-resource<=24.0.0,>=15.0.0 in /home/trusted-service-user/cluster-env/env/lib/python3.10/site-packages (from azureml-core~=1.57.0->azureml-widgets) (21.2.1)\nRequirement already satisfied: PyJWT<3.0.0 in /home/trusted-service-user/cluster-env/env/lib/python3.10/site-packages (from azureml-core~=1.57.0->azureml-widgets) (2.6.0)\nRequirement already satisfied: python-dateutil<3.0.0,>=2.7.3 in /home/trusted-service-user/cluster-env/env/lib/python3.10/site-packages (from azureml-core~=1.57.0->azureml-widgets) (2.8.2)\nRequirement already satisfied: jmespath<2.0.0 in /nfs4/pyenv-525bb166-fc19-4c39-bec6-1e96d4e3df1d/lib/python3.10/site-packages (from azureml-core~=1.57.0->azureml-widgets) (0.10.0)\nRequirement already satisfied: azure-common<2.0.0,>=1.1.12 in /home/trusted-service-user/cluster-env/env/lib/python3.10/site-packages (from azureml-core~=1.57.0->azureml-widgets) (1.1.28)\nRequirement already satisfied: applicationinsights in /home/trusted-service-user/cluster-env/env/lib/python3.10/site-packages (from azureml-telemetry~=1.57.0->azureml-widgets) (0.11.10)\nRequirement already satisfied: traitlets>=4.3.1 in /home/trusted-service-user/cluster-env/env/lib/python3.10/site-packages (from ipywidgets<8.0.0,>=7.0.0->azureml-widgets) (5.5.0)\nRequirement already satisfied: widgetsnbextension~=3.6.0 in /home/trusted-service-user/cluster-env/env/lib/python3.10/site-packages (from ipywidgets<8.0.0,>=7.0.0->azureml-widgets) (3.6.1)\nRequirement already satisfied: ipython-genutils~=0.2.0 in /home/trusted-service-user/cluster-env/env/lib/python3.10/site-packages (from ipywidgets<8.0.0,>=7.0.0->azureml-widgets) (0.2.0)\nRequirement already satisfied: jupyterlab-widgets>=1.0.0 in /home/trusted-service-user/cluster-env/env/lib/python3.10/site-packages (from ipywidgets<8.0.0,>=7.0.0->azureml-widgets) (3.0.3)\nRequirement already satisfied: nbformat>=4.2.0 in /home/trusted-service-user/cluster-env/env/lib/python3.10/site-packages (from ipywidgets<8.0.0,>=7.0.0->azureml-widgets) (5.7.0)\nRequirement already satisfied: ipython>=4.0.0 in /home/trusted-service-user/cluster-env/env/lib/python3.10/site-packages (from ipywidgets<8.0.0,>=7.0.0->azureml-widgets) (8.6.0)\nRequirement already satisfied: ipykernel>=4.5.1 in /nfs4/pyenv-525bb166-fc19-4c39-bec6-1e96d4e3df1d/lib/python3.10/site-packages (from ipywidgets<8.0.0,>=7.0.0->azureml-widgets) (6.29.5)\nRequirement already satisfied: MarkupSafe>=2.0 in /home/trusted-service-user/cluster-env/env/lib/python3.10/site-packages (from jinja2<4.0->azureml-widgets) (2.1.1)\nRequirement already satisfied: typing-extensions>=4.6.0 in /nfs4/pyenv-525bb166-fc19-4c39-bec6-1e96d4e3df1d/lib/python3.10/site-packages (from azure-core<2.0.0,>=1.24.2->azure-storage-blob>=12.6.0->azureml-widgets) (4.12.2)\nRequirement already satisfied: six>=1.11.0 in /home/trusted-service-user/cluster-env/env/lib/python3.10/site-packages (from azure-core<2.0.0,>=1.24.2->azure-storage-blob>=12.6.0->azureml-widgets) (1.16.0)\nRequirement already satisfied: azure-mgmt-core<2.0.0,>=1.2.0 in /home/trusted-service-user/cluster-env/env/lib/python3.10/site-packages (from azure-mgmt-authorization<5,>=0.40.0->azureml-core~=1.57.0->azureml-widgets) (1.3.2)\nRequirement already satisfied: isodate>=0.6.1 in /nfs4/pyenv-525bb166-fc19-4c39-bec6-1e96d4e3df1d/lib/python3.10/site-packages (from azure-mgmt-network<=26.0.0->azureml-core~=1.57.0->azureml-widgets) (0.7.2)\nRequirement already satisfied: cffi>=1.12 in /home/trusted-service-user/cluster-env/env/lib/python3.10/site-packages (from cryptography>=2.1.4->azure-storage-blob>=12.6.0->azureml-widgets) (1.15.1)\nRequirement already satisfied: websocket-client>=0.32.0 in /home/trusted-service-user/cluster-env/env/lib/python3.10/site-packages (from docker<8.0.0->azureml-core~=1.57.0->azureml-widgets) (1.4.2)\nRequirement already satisfied: matplotlib-inline>=0.1 in /home/trusted-service-user/cluster-env/env/lib/python3.10/site-packages (from ipykernel>=4.5.1->ipywidgets<8.0.0,>=7.0.0->azureml-widgets) (0.1.6)\nRequirement already satisfied: jupyter-core!=5.0.*,>=4.12 in /nfs4/pyenv-525bb166-fc19-4c39-bec6-1e96d4e3df1d/lib/python3.10/site-packages (from ipykernel>=4.5.1->ipywidgets<8.0.0,>=7.0.0->azureml-widgets) (5.7.2)\nRequirement already satisfied: jupyter-client>=6.1.12 in /home/trusted-service-user/cluster-env/env/lib/python3.10/site-packages (from ipykernel>=4.5.1->ipywidgets<8.0.0,>=7.0.0->azureml-widgets) (7.4.4)\nRequirement already satisfied: psutil in /nfs4/pyenv-525bb166-fc19-4c39-bec6-1e96d4e3df1d/lib/python3.10/site-packages (from ipykernel>=4.5.1->ipywidgets<8.0.0,>=7.0.0->azureml-widgets) (5.9.3)\nRequirement already satisfied: pyzmq>=24 in /home/trusted-service-user/cluster-env/env/lib/python3.10/site-packages (from ipykernel>=4.5.1->ipywidgets<8.0.0,>=7.0.0->azureml-widgets) (24.0.1)\nRequirement already satisfied: comm>=0.1.1 in /nfs4/pyenv-525bb166-fc19-4c39-bec6-1e96d4e3df1d/lib/python3.10/site-packages (from ipykernel>=4.5.1->ipywidgets<8.0.0,>=7.0.0->azureml-widgets) (0.2.2)\nRequirement already satisfied: debugpy>=1.6.5 in /nfs4/pyenv-525bb166-fc19-4c39-bec6-1e96d4e3df1d/lib/python3.10/site-packages (from ipykernel>=4.5.1->ipywidgets<8.0.0,>=7.0.0->azureml-widgets) (1.8.7)\nRequirement already satisfied: tornado>=6.1 in /home/trusted-service-user/cluster-env/env/lib/python3.10/site-packages (from ipykernel>=4.5.1->ipywidgets<8.0.0,>=7.0.0->azureml-widgets) (6.2)\nRequirement already satisfied: nest-asyncio in /home/trusted-service-user/cluster-env/env/lib/python3.10/site-packages (from ipykernel>=4.5.1->ipywidgets<8.0.0,>=7.0.0->azureml-widgets) (1.5.6)\nRequirement already satisfied: prompt-toolkit<3.1.0,>3.0.1 in /home/trusted-service-user/cluster-env/env/lib/python3.10/site-packages (from ipython>=4.0.0->ipywidgets<8.0.0,>=7.0.0->azureml-widgets) (3.0.32)\nRequirement already satisfied: pygments>=2.4.0 in /home/trusted-service-user/cluster-env/env/lib/python3.10/site-packages (from ipython>=4.0.0->ipywidgets<8.0.0,>=7.0.0->azureml-widgets) (2.13.0)\nRequirement already satisfied: pexpect>4.3 in /home/trusted-service-user/cluster-env/env/lib/python3.10/site-packages (from ipython>=4.0.0->ipywidgets<8.0.0,>=7.0.0->azureml-widgets) (4.8.0)\nRequirement already satisfied: stack-data in /home/trusted-service-user/cluster-env/env/lib/python3.10/site-packages (from ipython>=4.0.0->ipywidgets<8.0.0,>=7.0.0->azureml-widgets) (0.6.0)\nRequirement already satisfied: backcall in /home/trusted-service-user/cluster-env/env/lib/python3.10/site-packages (from ipython>=4.0.0->ipywidgets<8.0.0,>=7.0.0->azureml-widgets) (0.2.0)\nRequirement already satisfied: decorator in /home/trusted-service-user/cluster-env/env/lib/python3.10/site-packages (from ipython>=4.0.0->ipywidgets<8.0.0,>=7.0.0->azureml-widgets) (5.1.1)\nRequirement already satisfied: pickleshare in /home/trusted-service-user/cluster-env/env/lib/python3.10/site-packages (from ipython>=4.0.0->ipywidgets<8.0.0,>=7.0.0->azureml-widgets) (0.7.5)\nRequirement already satisfied: jedi>=0.16 in /home/trusted-service-user/cluster-env/env/lib/python3.10/site-packages (from ipython>=4.0.0->ipywidgets<8.0.0,>=7.0.0->azureml-widgets) (0.18.1)\nRequirement already satisfied: tabulate in /home/trusted-service-user/cluster-env/env/lib/python3.10/site-packages (from knack<0.12.0->azureml-core~=1.57.0->azureml-widgets) (0.9.0)\nRequirement already satisfied: pyyaml in /home/trusted-service-user/cluster-env/env/lib/python3.10/site-packages (from knack<0.12.0->azureml-core~=1.57.0->azureml-widgets) (6.0)\nRequirement already satisfied: portalocker<3,>=1.0 in /home/trusted-service-user/cluster-env/env/lib/python3.10/site-packages (from msal-extensions<=2.0.0,>=0.3.0->azureml-core~=1.57.0->azureml-widgets) (2.6.0)\nRequirement already satisfied: requests-oauthlib>=0.5.0 in /home/trusted-service-user/cluster-env/env/lib/python3.10/site-packages (from msrest>=0.7.1->azure-storage-blob>=12.6.0->azureml-widgets) (1.3.1)\nRequirement already satisfied: certifi>=2017.4.17 in /home/trusted-service-user/cluster-env/env/lib/python3.10/site-packages (from msrest>=0.7.1->azure-storage-blob>=12.6.0->azureml-widgets) (2022.9.24)\nRequirement already satisfied: fastjsonschema in /home/trusted-service-user/cluster-env/env/lib/python3.10/site-packages (from nbformat>=4.2.0->ipywidgets<8.0.0,>=7.0.0->azureml-widgets) (2.16.2)\nRequirement already satisfied: jsonschema>=2.6 in /home/trusted-service-user/cluster-env/env/lib/python3.10/site-packages (from nbformat>=4.2.0->ipywidgets<8.0.0,>=7.0.0->azureml-widgets) (4.17.0)\nRequirement already satisfied: pyasn1>=0.1.1 in /home/trusted-service-user/cluster-env/env/lib/python3.10/site-packages (from ndg-httpsclient<=0.5.1->azureml-core~=1.57.0->azureml-widgets) (0.4.8)\nRequirement already satisfied: pyparsing!=3.0.5,>=2.0.2 in /home/trusted-service-user/cluster-env/env/lib/python3.10/site-packages (from packaging<=25.0,>=20.0->azureml-core~=1.57.0->azureml-widgets) (3.0.9)\nRequirement already satisfied: bcrypt>=3.1.3 in /home/trusted-service-user/cluster-env/env/lib/python3.10/site-packages (from paramiko<4.0.0,>=2.0.8->azureml-core~=1.57.0->azureml-widgets) (4.0.1)\nRequirement already satisfied: pynacl>=1.0.1 in /home/trusted-service-user/cluster-env/env/lib/python3.10/site-packages (from paramiko<4.0.0,>=2.0.8->azureml-core~=1.57.0->azureml-widgets) (1.5.0)\nRequirement already satisfied: charset-normalizer<3,>=2 in /home/trusted-service-user/cluster-env/env/lib/python3.10/site-packages (from requests[socks]<3.0.0,>=2.19.1->azureml-core~=1.57.0->azureml-widgets) (2.1.1)\nRequirement already satisfied: idna<4,>=2.5 in /home/trusted-service-user/cluster-env/env/lib/python3.10/site-packages (from requests[socks]<3.0.0,>=2.19.1->azureml-core~=1.57.0->azureml-widgets) (3.4)\nRequirement already satisfied: PySocks!=1.5.7,>=1.5.6 in /home/trusted-service-user/cluster-env/env/lib/python3.10/site-packages (from requests[socks]<3.0.0,>=2.19.1->azureml-core~=1.57.0->azureml-widgets) (1.7.1)\nRequirement already satisfied: jeepney>=0.6 in /home/trusted-service-user/cluster-env/env/lib/python3.10/site-packages (from SecretStorage<4.0.0->azureml-core~=1.57.0->azureml-widgets) (0.8.0)\nRequirement already satisfied: notebook>=4.4.1 in /home/trusted-service-user/cluster-env/env/lib/python3.10/site-packages (from widgetsnbextension~=3.6.0->ipywidgets<8.0.0,>=7.0.0->azureml-widgets) (6.5.2)\nRequirement already satisfied: backports.weakref in /home/trusted-service-user/cluster-env/env/lib/python3.10/site-packages (from backports.tempfile->azureml-core~=1.57.0->azureml-widgets) (1.0.post1)\nRequirement already satisfied: pycparser in /home/trusted-service-user/cluster-env/env/lib/python3.10/site-packages (from cffi>=1.12->cryptography>=2.1.4->azure-storage-blob>=12.6.0->azureml-widgets) (2.21)\nRequirement already satisfied: parso<0.9.0,>=0.8.0 in /home/trusted-service-user/cluster-env/env/lib/python3.10/site-packages (from jedi>=0.16->ipython>=4.0.0->ipywidgets<8.0.0,>=7.0.0->azureml-widgets) (0.8.3)\nRequirement already satisfied: attrs>=17.4.0 in /home/trusted-service-user/cluster-env/env/lib/python3.10/site-packages (from jsonschema>=2.6->nbformat>=4.2.0->ipywidgets<8.0.0,>=7.0.0->azureml-widgets) (22.1.0)\nRequirement already satisfied: pyrsistent!=0.17.0,!=0.17.1,!=0.17.2,>=0.14.0 in /home/trusted-service-user/cluster-env/env/lib/python3.10/site-packages (from jsonschema>=2.6->nbformat>=4.2.0->ipywidgets<8.0.0,>=7.0.0->azureml-widgets) (0.19.2)\nRequirement already satisfied: entrypoints in /home/trusted-service-user/cluster-env/env/lib/python3.10/site-packages (from jupyter-client>=6.1.12->ipykernel>=4.5.1->ipywidgets<8.0.0,>=7.0.0->azureml-widgets) (0.4)\nRequirement already satisfied: platformdirs>=2.5 in /home/trusted-service-user/cluster-env/env/lib/python3.10/site-packages (from jupyter-core!=5.0.*,>=4.12->ipykernel>=4.5.1->ipywidgets<8.0.0,>=7.0.0->azureml-widgets) (2.5.3)\nRequirement already satisfied: nbconvert>=5 in /home/trusted-service-user/cluster-env/env/lib/python3.10/site-packages (from notebook>=4.4.1->widgetsnbextension~=3.6.0->ipywidgets<8.0.0,>=7.0.0->azureml-widgets) (7.2.3)\nRequirement already satisfied: nbclassic>=0.4.7 in /home/trusted-service-user/cluster-env/env/lib/python3.10/site-packages (from notebook>=4.4.1->widgetsnbextension~=3.6.0->ipywidgets<8.0.0,>=7.0.0->azureml-widgets) (0.4.8)\nRequirement already satisfied: argon2-cffi in /home/trusted-service-user/cluster-env/env/lib/python3.10/site-packages (from notebook>=4.4.1->widgetsnbextension~=3.6.0->ipywidgets<8.0.0,>=7.0.0->azureml-widgets) (21.3.0)\nRequirement already satisfied: Send2Trash>=1.8.0 in /home/trusted-service-user/cluster-env/env/lib/python3.10/site-packages (from notebook>=4.4.1->widgetsnbextension~=3.6.0->ipywidgets<8.0.0,>=7.0.0->azureml-widgets) (1.8.0)\nRequirement already satisfied: terminado>=0.8.3 in /home/trusted-service-user/cluster-env/env/lib/python3.10/site-packages (from notebook>=4.4.1->widgetsnbextension~=3.6.0->ipywidgets<8.0.0,>=7.0.0->azureml-widgets) (0.17.0)\nRequirement already satisfied: prometheus-client in /home/trusted-service-user/cluster-env/env/lib/python3.10/site-packages (from notebook>=4.4.1->widgetsnbextension~=3.6.0->ipywidgets<8.0.0,>=7.0.0->azureml-widgets) (0.15.0)\nRequirement already satisfied: ptyprocess>=0.5 in /home/trusted-service-user/cluster-env/env/lib/python3.10/site-packages (from pexpect>4.3->ipython>=4.0.0->ipywidgets<8.0.0,>=7.0.0->azureml-widgets) (0.7.0)\nRequirement already satisfied: wcwidth in /home/trusted-service-user/cluster-env/env/lib/python3.10/site-packages (from prompt-toolkit<3.1.0,>3.0.1->ipython>=4.0.0->ipywidgets<8.0.0,>=7.0.0->azureml-widgets) (0.2.5)\nRequirement already satisfied: oauthlib>=3.0.0 in /home/trusted-service-user/cluster-env/env/lib/python3.10/site-packages (from requests-oauthlib>=0.5.0->msrest>=0.7.1->azure-storage-blob>=12.6.0->azureml-widgets) (3.2.2)\nRequirement already satisfied: pure-eval in /home/trusted-service-user/cluster-env/env/lib/python3.10/site-packages (from stack-data->ipython>=4.0.0->ipywidgets<8.0.0,>=7.0.0->azureml-widgets) (0.2.2)\nRequirement already satisfied: executing>=1.2.0 in /home/trusted-service-user/cluster-env/env/lib/python3.10/site-packages (from stack-data->ipython>=4.0.0->ipywidgets<8.0.0,>=7.0.0->azureml-widgets) (1.2.0)\nRequirement already satisfied: asttokens>=2.1.0 in /home/trusted-service-user/cluster-env/env/lib/python3.10/site-packages (from stack-data->ipython>=4.0.0->ipywidgets<8.0.0,>=7.0.0->azureml-widgets) (2.1.0)\nRequirement already satisfied: jupyter-server>=1.8 in /home/trusted-service-user/cluster-env/env/lib/python3.10/site-packages (from nbclassic>=0.4.7->notebook>=4.4.1->widgetsnbextension~=3.6.0->ipywidgets<8.0.0,>=7.0.0->azureml-widgets) (1.23.0)\nRequirement already satisfied: notebook-shim>=0.1.0 in /home/trusted-service-user/cluster-env/env/lib/python3.10/site-packages (from nbclassic>=0.4.7->notebook>=4.4.1->widgetsnbextension~=3.6.0->ipywidgets<8.0.0,>=7.0.0->azureml-widgets) (0.2.2)\nRequirement already satisfied: jupyterlab-pygments in /home/trusted-service-user/cluster-env/env/lib/python3.10/site-packages (from nbconvert>=5->notebook>=4.4.1->widgetsnbextension~=3.6.0->ipywidgets<8.0.0,>=7.0.0->azureml-widgets) (0.2.2)\nRequirement already satisfied: mistune<3,>=2.0.3 in /home/trusted-service-user/cluster-env/env/lib/python3.10/site-packages (from nbconvert>=5->notebook>=4.4.1->widgetsnbextension~=3.6.0->ipywidgets<8.0.0,>=7.0.0->azureml-widgets) (2.0.4)\nRequirement already satisfied: nbclient>=0.5.0 in /home/trusted-service-user/cluster-env/env/lib/python3.10/site-packages (from nbconvert>=5->notebook>=4.4.1->widgetsnbextension~=3.6.0->ipywidgets<8.0.0,>=7.0.0->azureml-widgets) (0.7.0)\nRequirement already satisfied: pandocfilters>=1.4.1 in /home/trusted-service-user/cluster-env/env/lib/python3.10/site-packages (from nbconvert>=5->notebook>=4.4.1->widgetsnbextension~=3.6.0->ipywidgets<8.0.0,>=7.0.0->azureml-widgets) (1.5.0)\nRequirement already satisfied: defusedxml in /home/trusted-service-user/cluster-env/env/lib/python3.10/site-packages (from nbconvert>=5->notebook>=4.4.1->widgetsnbextension~=3.6.0->ipywidgets<8.0.0,>=7.0.0->azureml-widgets) (0.7.1)\nRequirement already satisfied: bleach in /home/trusted-service-user/cluster-env/env/lib/python3.10/site-packages (from nbconvert>=5->notebook>=4.4.1->widgetsnbextension~=3.6.0->ipywidgets<8.0.0,>=7.0.0->azureml-widgets) (5.0.1)\nRequirement already satisfied: tinycss2 in /home/trusted-service-user/cluster-env/env/lib/python3.10/site-packages (from nbconvert>=5->notebook>=4.4.1->widgetsnbextension~=3.6.0->ipywidgets<8.0.0,>=7.0.0->azureml-widgets) (1.2.1)\nRequirement already satisfied: beautifulsoup4 in /home/trusted-service-user/cluster-env/env/lib/python3.10/site-packages (from nbconvert>=5->notebook>=4.4.1->widgetsnbextension~=3.6.0->ipywidgets<8.0.0,>=7.0.0->azureml-widgets) (4.9.3)\nRequirement already satisfied: argon2-cffi-bindings in /home/trusted-service-user/cluster-env/env/lib/python3.10/site-packages (from argon2-cffi->notebook>=4.4.1->widgetsnbextension~=3.6.0->ipywidgets<8.0.0,>=7.0.0->azureml-widgets) (21.2.0)\nRequirement already satisfied: anyio<4,>=3.1.0 in /home/trusted-service-user/cluster-env/env/lib/python3.10/site-packages (from jupyter-server>=1.8->nbclassic>=0.4.7->notebook>=4.4.1->widgetsnbextension~=3.6.0->ipywidgets<8.0.0,>=7.0.0->azureml-widgets) (3.6.2)\nRequirement already satisfied: soupsieve>1.2 in /home/trusted-service-user/cluster-env/env/lib/python3.10/site-packages (from beautifulsoup4->nbconvert>=5->notebook>=4.4.1->widgetsnbextension~=3.6.0->ipywidgets<8.0.0,>=7.0.0->azureml-widgets) (2.3.2.post1)\nRequirement already satisfied: webencodings in /home/trusted-service-user/cluster-env/env/lib/python3.10/site-packages (from bleach->nbconvert>=5->notebook>=4.4.1->widgetsnbextension~=3.6.0->ipywidgets<8.0.0,>=7.0.0->azureml-widgets) (0.5.1)\nRequirement already satisfied: sniffio>=1.1 in /home/trusted-service-user/cluster-env/env/lib/python3.10/site-packages (from anyio<4,>=3.1.0->jupyter-server>=1.8->nbclassic>=0.4.7->notebook>=4.4.1->widgetsnbextension~=3.6.0->ipywidgets<8.0.0,>=7.0.0->azureml-widgets) (1.3.0)\n\u001b[33mWARNING: You are using pip version 22.0.4; however, version 24.2 is available.\nYou should consider upgrading via the '/nfs4/pyenv-525bb166-fc19-4c39-bec6-1e96d4e3df1d/bin/python -m pip install --upgrade pip' command.\u001b[0m\u001b[33m\n\u001b[0mNote: you may need to restart the kernel to use updated packages.\nCollecting xgboost==1.5.0\n  Downloading xgboost-1.5.0-py3-none-manylinux2014_x86_64.whl (173.5 MB)\n\u001b[2K     \u001b[90m━━━━━━━━━━━━━━━━━━━━━━━━━━━━━━━━━━━━━━━\u001b[0m \u001b[32m173.5/173.5 MB\u001b[0m \u001b[31m9.3 MB/s\u001b[0m eta \u001b[36m0:00:00\u001b[0m00:01\u001b[0m00:01\u001b[0m\n\u001b[?25hRequirement already satisfied: scipy in /home/trusted-service-user/cluster-env/env/lib/python3.10/site-packages (from xgboost==1.5.0) (1.9.3)\nRequirement already satisfied: numpy in /home/trusted-service-user/cluster-env/env/lib/python3.10/site-packages (from xgboost==1.5.0) (1.23.4)\nInstalling collected packages: xgboost\n  Attempting uninstall: xgboost\n    Found existing installation: xgboost 1.7.1\n    Not uninstalling xgboost at /home/trusted-service-user/cluster-env/env/lib/python3.10/site-packages, outside environment /nfs4/pyenv-525bb166-fc19-4c39-bec6-1e96d4e3df1d\n    Can't uninstall 'xgboost'. No files were found to uninstall.\nSuccessfully installed xgboost-1.5.0\n\u001b[33mWARNING: You are using pip version 22.0.4; however, version 24.2 is available.\nYou should consider upgrading via the '/nfs4/pyenv-525bb166-fc19-4c39-bec6-1e96d4e3df1d/bin/python -m pip install --upgrade pip' command.\u001b[0m\u001b[33m\n\u001b[0mNote: you may need to restart the kernel to use updated packages.\nRequirement already satisfied: azureml-sdk[automl,notebooks] in /nfs4/pyenv-525bb166-fc19-4c39-bec6-1e96d4e3df1d/lib/python3.10/site-packages (1.57.0)\nRequirement already satisfied: azureml-train-core~=1.57.0 in /nfs4/pyenv-525bb166-fc19-4c39-bec6-1e96d4e3df1d/lib/python3.10/site-packages (from azureml-sdk[automl,notebooks]) (1.57.0)\nRequirement already satisfied: azureml-dataset-runtime[fuse]~=1.57.0 in /nfs4/pyenv-525bb166-fc19-4c39-bec6-1e96d4e3df1d/lib/python3.10/site-packages (from azureml-sdk[automl,notebooks]) (1.57.0)\nRequirement already satisfied: azureml-core~=1.57.0 in /nfs4/pyenv-525bb166-fc19-4c39-bec6-1e96d4e3df1d/lib/python3.10/site-packages (from azureml-sdk[automl,notebooks]) (1.57.0.post3)\nRequirement already satisfied: azureml-pipeline~=1.57.0 in /nfs4/pyenv-525bb166-fc19-4c39-bec6-1e96d4e3df1d/lib/python3.10/site-packages (from azureml-sdk[automl,notebooks]) (1.57.0)\nRequirement already satisfied: azureml-train-automl-client~=1.57.0 in /nfs4/pyenv-525bb166-fc19-4c39-bec6-1e96d4e3df1d/lib/python3.10/site-packages (from azureml-sdk[automl,notebooks]) (1.57.0)\nRequirement already satisfied: azureml-train-automl~=1.57.0 in /nfs4/pyenv-525bb166-fc19-4c39-bec6-1e96d4e3df1d/lib/python3.10/site-packages (from azureml-sdk[automl,notebooks]) (1.57.0)\nRequirement already satisfied: azureml-contrib-notebook~=1.57.0 in /nfs4/pyenv-525bb166-fc19-4c39-bec6-1e96d4e3df1d/lib/python3.10/site-packages (from azureml-sdk[automl,notebooks]) (1.57.0)\nRequirement already satisfied: azureml-widgets~=1.57.0 in /nfs4/pyenv-525bb166-fc19-4c39-bec6-1e96d4e3df1d/lib/python3.10/site-packages (from azureml-sdk[automl,notebooks]) (1.57.0)\nRequirement already satisfied: ipython in /home/trusted-service-user/cluster-env/env/lib/python3.10/site-packages (from azureml-contrib-notebook~=1.57.0->azureml-sdk[automl,notebooks]) (8.6.0)\nRequirement already satisfied: ipykernel in /nfs4/pyenv-525bb166-fc19-4c39-bec6-1e96d4e3df1d/lib/python3.10/site-packages (from azureml-contrib-notebook~=1.57.0->azureml-sdk[automl,notebooks]) (6.29.5)\nRequirement already satisfied: jupyter-client<8 in /home/trusted-service-user/cluster-env/env/lib/python3.10/site-packages (from azureml-contrib-notebook~=1.57.0->azureml-sdk[automl,notebooks]) (7.4.4)\nRequirement already satisfied: azureml-pipeline-core~=1.57.0 in /nfs4/pyenv-525bb166-fc19-4c39-bec6-1e96d4e3df1d/lib/python3.10/site-packages (from azureml-contrib-notebook~=1.57.0->azureml-sdk[automl,notebooks]) (1.57.0)\nRequirement already satisfied: papermill<3 in /nfs4/pyenv-525bb166-fc19-4c39-bec6-1e96d4e3df1d/lib/python3.10/site-packages (from azureml-contrib-notebook~=1.57.0->azureml-sdk[automl,notebooks]) (2.6.0)\nRequirement already satisfied: nbconvert<8 in /home/trusted-service-user/cluster-env/env/lib/python3.10/site-packages (from azureml-contrib-notebook~=1.57.0->azureml-sdk[automl,notebooks]) (7.2.3)\nRequirement already satisfied: pathspec<1.0.0 in /home/trusted-service-user/cluster-env/env/lib/python3.10/site-packages (from azureml-core~=1.57.0->azureml-sdk[automl,notebooks]) (0.10.1)\nRequirement already satisfied: backports.tempfile in /home/trusted-service-user/cluster-env/env/lib/python3.10/site-packages (from azureml-core~=1.57.0->azureml-sdk[automl,notebooks]) (1.0)\nRequirement already satisfied: paramiko<4.0.0,>=2.0.8 in /home/trusted-service-user/cluster-env/env/lib/python3.10/site-packages (from azureml-core~=1.57.0->azureml-sdk[automl,notebooks]) (2.12.0)\nRequirement already satisfied: msal-extensions<=2.0.0,>=0.3.0 in /nfs4/pyenv-525bb166-fc19-4c39-bec6-1e96d4e3df1d/lib/python3.10/site-packages (from azureml-core~=1.57.0->azureml-sdk[automl,notebooks]) (0.3.1)\nRequirement already satisfied: azure-common<2.0.0,>=1.1.12 in /home/trusted-service-user/cluster-env/env/lib/python3.10/site-packages (from azureml-core~=1.57.0->azureml-sdk[automl,notebooks]) (1.1.28)\nRequirement already satisfied: python-dateutil<3.0.0,>=2.7.3 in /home/trusted-service-user/cluster-env/env/lib/python3.10/site-packages (from azureml-core~=1.57.0->azureml-sdk[automl,notebooks]) (2.8.2)\nRequirement already satisfied: ndg-httpsclient<=0.5.1 in /home/trusted-service-user/cluster-env/env/lib/python3.10/site-packages (from azureml-core~=1.57.0->azureml-sdk[automl,notebooks]) (0.5.1)\nRequirement already satisfied: packaging<=25.0,>=20.0 in /home/trusted-service-user/cluster-env/env/lib/python3.10/site-packages (from azureml-core~=1.57.0->azureml-sdk[automl,notebooks]) (21.3)\nRequirement already satisfied: humanfriendly<11.0,>=4.7 in /home/trusted-service-user/cluster-env/env/lib/python3.10/site-packages (from azureml-core~=1.57.0->azureml-sdk[automl,notebooks]) (10.0)\nRequirement already satisfied: azure-graphrbac<1.0.0,>=0.40.0 in /home/trusted-service-user/cluster-env/env/lib/python3.10/site-packages (from azureml-core~=1.57.0->azureml-sdk[automl,notebooks]) (0.61.1)\nRequirement already satisfied: azure-mgmt-network<=26.0.0 in /nfs4/pyenv-525bb166-fc19-4c39-bec6-1e96d4e3df1d/lib/python3.10/site-packages (from azureml-core~=1.57.0->azureml-sdk[automl,notebooks]) (26.0.0)\nRequirement already satisfied: msal<2.0.0,>=1.15.0 in /home/trusted-service-user/cluster-env/env/lib/python3.10/site-packages (from azureml-core~=1.57.0->azureml-sdk[automl,notebooks]) (1.18.0)\nRequirement already satisfied: adal<=1.2.7,>=1.2.0 in /home/trusted-service-user/cluster-env/env/lib/python3.10/site-packages (from azureml-core~=1.57.0->azureml-sdk[automl,notebooks]) (1.2.7)\nRequirement already satisfied: msrestazure<=0.7,>=0.4.33 in /home/trusted-service-user/cluster-env/env/lib/python3.10/site-packages (from azureml-core~=1.57.0->azureml-sdk[automl,notebooks]) (0.6.4)\nRequirement already satisfied: azure-mgmt-resource<=24.0.0,>=15.0.0 in /home/trusted-service-user/cluster-env/env/lib/python3.10/site-packages (from azureml-core~=1.57.0->azureml-sdk[automl,notebooks]) (21.2.1)\nRequirement already satisfied: knack<0.12.0 in /home/trusted-service-user/cluster-env/env/lib/python3.10/site-packages (from azureml-core~=1.57.0->azureml-sdk[automl,notebooks]) (0.10.0)\nRequirement already satisfied: pyopenssl<25.0.0 in /home/trusted-service-user/cluster-env/env/lib/python3.10/site-packages (from azureml-core~=1.57.0->azureml-sdk[automl,notebooks]) (22.1.0)\nRequirement already satisfied: msrest<=0.7.1,>=0.5.1 in /home/trusted-service-user/cluster-env/env/lib/python3.10/site-packages (from azureml-core~=1.57.0->azureml-sdk[automl,notebooks]) (0.7.1)\nRequirement already satisfied: azure-mgmt-authorization<5,>=0.40.0 in /home/trusted-service-user/cluster-env/env/lib/python3.10/site-packages (from azureml-core~=1.57.0->azureml-sdk[automl,notebooks]) (2.0.0)\nRequirement already satisfied: jmespath<2.0.0 in /nfs4/pyenv-525bb166-fc19-4c39-bec6-1e96d4e3df1d/lib/python3.10/site-packages (from azureml-core~=1.57.0->azureml-sdk[automl,notebooks]) (0.10.0)\nRequirement already satisfied: jsonpickle<4.0.0 in /home/trusted-service-user/cluster-env/env/lib/python3.10/site-packages (from azureml-core~=1.57.0->azureml-sdk[automl,notebooks]) (2.2.0)\nRequirement already satisfied: PyJWT<3.0.0 in /home/trusted-service-user/cluster-env/env/lib/python3.10/site-packages (from azureml-core~=1.57.0->azureml-sdk[automl,notebooks]) (2.6.0)\nRequirement already satisfied: argcomplete<4 in /home/trusted-service-user/cluster-env/env/lib/python3.10/site-packages (from azureml-core~=1.57.0->azureml-sdk[automl,notebooks]) (2.0.0)\nRequirement already satisfied: SecretStorage<4.0.0 in /home/trusted-service-user/cluster-env/env/lib/python3.10/site-packages (from azureml-core~=1.57.0->azureml-sdk[automl,notebooks]) (3.3.3)\nRequirement already satisfied: contextlib2<22.0.0 in /home/trusted-service-user/cluster-env/env/lib/python3.10/site-packages (from azureml-core~=1.57.0->azureml-sdk[automl,notebooks]) (21.6.0)\nRequirement already satisfied: requests[socks]<3.0.0,>=2.19.1 in /home/trusted-service-user/cluster-env/env/lib/python3.10/site-packages (from azureml-core~=1.57.0->azureml-sdk[automl,notebooks]) (2.28.1)\nRequirement already satisfied: docker<8.0.0 in /home/trusted-service-user/cluster-env/env/lib/python3.10/site-packages (from azureml-core~=1.57.0->azureml-sdk[automl,notebooks]) (6.0.1)\nRequirement already satisfied: pytz in /home/trusted-service-user/cluster-env/env/lib/python3.10/site-packages (from azureml-core~=1.57.0->azureml-sdk[automl,notebooks]) (2022.6)\nRequirement already satisfied: azure-core<2.0.0 in /nfs4/pyenv-525bb166-fc19-4c39-bec6-1e96d4e3df1d/lib/python3.10/site-packages (from azureml-core~=1.57.0->azureml-sdk[automl,notebooks]) (1.31.0)\nRequirement already satisfied: azure-mgmt-storage<=22.0.0,>=16.0.0 in /home/trusted-service-user/cluster-env/env/lib/python3.10/site-packages (from azureml-core~=1.57.0->azureml-sdk[automl,notebooks]) (20.1.0)\nRequirement already satisfied: pkginfo in /home/trusted-service-user/cluster-env/env/lib/python3.10/site-packages (from azureml-core~=1.57.0->azureml-sdk[automl,notebooks]) (1.8.3)\nRequirement already satisfied: azure-mgmt-containerregistry<11,>=8.2.0 in /home/trusted-service-user/cluster-env/env/lib/python3.10/site-packages (from azureml-core~=1.57.0->azureml-sdk[automl,notebooks]) (10.0.0)\nRequirement already satisfied: azure-mgmt-keyvault<11.0.0,>=0.40.0 in /home/trusted-service-user/cluster-env/env/lib/python3.10/site-packages (from azureml-core~=1.57.0->azureml-sdk[automl,notebooks]) (10.1.0)\nRequirement already satisfied: urllib3<3.0.0,>1.26.17 in /nfs4/pyenv-525bb166-fc19-4c39-bec6-1e96d4e3df1d/lib/python3.10/site-packages (from azureml-core~=1.57.0->azureml-sdk[automl,notebooks]) (1.26.20)\nRequirement already satisfied: azureml-dataprep<5.2.0a,>=5.1.0a in /nfs4/pyenv-525bb166-fc19-4c39-bec6-1e96d4e3df1d/lib/python3.10/site-packages (from azureml-dataset-runtime[fuse]~=1.57.0->azureml-sdk[automl,notebooks]) (5.1.6)\nRequirement already satisfied: pyarrow>=0.17.0 in /nfs4/pyenv-525bb166-fc19-4c39-bec6-1e96d4e3df1d/lib/python3.10/site-packages (from azureml-dataset-runtime[fuse]~=1.57.0->azureml-sdk[automl,notebooks]) (14.0.2)\nRequirement already satisfied: numpy!=1.19.3,<1.24 in /home/trusted-service-user/cluster-env/env/lib/python3.10/site-packages (from azureml-dataset-runtime[fuse]~=1.57.0->azureml-sdk[automl,notebooks]) (1.23.4)\nRequirement already satisfied: fusepy<4.0.0,>=3.0.1 in /home/trusted-service-user/cluster-env/env/lib/python3.10/site-packages (from azureml-dataset-runtime[fuse]~=1.57.0->azureml-sdk[automl,notebooks]) (3.0.1)\nRequirement already satisfied: azureml-pipeline-steps~=1.57.0 in /nfs4/pyenv-525bb166-fc19-4c39-bec6-1e96d4e3df1d/lib/python3.10/site-packages (from azureml-pipeline~=1.57.0->azureml-sdk[automl,notebooks]) (1.57.0)\nRequirement already satisfied: azureml-responsibleai~=1.57.0 in /nfs4/pyenv-525bb166-fc19-4c39-bec6-1e96d4e3df1d/lib/python3.10/site-packages (from azureml-train-automl~=1.57.0->azureml-sdk[automl,notebooks]) (1.57.0)\nRequirement already satisfied: azureml-automl-core~=1.57.0 in /nfs4/pyenv-525bb166-fc19-4c39-bec6-1e96d4e3df1d/lib/python3.10/site-packages (from azureml-train-automl~=1.57.0->azureml-sdk[automl,notebooks]) (1.57.0)\nRequirement already satisfied: azureml-train-automl-runtime~=1.57.0 in /nfs4/pyenv-525bb166-fc19-4c39-bec6-1e96d4e3df1d/lib/python3.10/site-packages (from azureml-train-automl~=1.57.0->azureml-sdk[automl,notebooks]) (1.57.0)\nRequirement already satisfied: azureml-automl-runtime~=1.57.0 in /nfs4/pyenv-525bb166-fc19-4c39-bec6-1e96d4e3df1d/lib/python3.10/site-packages (from azureml-train-automl~=1.57.0->azureml-sdk[automl,notebooks]) (1.57.0)\nRequirement already satisfied: azureml-telemetry~=1.57.0 in /nfs4/pyenv-525bb166-fc19-4c39-bec6-1e96d4e3df1d/lib/python3.10/site-packages (from azureml-train-automl-client~=1.57.0->azureml-sdk[automl,notebooks]) (1.57.0)\nRequirement already satisfied: azureml-train-restclients-hyperdrive~=1.57.0 in /nfs4/pyenv-525bb166-fc19-4c39-bec6-1e96d4e3df1d/lib/python3.10/site-packages (from azureml-train-core~=1.57.0->azureml-sdk[automl,notebooks]) (1.57.0)\nRequirement already satisfied: jinja2<4.0 in /home/trusted-service-user/cluster-env/env/lib/python3.10/site-packages (from azureml-widgets~=1.57.0->azureml-sdk[automl,notebooks]) (3.1.2)\nRequirement already satisfied: azure-storage-blob>=12.6.0 in /home/trusted-service-user/cluster-env/env/lib/python3.10/site-packages (from azureml-widgets~=1.57.0->azureml-sdk[automl,notebooks]) (12.14.1)\nRequirement already satisfied: ipywidgets<8.0.0,>=7.0.0 in /home/trusted-service-user/cluster-env/env/lib/python3.10/site-packages (from azureml-widgets~=1.57.0->azureml-sdk[automl,notebooks]) (7.7.0)\nRequirement already satisfied: cryptography>=1.1.0 in /home/trusted-service-user/cluster-env/env/lib/python3.10/site-packages (from adal<=1.2.7,>=1.2.0->azureml-core~=1.57.0->azureml-sdk[automl,notebooks]) (38.0.3)\nRequirement already satisfied: six>=1.11.0 in /home/trusted-service-user/cluster-env/env/lib/python3.10/site-packages (from azure-core<2.0.0->azureml-core~=1.57.0->azureml-sdk[automl,notebooks]) (1.16.0)\nRequirement already satisfied: typing-extensions>=4.6.0 in /nfs4/pyenv-525bb166-fc19-4c39-bec6-1e96d4e3df1d/lib/python3.10/site-packages (from azure-core<2.0.0->azureml-core~=1.57.0->azureml-sdk[automl,notebooks]) (4.12.2)\nRequirement already satisfied: azure-mgmt-core<2.0.0,>=1.2.0 in /home/trusted-service-user/cluster-env/env/lib/python3.10/site-packages (from azure-mgmt-authorization<5,>=0.40.0->azureml-core~=1.57.0->azureml-sdk[automl,notebooks]) (1.3.2)\nRequirement already satisfied: isodate>=0.6.1 in /nfs4/pyenv-525bb166-fc19-4c39-bec6-1e96d4e3df1d/lib/python3.10/site-packages (from azure-mgmt-network<=26.0.0->azureml-core~=1.57.0->azureml-sdk[automl,notebooks]) (0.7.2)\nRequirement already satisfied: importlib-resources<=6.4.0 in /nfs4/pyenv-525bb166-fc19-4c39-bec6-1e96d4e3df1d/lib/python3.10/site-packages (from azureml-automl-core~=1.57.0->azureml-train-automl~=1.57.0->azureml-sdk[automl,notebooks]) (6.4.0)\nRequirement already satisfied: importlib-metadata<=8.2.0 in /home/trusted-service-user/cluster-env/env/lib/python3.10/site-packages (from azureml-automl-core~=1.57.0->azureml-train-automl~=1.57.0->azureml-sdk[automl,notebooks]) (5.0.0)\nRequirement already satisfied: pandas==1.3.5 in /nfs4/pyenv-525bb166-fc19-4c39-bec6-1e96d4e3df1d/lib/python3.10/site-packages (from azureml-automl-runtime~=1.57.0->azureml-train-automl~=1.57.0->azureml-sdk[automl,notebooks]) (1.3.5)\nRequirement already satisfied: psutil<5.9.4,>=5.2.2 in /nfs4/pyenv-525bb166-fc19-4c39-bec6-1e96d4e3df1d/lib/python3.10/site-packages (from azureml-automl-runtime~=1.57.0->azureml-train-automl~=1.57.0->azureml-sdk[automl,notebooks]) (5.9.3)\nRequirement already satisfied: dotnetcore2<4.0.0,>=3.0.0 in /home/trusted-service-user/cluster-env/env/lib/python3.10/site-packages (from azureml-automl-runtime~=1.57.0->azureml-train-automl~=1.57.0->azureml-sdk[automl,notebooks]) (3.1.23)\nRequirement already satisfied: arch<=5.6.0 in /nfs4/pyenv-525bb166-fc19-4c39-bec6-1e96d4e3df1d/lib/python3.10/site-packages (from azureml-automl-runtime~=1.57.0->azureml-train-automl~=1.57.0->azureml-sdk[automl,notebooks]) (5.6.0)\nRequirement already satisfied: skl2onnx==1.15.0 in /nfs4/pyenv-525bb166-fc19-4c39-bec6-1e96d4e3df1d/lib/python3.10/site-packages (from azureml-automl-runtime~=1.57.0->azureml-train-automl~=1.57.0->azureml-sdk[automl,notebooks]) (1.15.0)\nRequirement already satisfied: onnxconverter-common==1.13.0 in /nfs4/pyenv-525bb166-fc19-4c39-bec6-1e96d4e3df1d/lib/python3.10/site-packages (from azureml-automl-runtime~=1.57.0->azureml-train-automl~=1.57.0->azureml-sdk[automl,notebooks]) (1.13.0)\nRequirement already satisfied: protobuf<=3.20.3 in /nfs4/pyenv-525bb166-fc19-4c39-bec6-1e96d4e3df1d/lib/python3.10/site-packages (from azureml-automl-runtime~=1.57.0->azureml-train-automl~=1.57.0->azureml-sdk[automl,notebooks]) (3.20.3)\nRequirement already satisfied: statsmodels<0.14,>=0.13.0 in /home/trusted-service-user/cluster-env/env/lib/python3.10/site-packages (from azureml-automl-runtime~=1.57.0->azureml-train-automl~=1.57.0->azureml-sdk[automl,notebooks]) (0.13.5)\nRequirement already satisfied: smart-open==6.4.0 in /nfs4/pyenv-525bb166-fc19-4c39-bec6-1e96d4e3df1d/lib/python3.10/site-packages (from azureml-automl-runtime~=1.57.0->azureml-train-automl~=1.57.0->azureml-sdk[automl,notebooks]) (6.4.0)\nRequirement already satisfied: pmdarima==1.8.5 in /nfs4/pyenv-525bb166-fc19-4c39-bec6-1e96d4e3df1d/lib/python3.10/site-packages (from azureml-automl-runtime~=1.57.0->azureml-train-automl~=1.57.0->azureml-sdk[automl,notebooks]) (1.8.5)\nRequirement already satisfied: botocore<=1.23.19 in /nfs4/pyenv-525bb166-fc19-4c39-bec6-1e96d4e3df1d/lib/python3.10/site-packages (from azureml-automl-runtime~=1.57.0->azureml-train-automl~=1.57.0->azureml-sdk[automl,notebooks]) (1.23.19)\nRequirement already satisfied: keras2onnx<=1.6.0,>=1.4.0 in /nfs4/pyenv-525bb166-fc19-4c39-bec6-1e96d4e3df1d/lib/python3.10/site-packages (from azureml-automl-runtime~=1.57.0->azureml-train-automl~=1.57.0->azureml-sdk[automl,notebooks]) (1.6.0)\nRequirement already satisfied: joblib==1.2.0 in /home/trusted-service-user/cluster-env/env/lib/python3.10/site-packages (from azureml-automl-runtime~=1.57.0->azureml-train-automl~=1.57.0->azureml-sdk[automl,notebooks]) (1.2.0)\nRequirement already satisfied: gensim==4.3.2 in /nfs4/pyenv-525bb166-fc19-4c39-bec6-1e96d4e3df1d/lib/python3.10/site-packages (from azureml-automl-runtime~=1.57.0->azureml-train-automl~=1.57.0->azureml-sdk[automl,notebooks]) (4.3.2)\nRequirement already satisfied: dill<0.4.0,>=0.2.8 in /home/trusted-service-user/cluster-env/env/lib/python3.10/site-packages (from azureml-automl-runtime~=1.57.0->azureml-train-automl~=1.57.0->azureml-sdk[automl,notebooks]) (0.3.6)\nRequirement already satisfied: azureml-training-tabular~=1.57.0 in /nfs4/pyenv-525bb166-fc19-4c39-bec6-1e96d4e3df1d/lib/python3.10/site-packages (from azureml-automl-runtime~=1.57.0->azureml-train-automl~=1.57.0->azureml-sdk[automl,notebooks]) (1.57.0.post1)\nRequirement already satisfied: sklearn-pandas<=1.7.0,>=1.4.0 in /nfs4/pyenv-525bb166-fc19-4c39-bec6-1e96d4e3df1d/lib/python3.10/site-packages (from azureml-automl-runtime~=1.57.0->azureml-train-automl~=1.57.0->azureml-sdk[automl,notebooks]) (1.7.0)\nRequirement already satisfied: scipy<=1.11.0,>=1.0.0 in /home/trusted-service-user/cluster-env/env/lib/python3.10/site-packages (from azureml-automl-runtime~=1.57.0->azureml-train-automl~=1.57.0->azureml-sdk[automl,notebooks]) (1.9.3)\nRequirement already satisfied: lightgbm<=3.2.1,>=3.0.0 in /home/trusted-service-user/cluster-env/env/lib/python3.10/site-packages (from azureml-automl-runtime~=1.57.0->azureml-train-automl~=1.57.0->azureml-sdk[automl,notebooks]) (3.2.1)\nRequirement already satisfied: boto3<=1.20.19 in /nfs4/pyenv-525bb166-fc19-4c39-bec6-1e96d4e3df1d/lib/python3.10/site-packages (from azureml-automl-runtime~=1.57.0->azureml-train-automl~=1.57.0->azureml-sdk[automl,notebooks]) (1.20.19)\nRequirement already satisfied: dataclasses<=0.8,>=0.6 in /nfs4/pyenv-525bb166-fc19-4c39-bec6-1e96d4e3df1d/lib/python3.10/site-packages (from azureml-automl-runtime~=1.57.0->azureml-train-automl~=1.57.0->azureml-sdk[automl,notebooks]) (0.6)\nRequirement already satisfied: onnxruntime~=1.17.3 in /nfs4/pyenv-525bb166-fc19-4c39-bec6-1e96d4e3df1d/lib/python3.10/site-packages (from azureml-automl-runtime~=1.57.0->azureml-train-automl~=1.57.0->azureml-sdk[automl,notebooks]) (1.17.3)\nRequirement already satisfied: scikit-learn~=1.5.1 in /nfs4/pyenv-525bb166-fc19-4c39-bec6-1e96d4e3df1d/lib/python3.10/site-packages (from azureml-automl-runtime~=1.57.0->azureml-train-automl~=1.57.0->azureml-sdk[automl,notebooks]) (1.5.1)\nRequirement already satisfied: onnx==1.16.1 in /nfs4/pyenv-525bb166-fc19-4c39-bec6-1e96d4e3df1d/lib/python3.10/site-packages (from azureml-automl-runtime~=1.57.0->azureml-train-automl~=1.57.0->azureml-sdk[automl,notebooks]) (1.16.1)\nRequirement already satisfied: onnxmltools==1.11.2 in /nfs4/pyenv-525bb166-fc19-4c39-bec6-1e96d4e3df1d/lib/python3.10/site-packages (from azureml-automl-runtime~=1.57.0->azureml-train-automl~=1.57.0->azureml-sdk[automl,notebooks]) (1.11.2)\nRequirement already satisfied: Cython!=0.29.18,>=0.29 in /home/trusted-service-user/cluster-env/env/lib/python3.10/site-packages (from pmdarima==1.8.5->azureml-automl-runtime~=1.57.0->azureml-train-automl~=1.57.0->azureml-sdk[automl,notebooks]) (0.29.32)\nRequirement already satisfied: setuptools!=50.0.0,>=38.6.0 in /home/trusted-service-user/cluster-env/env/lib/python3.10/site-packages (from pmdarima==1.8.5->azureml-automl-runtime~=1.57.0->azureml-train-automl~=1.57.0->azureml-sdk[automl,notebooks]) (65.5.1)\nRequirement already satisfied: jsonschema in /home/trusted-service-user/cluster-env/env/lib/python3.10/site-packages (from azureml-dataprep<5.2.0a,>=5.1.0a->azureml-dataset-runtime[fuse]~=1.57.0->azureml-sdk[automl,notebooks]) (4.17.0)\nRequirement already satisfied: cloudpickle<3.0.0,>=1.1.0 in /home/trusted-service-user/cluster-env/env/lib/python3.10/site-packages (from azureml-dataprep<5.2.0a,>=5.1.0a->azureml-dataset-runtime[fuse]~=1.57.0->azureml-sdk[automl,notebooks]) (2.2.0)\nRequirement already satisfied: pyyaml<7.0.0,>=5.1.0 in /home/trusted-service-user/cluster-env/env/lib/python3.10/site-packages (from azureml-dataprep<5.2.0a,>=5.1.0a->azureml-dataset-runtime[fuse]~=1.57.0->azureml-sdk[automl,notebooks]) (6.0)\nRequirement already satisfied: azureml-dataprep-rslex~=2.22.2dev0 in /nfs4/pyenv-525bb166-fc19-4c39-bec6-1e96d4e3df1d/lib/python3.10/site-packages (from azureml-dataprep<5.2.0a,>=5.1.0a->azureml-dataset-runtime[fuse]~=1.57.0->azureml-sdk[automl,notebooks]) (2.22.4)\nRequirement already satisfied: azure-identity>=1.7.0 in /home/trusted-service-user/cluster-env/env/lib/python3.10/site-packages (from azureml-dataprep<5.2.0a,>=5.1.0a->azureml-dataset-runtime[fuse]~=1.57.0->azureml-sdk[automl,notebooks]) (1.7.0)\nRequirement already satisfied: azureml-dataprep-native<42.0.0,>=41.0.0 in /nfs4/pyenv-525bb166-fc19-4c39-bec6-1e96d4e3df1d/lib/python3.10/site-packages (from azureml-dataprep<5.2.0a,>=5.1.0a->azureml-dataset-runtime[fuse]~=1.57.0->azureml-sdk[automl,notebooks]) (41.0.0)\nRequirement already satisfied: responsibleai==0.36.0 in /nfs4/pyenv-525bb166-fc19-4c39-bec6-1e96d4e3df1d/lib/python3.10/site-packages (from azureml-responsibleai~=1.57.0->azureml-train-automl~=1.57.0->azureml-sdk[automl,notebooks]) (0.36.0)\nRequirement already satisfied: fairlearn==0.7.0 in /nfs4/pyenv-525bb166-fc19-4c39-bec6-1e96d4e3df1d/lib/python3.10/site-packages (from azureml-responsibleai~=1.57.0->azureml-train-automl~=1.57.0->azureml-sdk[automl,notebooks]) (0.7.0)\nRequirement already satisfied: azureml-interpret~=1.57.0 in /nfs4/pyenv-525bb166-fc19-4c39-bec6-1e96d4e3df1d/lib/python3.10/site-packages (from azureml-responsibleai~=1.57.0->azureml-train-automl~=1.57.0->azureml-sdk[automl,notebooks]) (1.57.0)\nRequirement already satisfied: numba<=0.58.1 in /home/trusted-service-user/cluster-env/env/lib/python3.10/site-packages (from responsibleai==0.36.0->azureml-responsibleai~=1.57.0->azureml-train-automl~=1.57.0->azureml-sdk[automl,notebooks]) (0.56.3)\nRequirement already satisfied: ml-wrappers in /nfs4/pyenv-525bb166-fc19-4c39-bec6-1e96d4e3df1d/lib/python3.10/site-packages (from responsibleai==0.36.0->azureml-responsibleai~=1.57.0->azureml-train-automl~=1.57.0->azureml-sdk[automl,notebooks]) (0.5.6)\nRequirement already satisfied: econml>=0.14.1 in /nfs4/pyenv-525bb166-fc19-4c39-bec6-1e96d4e3df1d/lib/python3.10/site-packages (from responsibleai==0.36.0->azureml-responsibleai~=1.57.0->azureml-train-automl~=1.57.0->azureml-sdk[automl,notebooks]) (0.15.1)\nRequirement already satisfied: networkx<=2.5 in /nfs4/pyenv-525bb166-fc19-4c39-bec6-1e96d4e3df1d/lib/python3.10/site-packages (from responsibleai==0.36.0->azureml-responsibleai~=1.57.0->azureml-train-automl~=1.57.0->azureml-sdk[automl,notebooks]) (2.5)\nRequirement already satisfied: interpret-community>=0.31.0 in /nfs4/pyenv-525bb166-fc19-4c39-bec6-1e96d4e3df1d/lib/python3.10/site-packages (from responsibleai==0.36.0->azureml-responsibleai~=1.57.0->azureml-train-automl~=1.57.0->azureml-sdk[automl,notebooks]) (0.31.0)\nRequirement already satisfied: raiutils>=0.4.2 in /nfs4/pyenv-525bb166-fc19-4c39-bec6-1e96d4e3df1d/lib/python3.10/site-packages (from responsibleai==0.36.0->azureml-responsibleai~=1.57.0->azureml-train-automl~=1.57.0->azureml-sdk[automl,notebooks]) (0.4.2)\nRequirement already satisfied: erroranalysis>=0.5.4 in /nfs4/pyenv-525bb166-fc19-4c39-bec6-1e96d4e3df1d/lib/python3.10/site-packages (from responsibleai==0.36.0->azureml-responsibleai~=1.57.0->azureml-train-automl~=1.57.0->azureml-sdk[automl,notebooks]) (0.5.4)\nRequirement already satisfied: semver~=2.13.0 in /nfs4/pyenv-525bb166-fc19-4c39-bec6-1e96d4e3df1d/lib/python3.10/site-packages (from responsibleai==0.36.0->azureml-responsibleai~=1.57.0->azureml-train-automl~=1.57.0->azureml-sdk[automl,notebooks]) (2.13.0)\nRequirement already satisfied: dice-ml<0.12,>=0.11 in /nfs4/pyenv-525bb166-fc19-4c39-bec6-1e96d4e3df1d/lib/python3.10/site-packages (from responsibleai==0.36.0->azureml-responsibleai~=1.57.0->azureml-train-automl~=1.57.0->azureml-sdk[automl,notebooks]) (0.11)\nRequirement already satisfied: applicationinsights in /home/trusted-service-user/cluster-env/env/lib/python3.10/site-packages (from azureml-telemetry~=1.57.0->azureml-train-automl-client~=1.57.0->azureml-sdk[automl,notebooks]) (0.11.10)\nRequirement already satisfied: azure-storage-queue~=12.1 in /nfs4/pyenv-525bb166-fc19-4c39-bec6-1e96d4e3df1d/lib/python3.10/site-packages (from azureml-train-automl-runtime~=1.57.0->azureml-train-automl~=1.57.0->azureml-sdk[automl,notebooks]) (12.12.0)\nRequirement already satisfied: dask[complete]<=2023.2.0 in /nfs4/pyenv-525bb166-fc19-4c39-bec6-1e96d4e3df1d/lib/python3.10/site-packages (from azureml-train-automl-runtime~=1.57.0->azureml-train-automl~=1.57.0->azureml-sdk[automl,notebooks]) (2023.2.0)\nRequirement already satisfied: azureml-mlflow~=1.57.0 in /nfs4/pyenv-525bb166-fc19-4c39-bec6-1e96d4e3df1d/lib/python3.10/site-packages (from azureml-train-automl-runtime~=1.57.0->azureml-train-automl~=1.57.0->azureml-sdk[automl,notebooks]) (1.57.0.post1)\nRequirement already satisfied: bokeh<3.0.0 in /nfs4/pyenv-525bb166-fc19-4c39-bec6-1e96d4e3df1d/lib/python3.10/site-packages (from azureml-train-automl-runtime~=1.57.0->azureml-train-automl~=1.57.0->azureml-sdk[automl,notebooks]) (2.4.3)\nRequirement already satisfied: websocket-client>=0.32.0 in /home/trusted-service-user/cluster-env/env/lib/python3.10/site-packages (from docker<8.0.0->azureml-core~=1.57.0->azureml-sdk[automl,notebooks]) (1.4.2)\nRequirement already satisfied: matplotlib-inline>=0.1 in /home/trusted-service-user/cluster-env/env/lib/python3.10/site-packages (from ipykernel->azureml-contrib-notebook~=1.57.0->azureml-sdk[automl,notebooks]) (0.1.6)\nRequirement already satisfied: comm>=0.1.1 in /nfs4/pyenv-525bb166-fc19-4c39-bec6-1e96d4e3df1d/lib/python3.10/site-packages (from ipykernel->azureml-contrib-notebook~=1.57.0->azureml-sdk[automl,notebooks]) (0.2.2)\nRequirement already satisfied: debugpy>=1.6.5 in /nfs4/pyenv-525bb166-fc19-4c39-bec6-1e96d4e3df1d/lib/python3.10/site-packages (from ipykernel->azureml-contrib-notebook~=1.57.0->azureml-sdk[automl,notebooks]) (1.8.7)\nRequirement already satisfied: jupyter-core!=5.0.*,>=4.12 in /nfs4/pyenv-525bb166-fc19-4c39-bec6-1e96d4e3df1d/lib/python3.10/site-packages (from ipykernel->azureml-contrib-notebook~=1.57.0->azureml-sdk[automl,notebooks]) (5.7.2)\nRequirement already satisfied: traitlets>=5.4.0 in /home/trusted-service-user/cluster-env/env/lib/python3.10/site-packages (from ipykernel->azureml-contrib-notebook~=1.57.0->azureml-sdk[automl,notebooks]) (5.5.0)\nRequirement already satisfied: nest-asyncio in /home/trusted-service-user/cluster-env/env/lib/python3.10/site-packages (from ipykernel->azureml-contrib-notebook~=1.57.0->azureml-sdk[automl,notebooks]) (1.5.6)\nRequirement already satisfied: tornado>=6.1 in /home/trusted-service-user/cluster-env/env/lib/python3.10/site-packages (from ipykernel->azureml-contrib-notebook~=1.57.0->azureml-sdk[automl,notebooks]) (6.2)\nRequirement already satisfied: pyzmq>=24 in /home/trusted-service-user/cluster-env/env/lib/python3.10/site-packages (from ipykernel->azureml-contrib-notebook~=1.57.0->azureml-sdk[automl,notebooks]) (24.0.1)\nRequirement already satisfied: pygments>=2.4.0 in /home/trusted-service-user/cluster-env/env/lib/python3.10/site-packages (from ipython->azureml-contrib-notebook~=1.57.0->azureml-sdk[automl,notebooks]) (2.13.0)\nRequirement already satisfied: decorator in /home/trusted-service-user/cluster-env/env/lib/python3.10/site-packages (from ipython->azureml-contrib-notebook~=1.57.0->azureml-sdk[automl,notebooks]) (5.1.1)\nRequirement already satisfied: jedi>=0.16 in /home/trusted-service-user/cluster-env/env/lib/python3.10/site-packages (from ipython->azureml-contrib-notebook~=1.57.0->azureml-sdk[automl,notebooks]) (0.18.1)\nRequirement already satisfied: prompt-toolkit<3.1.0,>3.0.1 in /home/trusted-service-user/cluster-env/env/lib/python3.10/site-packages (from ipython->azureml-contrib-notebook~=1.57.0->azureml-sdk[automl,notebooks]) (3.0.32)\nRequirement already satisfied: stack-data in /home/trusted-service-user/cluster-env/env/lib/python3.10/site-packages (from ipython->azureml-contrib-notebook~=1.57.0->azureml-sdk[automl,notebooks]) (0.6.0)\nRequirement already satisfied: pexpect>4.3 in /home/trusted-service-user/cluster-env/env/lib/python3.10/site-packages (from ipython->azureml-contrib-notebook~=1.57.0->azureml-sdk[automl,notebooks]) (4.8.0)\nRequirement already satisfied: backcall in /home/trusted-service-user/cluster-env/env/lib/python3.10/site-packages (from ipython->azureml-contrib-notebook~=1.57.0->azureml-sdk[automl,notebooks]) (0.2.0)\nRequirement already satisfied: pickleshare in /home/trusted-service-user/cluster-env/env/lib/python3.10/site-packages (from ipython->azureml-contrib-notebook~=1.57.0->azureml-sdk[automl,notebooks]) (0.7.5)\nRequirement already satisfied: nbformat>=4.2.0 in /home/trusted-service-user/cluster-env/env/lib/python3.10/site-packages (from ipywidgets<8.0.0,>=7.0.0->azureml-widgets~=1.57.0->azureml-sdk[automl,notebooks]) (5.7.0)\nRequirement already satisfied: ipython-genutils~=0.2.0 in /home/trusted-service-user/cluster-env/env/lib/python3.10/site-packages (from ipywidgets<8.0.0,>=7.0.0->azureml-widgets~=1.57.0->azureml-sdk[automl,notebooks]) (0.2.0)\nRequirement already satisfied: widgetsnbextension~=3.6.0 in /home/trusted-service-user/cluster-env/env/lib/python3.10/site-packages (from ipywidgets<8.0.0,>=7.0.0->azureml-widgets~=1.57.0->azureml-sdk[automl,notebooks]) (3.6.1)\nRequirement already satisfied: jupyterlab-widgets>=1.0.0 in /home/trusted-service-user/cluster-env/env/lib/python3.10/site-packages (from ipywidgets<8.0.0,>=7.0.0->azureml-widgets~=1.57.0->azureml-sdk[automl,notebooks]) (3.0.3)\nRequirement already satisfied: MarkupSafe>=2.0 in /home/trusted-service-user/cluster-env/env/lib/python3.10/site-packages (from jinja2<4.0->azureml-widgets~=1.57.0->azureml-sdk[automl,notebooks]) (2.1.1)\nRequirement already satisfied: entrypoints in /home/trusted-service-user/cluster-env/env/lib/python3.10/site-packages (from jupyter-client<8->azureml-contrib-notebook~=1.57.0->azureml-sdk[automl,notebooks]) (0.4)\nRequirement already satisfied: tabulate in /home/trusted-service-user/cluster-env/env/lib/python3.10/site-packages (from knack<0.12.0->azureml-core~=1.57.0->azureml-sdk[automl,notebooks]) (0.9.0)\nRequirement already satisfied: portalocker<3,>=1.0 in /home/trusted-service-user/cluster-env/env/lib/python3.10/site-packages (from msal-extensions<=2.0.0,>=0.3.0->azureml-core~=1.57.0->azureml-sdk[automl,notebooks]) (2.6.0)\nRequirement already satisfied: requests-oauthlib>=0.5.0 in /home/trusted-service-user/cluster-env/env/lib/python3.10/site-packages (from msrest<=0.7.1,>=0.5.1->azureml-core~=1.57.0->azureml-sdk[automl,notebooks]) (1.3.1)\nRequirement already satisfied: certifi>=2017.4.17 in /home/trusted-service-user/cluster-env/env/lib/python3.10/site-packages (from msrest<=0.7.1,>=0.5.1->azureml-core~=1.57.0->azureml-sdk[automl,notebooks]) (2022.9.24)\nRequirement already satisfied: tinycss2 in /home/trusted-service-user/cluster-env/env/lib/python3.10/site-packages (from nbconvert<8->azureml-contrib-notebook~=1.57.0->azureml-sdk[automl,notebooks]) (1.2.1)\nRequirement already satisfied: nbclient>=0.5.0 in /home/trusted-service-user/cluster-env/env/lib/python3.10/site-packages (from nbconvert<8->azureml-contrib-notebook~=1.57.0->azureml-sdk[automl,notebooks]) (0.7.0)\nRequirement already satisfied: pandocfilters>=1.4.1 in /home/trusted-service-user/cluster-env/env/lib/python3.10/site-packages (from nbconvert<8->azureml-contrib-notebook~=1.57.0->azureml-sdk[automl,notebooks]) (1.5.0)\nRequirement already satisfied: jupyterlab-pygments in /home/trusted-service-user/cluster-env/env/lib/python3.10/site-packages (from nbconvert<8->azureml-contrib-notebook~=1.57.0->azureml-sdk[automl,notebooks]) (0.2.2)\nRequirement already satisfied: bleach in /home/trusted-service-user/cluster-env/env/lib/python3.10/site-packages (from nbconvert<8->azureml-contrib-notebook~=1.57.0->azureml-sdk[automl,notebooks]) (5.0.1)\nRequirement already satisfied: mistune<3,>=2.0.3 in /home/trusted-service-user/cluster-env/env/lib/python3.10/site-packages (from nbconvert<8->azureml-contrib-notebook~=1.57.0->azureml-sdk[automl,notebooks]) (2.0.4)\nRequirement already satisfied: beautifulsoup4 in /home/trusted-service-user/cluster-env/env/lib/python3.10/site-packages (from nbconvert<8->azureml-contrib-notebook~=1.57.0->azureml-sdk[automl,notebooks]) (4.9.3)\nRequirement already satisfied: defusedxml in /home/trusted-service-user/cluster-env/env/lib/python3.10/site-packages (from nbconvert<8->azureml-contrib-notebook~=1.57.0->azureml-sdk[automl,notebooks]) (0.7.1)\nRequirement already satisfied: pyasn1>=0.1.1 in /home/trusted-service-user/cluster-env/env/lib/python3.10/site-packages (from ndg-httpsclient<=0.5.1->azureml-core~=1.57.0->azureml-sdk[automl,notebooks]) (0.4.8)\nRequirement already satisfied: pyparsing!=3.0.5,>=2.0.2 in /home/trusted-service-user/cluster-env/env/lib/python3.10/site-packages (from packaging<=25.0,>=20.0->azureml-core~=1.57.0->azureml-sdk[automl,notebooks]) (3.0.9)\nRequirement already satisfied: click in /home/trusted-service-user/cluster-env/env/lib/python3.10/site-packages (from papermill<3->azureml-contrib-notebook~=1.57.0->azureml-sdk[automl,notebooks]) (8.1.3)\nRequirement already satisfied: ansicolors in /nfs4/pyenv-525bb166-fc19-4c39-bec6-1e96d4e3df1d/lib/python3.10/site-packages (from papermill<3->azureml-contrib-notebook~=1.57.0->azureml-sdk[automl,notebooks]) (1.1.8)\nRequirement already satisfied: tqdm>=4.32.2 in /home/trusted-service-user/cluster-env/env/lib/python3.10/site-packages (from papermill<3->azureml-contrib-notebook~=1.57.0->azureml-sdk[automl,notebooks]) (4.64.1)\nRequirement already satisfied: tenacity>=5.0.2 in /nfs4/pyenv-525bb166-fc19-4c39-bec6-1e96d4e3df1d/lib/python3.10/site-packages (from papermill<3->azureml-contrib-notebook~=1.57.0->azureml-sdk[automl,notebooks]) (9.0.0)\nRequirement already satisfied: bcrypt>=3.1.3 in /home/trusted-service-user/cluster-env/env/lib/python3.10/site-packages (from paramiko<4.0.0,>=2.0.8->azureml-core~=1.57.0->azureml-sdk[automl,notebooks]) (4.0.1)\nRequirement already satisfied: pynacl>=1.0.1 in /home/trusted-service-user/cluster-env/env/lib/python3.10/site-packages (from paramiko<4.0.0,>=2.0.8->azureml-core~=1.57.0->azureml-sdk[automl,notebooks]) (1.5.0)\nRequirement already satisfied: charset-normalizer<3,>=2 in /home/trusted-service-user/cluster-env/env/lib/python3.10/site-packages (from requests[socks]<3.0.0,>=2.19.1->azureml-core~=1.57.0->azureml-sdk[automl,notebooks]) (2.1.1)\nRequirement already satisfied: idna<4,>=2.5 in /home/trusted-service-user/cluster-env/env/lib/python3.10/site-packages (from requests[socks]<3.0.0,>=2.19.1->azureml-core~=1.57.0->azureml-sdk[automl,notebooks]) (3.4)\nRequirement already satisfied: PySocks!=1.5.7,>=1.5.6 in /home/trusted-service-user/cluster-env/env/lib/python3.10/site-packages (from requests[socks]<3.0.0,>=2.19.1->azureml-core~=1.57.0->azureml-sdk[automl,notebooks]) (1.7.1)\nRequirement already satisfied: jeepney>=0.6 in /home/trusted-service-user/cluster-env/env/lib/python3.10/site-packages (from SecretStorage<4.0.0->azureml-core~=1.57.0->azureml-sdk[automl,notebooks]) (0.8.0)\nRequirement already satisfied: backports.weakref in /home/trusted-service-user/cluster-env/env/lib/python3.10/site-packages (from backports.tempfile->azureml-core~=1.57.0->azureml-sdk[automl,notebooks]) (1.0.post1)\nRequirement already satisfied: property-cached>=1.6.4 in /nfs4/pyenv-525bb166-fc19-4c39-bec6-1e96d4e3df1d/lib/python3.10/site-packages (from arch<=5.6.0->azureml-automl-runtime~=1.57.0->azureml-train-automl~=1.57.0->azureml-sdk[automl,notebooks]) (1.6.4)\nRequirement already satisfied: interpret-core<=0.5.0,>=0.1.20 in /nfs4/pyenv-525bb166-fc19-4c39-bec6-1e96d4e3df1d/lib/python3.10/site-packages (from interpret-community>=0.31.0->responsibleai==0.36.0->azureml-responsibleai~=1.57.0->azureml-train-automl~=1.57.0->azureml-sdk[automl,notebooks]) (0.5.0)\nRequirement already satisfied: shap<=0.44.0,>=0.20.0 in /home/trusted-service-user/cluster-env/env/lib/python3.10/site-packages (from interpret-community>=0.31.0->responsibleai==0.36.0->azureml-responsibleai~=1.57.0->azureml-train-automl~=1.57.0->azureml-sdk[automl,notebooks]) (0.39.0)\nRequirement already satisfied: mlflow-skinny in /home/trusted-service-user/cluster-env/env/lib/python3.10/site-packages (from azureml-mlflow~=1.57.0->azureml-train-automl-runtime~=1.57.0->azureml-train-automl~=1.57.0->azureml-sdk[automl,notebooks]) (1.30.0)\nRequirement already satisfied: pillow>=7.1.0 in /home/trusted-service-user/cluster-env/env/lib/python3.10/site-packages (from bokeh<3.0.0->azureml-train-automl-runtime~=1.57.0->azureml-train-automl~=1.57.0->azureml-sdk[automl,notebooks]) (9.2.0)\nRequirement already satisfied: s3transfer<0.6.0,>=0.5.0 in /nfs4/pyenv-525bb166-fc19-4c39-bec6-1e96d4e3df1d/lib/python3.10/site-packages (from boto3<=1.20.19->azureml-automl-runtime~=1.57.0->azureml-train-automl~=1.57.0->azureml-sdk[automl,notebooks]) (0.5.2)\nRequirement already satisfied: cffi>=1.12 in /home/trusted-service-user/cluster-env/env/lib/python3.10/site-packages (from cryptography>=1.1.0->adal<=1.2.7,>=1.2.0->azureml-core~=1.57.0->azureml-sdk[automl,notebooks]) (1.15.1)\nRequirement already satisfied: fsspec>=0.6.0 in /home/trusted-service-user/cluster-env/env/lib/python3.10/site-packages (from dask[complete]<=2023.2.0->azureml-train-automl-runtime~=1.57.0->azureml-train-automl~=1.57.0->azureml-sdk[automl,notebooks]) (2022.10.0)\nRequirement already satisfied: partd>=0.3.10 in /home/trusted-service-user/cluster-env/env/lib/python3.10/site-packages (from dask[complete]<=2023.2.0->azureml-train-automl-runtime~=1.57.0->azureml-train-automl~=1.57.0->azureml-sdk[automl,notebooks]) (1.3.0)\nRequirement already satisfied: toolz>=0.8.2 in /home/trusted-service-user/cluster-env/env/lib/python3.10/site-packages (from dask[complete]<=2023.2.0->azureml-train-automl-runtime~=1.57.0->azureml-train-automl~=1.57.0->azureml-sdk[automl,notebooks]) (0.12.0)\nRequirement already satisfied: distributed==2023.2.0 in /nfs4/pyenv-525bb166-fc19-4c39-bec6-1e96d4e3df1d/lib/python3.10/site-packages (from dask[complete]<=2023.2.0->azureml-train-automl-runtime~=1.57.0->azureml-train-automl~=1.57.0->azureml-sdk[automl,notebooks]) (2023.2.0)\nRequirement already satisfied: tblib>=1.6.0 in /nfs4/pyenv-525bb166-fc19-4c39-bec6-1e96d4e3df1d/lib/python3.10/site-packages (from distributed==2023.2.0->dask[complete]<=2023.2.0->azureml-train-automl-runtime~=1.57.0->azureml-train-automl~=1.57.0->azureml-sdk[automl,notebooks]) (3.0.0)\nRequirement already satisfied: sortedcontainers>=2.0.5 in /nfs4/pyenv-525bb166-fc19-4c39-bec6-1e96d4e3df1d/lib/python3.10/site-packages (from distributed==2023.2.0->dask[complete]<=2023.2.0->azureml-train-automl-runtime~=1.57.0->azureml-train-automl~=1.57.0->azureml-sdk[automl,notebooks]) (2.4.0)\nRequirement already satisfied: zict>=2.1.0 in /nfs4/pyenv-525bb166-fc19-4c39-bec6-1e96d4e3df1d/lib/python3.10/site-packages (from distributed==2023.2.0->dask[complete]<=2023.2.0->azureml-train-automl-runtime~=1.57.0->azureml-train-automl~=1.57.0->azureml-sdk[automl,notebooks]) (3.0.0)\nRequirement already satisfied: msgpack>=1.0.0 in /home/trusted-service-user/cluster-env/env/lib/python3.10/site-packages (from distributed==2023.2.0->dask[complete]<=2023.2.0->azureml-train-automl-runtime~=1.57.0->azureml-train-automl~=1.57.0->azureml-sdk[automl,notebooks]) (1.0.8)\nRequirement already satisfied: locket>=1.0.0 in /home/trusted-service-user/cluster-env/env/lib/python3.10/site-packages (from distributed==2023.2.0->dask[complete]<=2023.2.0->azureml-train-automl-runtime~=1.57.0->azureml-train-automl~=1.57.0->azureml-sdk[automl,notebooks]) (1.0.0)\nRequirement already satisfied: distro>=1.2.0 in /home/trusted-service-user/cluster-env/env/lib/python3.10/site-packages (from dotnetcore2<4.0.0,>=3.0.0->azureml-automl-runtime~=1.57.0->azureml-train-automl~=1.57.0->azureml-sdk[automl,notebooks]) (1.8.0)\nRequirement already satisfied: zipp>=0.5 in /home/trusted-service-user/cluster-env/env/lib/python3.10/site-packages (from importlib-metadata<=8.2.0->azureml-automl-core~=1.57.0->azureml-train-automl~=1.57.0->azureml-sdk[automl,notebooks]) (3.10.0)\nRequirement already satisfied: parso<0.9.0,>=0.8.0 in /home/trusted-service-user/cluster-env/env/lib/python3.10/site-packages (from jedi>=0.16->ipython->azureml-contrib-notebook~=1.57.0->azureml-sdk[automl,notebooks]) (0.8.3)\nRequirement already satisfied: platformdirs>=2.5 in /home/trusted-service-user/cluster-env/env/lib/python3.10/site-packages (from jupyter-core!=5.0.*,>=4.12->ipykernel->azureml-contrib-notebook~=1.57.0->azureml-sdk[automl,notebooks]) (2.5.3)\nRequirement already satisfied: fire in /home/trusted-service-user/cluster-env/env/lib/python3.10/site-packages (from keras2onnx<=1.6.0,>=1.4.0->azureml-automl-runtime~=1.57.0->azureml-train-automl~=1.57.0->azureml-sdk[automl,notebooks]) (0.4.0)\nRequirement already satisfied: wheel in /home/trusted-service-user/cluster-env/env/lib/python3.10/site-packages (from lightgbm<=3.2.1,>=3.0.0->azureml-automl-runtime~=1.57.0->azureml-train-automl~=1.57.0->azureml-sdk[automl,notebooks]) (0.38.3)\nRequirement already satisfied: fastjsonschema in /home/trusted-service-user/cluster-env/env/lib/python3.10/site-packages (from nbformat>=4.2.0->ipywidgets<8.0.0,>=7.0.0->azureml-widgets~=1.57.0->azureml-sdk[automl,notebooks]) (2.16.2)\nRequirement already satisfied: attrs>=17.4.0 in /home/trusted-service-user/cluster-env/env/lib/python3.10/site-packages (from jsonschema->azureml-dataprep<5.2.0a,>=5.1.0a->azureml-dataset-runtime[fuse]~=1.57.0->azureml-sdk[automl,notebooks]) (22.1.0)\nRequirement already satisfied: pyrsistent!=0.17.0,!=0.17.1,!=0.17.2,>=0.14.0 in /home/trusted-service-user/cluster-env/env/lib/python3.10/site-packages (from jsonschema->azureml-dataprep<5.2.0a,>=5.1.0a->azureml-dataset-runtime[fuse]~=1.57.0->azureml-sdk[automl,notebooks]) (0.19.2)\nRequirement already satisfied: sympy in /home/trusted-service-user/cluster-env/env/lib/python3.10/site-packages (from onnxruntime~=1.17.3->azureml-automl-runtime~=1.57.0->azureml-train-automl~=1.57.0->azureml-sdk[automl,notebooks]) (1.11.1)\nRequirement already satisfied: coloredlogs in /home/trusted-service-user/cluster-env/env/lib/python3.10/site-packages (from onnxruntime~=1.17.3->azureml-automl-runtime~=1.57.0->azureml-train-automl~=1.57.0->azureml-sdk[automl,notebooks]) (15.0.1)\nRequirement already satisfied: flatbuffers in /home/trusted-service-user/cluster-env/env/lib/python3.10/site-packages (from onnxruntime~=1.17.3->azureml-automl-runtime~=1.57.0->azureml-train-automl~=1.57.0->azureml-sdk[automl,notebooks]) (2.0)\nRequirement already satisfied: ptyprocess>=0.5 in /home/trusted-service-user/cluster-env/env/lib/python3.10/site-packages (from pexpect>4.3->ipython->azureml-contrib-notebook~=1.57.0->azureml-sdk[automl,notebooks]) (0.7.0)\nRequirement already satisfied: wcwidth in /home/trusted-service-user/cluster-env/env/lib/python3.10/site-packages (from prompt-toolkit<3.1.0,>3.0.1->ipython->azureml-contrib-notebook~=1.57.0->azureml-sdk[automl,notebooks]) (0.2.5)\nRequirement already satisfied: oauthlib>=3.0.0 in /home/trusted-service-user/cluster-env/env/lib/python3.10/site-packages (from requests-oauthlib>=0.5.0->msrest<=0.7.1,>=0.5.1->azureml-core~=1.57.0->azureml-sdk[automl,notebooks]) (3.2.2)\nRequirement already satisfied: threadpoolctl>=3.1.0 in /home/trusted-service-user/cluster-env/env/lib/python3.10/site-packages (from scikit-learn~=1.5.1->azureml-automl-runtime~=1.57.0->azureml-train-automl~=1.57.0->azureml-sdk[automl,notebooks]) (3.1.0)\nRequirement already satisfied: patsy>=0.5.2 in /home/trusted-service-user/cluster-env/env/lib/python3.10/site-packages (from statsmodels<0.14,>=0.13.0->azureml-automl-runtime~=1.57.0->azureml-train-automl~=1.57.0->azureml-sdk[automl,notebooks]) (0.5.3)\nRequirement already satisfied: notebook>=4.4.1 in /home/trusted-service-user/cluster-env/env/lib/python3.10/site-packages (from widgetsnbextension~=3.6.0->ipywidgets<8.0.0,>=7.0.0->azureml-widgets~=1.57.0->azureml-sdk[automl,notebooks]) (6.5.2)\nRequirement already satisfied: soupsieve>1.2 in /home/trusted-service-user/cluster-env/env/lib/python3.10/site-packages (from beautifulsoup4->nbconvert<8->azureml-contrib-notebook~=1.57.0->azureml-sdk[automl,notebooks]) (2.3.2.post1)\nRequirement already satisfied: webencodings in /home/trusted-service-user/cluster-env/env/lib/python3.10/site-packages (from bleach->nbconvert<8->azureml-contrib-notebook~=1.57.0->azureml-sdk[automl,notebooks]) (0.5.1)\nRequirement already satisfied: executing>=1.2.0 in /home/trusted-service-user/cluster-env/env/lib/python3.10/site-packages (from stack-data->ipython->azureml-contrib-notebook~=1.57.0->azureml-sdk[automl,notebooks]) (1.2.0)\nRequirement already satisfied: asttokens>=2.1.0 in /home/trusted-service-user/cluster-env/env/lib/python3.10/site-packages (from stack-data->ipython->azureml-contrib-notebook~=1.57.0->azureml-sdk[automl,notebooks]) (2.1.0)\nRequirement already satisfied: pure-eval in /home/trusted-service-user/cluster-env/env/lib/python3.10/site-packages (from stack-data->ipython->azureml-contrib-notebook~=1.57.0->azureml-sdk[automl,notebooks]) (0.2.2)\nRequirement already satisfied: pycparser in /home/trusted-service-user/cluster-env/env/lib/python3.10/site-packages (from cffi>=1.12->cryptography>=1.1.0->adal<=1.2.7,>=1.2.0->azureml-core~=1.57.0->azureml-sdk[automl,notebooks]) (2.21)\nRequirement already satisfied: sparse in /nfs4/pyenv-525bb166-fc19-4c39-bec6-1e96d4e3df1d/lib/python3.10/site-packages (from econml>=0.14.1->responsibleai==0.36.0->azureml-responsibleai~=1.57.0->azureml-train-automl~=1.57.0->azureml-sdk[automl,notebooks]) (0.15.4)\nRequirement already satisfied: argon2-cffi in /home/trusted-service-user/cluster-env/env/lib/python3.10/site-packages (from notebook>=4.4.1->widgetsnbextension~=3.6.0->ipywidgets<8.0.0,>=7.0.0->azureml-widgets~=1.57.0->azureml-sdk[automl,notebooks]) (21.3.0)\nRequirement already satisfied: Send2Trash>=1.8.0 in /home/trusted-service-user/cluster-env/env/lib/python3.10/site-packages (from notebook>=4.4.1->widgetsnbextension~=3.6.0->ipywidgets<8.0.0,>=7.0.0->azureml-widgets~=1.57.0->azureml-sdk[automl,notebooks]) (1.8.0)\nRequirement already satisfied: nbclassic>=0.4.7 in /home/trusted-service-user/cluster-env/env/lib/python3.10/site-packages (from notebook>=4.4.1->widgetsnbextension~=3.6.0->ipywidgets<8.0.0,>=7.0.0->azureml-widgets~=1.57.0->azureml-sdk[automl,notebooks]) (0.4.8)\nRequirement already satisfied: terminado>=0.8.3 in /home/trusted-service-user/cluster-env/env/lib/python3.10/site-packages (from notebook>=4.4.1->widgetsnbextension~=3.6.0->ipywidgets<8.0.0,>=7.0.0->azureml-widgets~=1.57.0->azureml-sdk[automl,notebooks]) (0.17.0)\nRequirement already satisfied: prometheus-client in /home/trusted-service-user/cluster-env/env/lib/python3.10/site-packages (from notebook>=4.4.1->widgetsnbextension~=3.6.0->ipywidgets<8.0.0,>=7.0.0->azureml-widgets~=1.57.0->azureml-sdk[automl,notebooks]) (0.15.0)\nRequirement already satisfied: llvmlite<0.40,>=0.39.0dev0 in /home/trusted-service-user/cluster-env/env/lib/python3.10/site-packages (from numba<=0.58.1->responsibleai==0.36.0->azureml-responsibleai~=1.57.0->azureml-train-automl~=1.57.0->azureml-sdk[automl,notebooks]) (0.39.1)\nRequirement already satisfied: termcolor in /home/trusted-service-user/cluster-env/env/lib/python3.10/site-packages (from fire->keras2onnx<=1.6.0,>=1.4.0->azureml-automl-runtime~=1.57.0->azureml-train-automl~=1.57.0->azureml-sdk[automl,notebooks]) (2.1.0)\nRequirement already satisfied: sqlparse<1,>=0.4.0 in /home/trusted-service-user/cluster-env/env/lib/python3.10/site-packages (from mlflow-skinny->azureml-mlflow~=1.57.0->azureml-train-automl-runtime~=1.57.0->azureml-train-automl~=1.57.0->azureml-sdk[automl,notebooks]) (0.4.3)\nRequirement already satisfied: databricks-cli<1,>=0.8.7 in /home/trusted-service-user/cluster-env/env/lib/python3.10/site-packages (from mlflow-skinny->azureml-mlflow~=1.57.0->azureml-train-automl-runtime~=1.57.0->azureml-train-automl~=1.57.0->azureml-sdk[automl,notebooks]) (0.17.3)\nRequirement already satisfied: gitpython<4,>=2.1.0 in /home/trusted-service-user/cluster-env/env/lib/python3.10/site-packages (from mlflow-skinny->azureml-mlflow~=1.57.0->azureml-train-automl-runtime~=1.57.0->azureml-train-automl~=1.57.0->azureml-sdk[automl,notebooks]) (3.1.29)\nRequirement already satisfied: mpmath>=0.19 in /home/trusted-service-user/cluster-env/env/lib/python3.10/site-packages (from sympy->onnxruntime~=1.17.3->azureml-automl-runtime~=1.57.0->azureml-train-automl~=1.57.0->azureml-sdk[automl,notebooks]) (1.2.1)\nRequirement already satisfied: gitdb<5,>=4.0.1 in /home/trusted-service-user/cluster-env/env/lib/python3.10/site-packages (from gitpython<4,>=2.1.0->mlflow-skinny->azureml-mlflow~=1.57.0->azureml-train-automl-runtime~=1.57.0->azureml-train-automl~=1.57.0->azureml-sdk[automl,notebooks]) (4.0.9)\nRequirement already satisfied: jupyter-server>=1.8 in /home/trusted-service-user/cluster-env/env/lib/python3.10/site-packages (from nbclassic>=0.4.7->notebook>=4.4.1->widgetsnbextension~=3.6.0->ipywidgets<8.0.0,>=7.0.0->azureml-widgets~=1.57.0->azureml-sdk[automl,notebooks]) (1.23.0)\nRequirement already satisfied: notebook-shim>=0.1.0 in /home/trusted-service-user/cluster-env/env/lib/python3.10/site-packages (from nbclassic>=0.4.7->notebook>=4.4.1->widgetsnbextension~=3.6.0->ipywidgets<8.0.0,>=7.0.0->azureml-widgets~=1.57.0->azureml-sdk[automl,notebooks]) (0.2.2)\nRequirement already satisfied: slicer==0.0.7 in /home/trusted-service-user/cluster-env/env/lib/python3.10/site-packages (from shap<=0.44.0,>=0.20.0->interpret-community>=0.31.0->responsibleai==0.36.0->azureml-responsibleai~=1.57.0->azureml-train-automl~=1.57.0->azureml-sdk[automl,notebooks]) (0.0.7)\nRequirement already satisfied: argon2-cffi-bindings in /home/trusted-service-user/cluster-env/env/lib/python3.10/site-packages (from argon2-cffi->notebook>=4.4.1->widgetsnbextension~=3.6.0->ipywidgets<8.0.0,>=7.0.0->azureml-widgets~=1.57.0->azureml-sdk[automl,notebooks]) (21.2.0)\nRequirement already satisfied: smmap<6,>=3.0.1 in /home/trusted-service-user/cluster-env/env/lib/python3.10/site-packages (from gitdb<5,>=4.0.1->gitpython<4,>=2.1.0->mlflow-skinny->azureml-mlflow~=1.57.0->azureml-train-automl-runtime~=1.57.0->azureml-train-automl~=1.57.0->azureml-sdk[automl,notebooks]) (3.0.5)\nRequirement already satisfied: anyio<4,>=3.1.0 in /home/trusted-service-user/cluster-env/env/lib/python3.10/site-packages (from jupyter-server>=1.8->nbclassic>=0.4.7->notebook>=4.4.1->widgetsnbextension~=3.6.0->ipywidgets<8.0.0,>=7.0.0->azureml-widgets~=1.57.0->azureml-sdk[automl,notebooks]) (3.6.2)\nRequirement already satisfied: sniffio>=1.1 in /home/trusted-service-user/cluster-env/env/lib/python3.10/site-packages (from anyio<4,>=3.1.0->jupyter-server>=1.8->nbclassic>=0.4.7->notebook>=4.4.1->widgetsnbextension~=3.6.0->ipywidgets<8.0.0,>=7.0.0->azureml-widgets~=1.57.0->azureml-sdk[automl,notebooks]) (1.3.0)\n\u001b[33mWARNING: You are using pip version 22.0.4; however, version 24.2 is available.\nYou should consider upgrading via the '/nfs4/pyenv-525bb166-fc19-4c39-bec6-1e96d4e3df1d/bin/python -m pip install --upgrade pip' command.\u001b[0m\u001b[33m\n\u001b[0mNote: you may need to restart the kernel to use updated packages.\nRequirement already satisfied: azureml-train-automl-runtime==1.57.0 in /nfs4/pyenv-525bb166-fc19-4c39-bec6-1e96d4e3df1d/lib/python3.10/site-packages (1.57.0)\nRequirement already satisfied: bokeh<3.0.0 in /nfs4/pyenv-525bb166-fc19-4c39-bec6-1e96d4e3df1d/lib/python3.10/site-packages (from azureml-train-automl-runtime==1.57.0) (2.4.3)\nRequirement already satisfied: azureml-telemetry~=1.57.0 in /nfs4/pyenv-525bb166-fc19-4c39-bec6-1e96d4e3df1d/lib/python3.10/site-packages (from azureml-train-automl-runtime==1.57.0) (1.57.0)\nRequirement already satisfied: azureml-core~=1.57.0 in /nfs4/pyenv-525bb166-fc19-4c39-bec6-1e96d4e3df1d/lib/python3.10/site-packages (from azureml-train-automl-runtime==1.57.0) (1.57.0.post3)\nRequirement already satisfied: pandas==1.3.5 in /nfs4/pyenv-525bb166-fc19-4c39-bec6-1e96d4e3df1d/lib/python3.10/site-packages (from azureml-train-automl-runtime==1.57.0) (1.3.5)\nRequirement already satisfied: azureml-dataset-runtime[fuse,pandas]~=1.57.0 in /nfs4/pyenv-525bb166-fc19-4c39-bec6-1e96d4e3df1d/lib/python3.10/site-packages (from azureml-train-automl-runtime==1.57.0) (1.57.0)\nRequirement already satisfied: azureml-interpret~=1.57.0 in /nfs4/pyenv-525bb166-fc19-4c39-bec6-1e96d4e3df1d/lib/python3.10/site-packages (from azureml-train-automl-runtime==1.57.0) (1.57.0)\nRequirement already satisfied: numpy<=1.23.5,>=1.16.0 in /home/trusted-service-user/cluster-env/env/lib/python3.10/site-packages (from azureml-train-automl-runtime==1.57.0) (1.23.4)\nRequirement already satisfied: onnx==1.16.1 in /nfs4/pyenv-525bb166-fc19-4c39-bec6-1e96d4e3df1d/lib/python3.10/site-packages (from azureml-train-automl-runtime==1.57.0) (1.16.1)\nRequirement already satisfied: gensim==4.3.2 in /nfs4/pyenv-525bb166-fc19-4c39-bec6-1e96d4e3df1d/lib/python3.10/site-packages (from azureml-train-automl-runtime==1.57.0) (4.3.2)\nRequirement already satisfied: dask[complete]<=2023.2.0 in /nfs4/pyenv-525bb166-fc19-4c39-bec6-1e96d4e3df1d/lib/python3.10/site-packages (from azureml-train-automl-runtime==1.57.0) (2023.2.0)\nRequirement already satisfied: sklearn-pandas<=1.7.0,>=1.4.0 in /nfs4/pyenv-525bb166-fc19-4c39-bec6-1e96d4e3df1d/lib/python3.10/site-packages (from azureml-train-automl-runtime==1.57.0) (1.7.0)\nRequirement already satisfied: statsmodels<0.14,>=0.13.0 in /home/trusted-service-user/cluster-env/env/lib/python3.10/site-packages (from azureml-train-automl-runtime==1.57.0) (0.13.5)\nRequirement already satisfied: urllib3<2.0.0 in /nfs4/pyenv-525bb166-fc19-4c39-bec6-1e96d4e3df1d/lib/python3.10/site-packages (from azureml-train-automl-runtime==1.57.0) (1.26.20)\nRequirement already satisfied: onnxconverter-common==1.13.0 in /nfs4/pyenv-525bb166-fc19-4c39-bec6-1e96d4e3df1d/lib/python3.10/site-packages (from azureml-train-automl-runtime==1.57.0) (1.13.0)\nRequirement already satisfied: pyarrow==14.0.2 in /nfs4/pyenv-525bb166-fc19-4c39-bec6-1e96d4e3df1d/lib/python3.10/site-packages (from azureml-train-automl-runtime==1.57.0) (14.0.2)\nRequirement already satisfied: lightgbm<=3.2.1,>=3.0.0 in /home/trusted-service-user/cluster-env/env/lib/python3.10/site-packages (from azureml-train-automl-runtime==1.57.0) (3.2.1)\nRequirement already satisfied: scipy<=1.11.0,>=1.0.0 in /home/trusted-service-user/cluster-env/env/lib/python3.10/site-packages (from azureml-train-automl-runtime==1.57.0) (1.9.3)\nRequirement already satisfied: keras2onnx<=1.6.0,>=1.4.0 in /nfs4/pyenv-525bb166-fc19-4c39-bec6-1e96d4e3df1d/lib/python3.10/site-packages (from azureml-train-automl-runtime==1.57.0) (1.6.0)\nRequirement already satisfied: onnxruntime~=1.17.3 in /nfs4/pyenv-525bb166-fc19-4c39-bec6-1e96d4e3df1d/lib/python3.10/site-packages (from azureml-train-automl-runtime==1.57.0) (1.17.3)\nRequirement already satisfied: azure-storage-queue~=12.1 in /nfs4/pyenv-525bb166-fc19-4c39-bec6-1e96d4e3df1d/lib/python3.10/site-packages (from azureml-train-automl-runtime==1.57.0) (12.12.0)\nRequirement already satisfied: botocore<=1.23.19 in /nfs4/pyenv-525bb166-fc19-4c39-bec6-1e96d4e3df1d/lib/python3.10/site-packages (from azureml-train-automl-runtime==1.57.0) (1.23.19)\nRequirement already satisfied: azureml-automl-core~=1.57.0 in /nfs4/pyenv-525bb166-fc19-4c39-bec6-1e96d4e3df1d/lib/python3.10/site-packages (from azureml-train-automl-runtime==1.57.0) (1.57.0)\nRequirement already satisfied: jinja2<4 in /home/trusted-service-user/cluster-env/env/lib/python3.10/site-packages (from azureml-train-automl-runtime==1.57.0) (3.1.2)\nRequirement already satisfied: azureml-train-automl-client~=1.57.0 in /nfs4/pyenv-525bb166-fc19-4c39-bec6-1e96d4e3df1d/lib/python3.10/site-packages (from azureml-train-automl-runtime==1.57.0) (1.57.0)\nRequirement already satisfied: onnxmltools==1.11.2 in /nfs4/pyenv-525bb166-fc19-4c39-bec6-1e96d4e3df1d/lib/python3.10/site-packages (from azureml-train-automl-runtime==1.57.0) (1.11.2)\nRequirement already satisfied: skl2onnx==1.15.0 in /nfs4/pyenv-525bb166-fc19-4c39-bec6-1e96d4e3df1d/lib/python3.10/site-packages (from azureml-train-automl-runtime==1.57.0) (1.15.0)\nRequirement already satisfied: azureml-automl-runtime~=1.57.0 in /nfs4/pyenv-525bb166-fc19-4c39-bec6-1e96d4e3df1d/lib/python3.10/site-packages (from azureml-train-automl-runtime==1.57.0) (1.57.0)\nRequirement already satisfied: scikit-learn~=1.5.1 in /nfs4/pyenv-525bb166-fc19-4c39-bec6-1e96d4e3df1d/lib/python3.10/site-packages (from azureml-train-automl-runtime==1.57.0) (1.5.1)\nRequirement already satisfied: smart-open==6.4.0 in /nfs4/pyenv-525bb166-fc19-4c39-bec6-1e96d4e3df1d/lib/python3.10/site-packages (from azureml-train-automl-runtime==1.57.0) (6.4.0)\nRequirement already satisfied: boto3<=1.20.19 in /nfs4/pyenv-525bb166-fc19-4c39-bec6-1e96d4e3df1d/lib/python3.10/site-packages (from azureml-train-automl-runtime==1.57.0) (1.20.19)\nRequirement already satisfied: azureml-mlflow~=1.57.0 in /nfs4/pyenv-525bb166-fc19-4c39-bec6-1e96d4e3df1d/lib/python3.10/site-packages (from azureml-train-automl-runtime==1.57.0) (1.57.0.post1)\nRequirement already satisfied: pyyaml<7.0.0 in /home/trusted-service-user/cluster-env/env/lib/python3.10/site-packages (from azureml-train-automl-runtime==1.57.0) (6.0)\nRequirement already satisfied: protobuf>=3.20.2 in /nfs4/pyenv-525bb166-fc19-4c39-bec6-1e96d4e3df1d/lib/python3.10/site-packages (from onnx==1.16.1->azureml-train-automl-runtime==1.57.0) (3.20.3)\nRequirement already satisfied: packaging in /home/trusted-service-user/cluster-env/env/lib/python3.10/site-packages (from onnxconverter-common==1.13.0->azureml-train-automl-runtime==1.57.0) (21.3)\nRequirement already satisfied: python-dateutil>=2.7.3 in /home/trusted-service-user/cluster-env/env/lib/python3.10/site-packages (from pandas==1.3.5->azureml-train-automl-runtime==1.57.0) (2.8.2)\nRequirement already satisfied: pytz>=2017.3 in /home/trusted-service-user/cluster-env/env/lib/python3.10/site-packages (from pandas==1.3.5->azureml-train-automl-runtime==1.57.0) (2022.6)\nRequirement already satisfied: typing-extensions>=4.6.0 in /nfs4/pyenv-525bb166-fc19-4c39-bec6-1e96d4e3df1d/lib/python3.10/site-packages (from azure-storage-queue~=12.1->azureml-train-automl-runtime==1.57.0) (4.12.2)\nRequirement already satisfied: cryptography>=2.1.4 in /home/trusted-service-user/cluster-env/env/lib/python3.10/site-packages (from azure-storage-queue~=12.1->azureml-train-automl-runtime==1.57.0) (38.0.3)\nRequirement already satisfied: azure-core>=1.30.0 in /nfs4/pyenv-525bb166-fc19-4c39-bec6-1e96d4e3df1d/lib/python3.10/site-packages (from azure-storage-queue~=12.1->azureml-train-automl-runtime==1.57.0) (1.31.0)\nRequirement already satisfied: isodate>=0.6.1 in /nfs4/pyenv-525bb166-fc19-4c39-bec6-1e96d4e3df1d/lib/python3.10/site-packages (from azure-storage-queue~=12.1->azureml-train-automl-runtime==1.57.0) (0.7.2)\nRequirement already satisfied: importlib-metadata<=8.2.0 in /home/trusted-service-user/cluster-env/env/lib/python3.10/site-packages (from azureml-automl-core~=1.57.0->azureml-train-automl-runtime==1.57.0) (5.0.0)\nRequirement already satisfied: importlib-resources<=6.4.0 in /nfs4/pyenv-525bb166-fc19-4c39-bec6-1e96d4e3df1d/lib/python3.10/site-packages (from azureml-automl-core~=1.57.0->azureml-train-automl-runtime==1.57.0) (6.4.0)\nRequirement already satisfied: arch<=5.6.0 in /nfs4/pyenv-525bb166-fc19-4c39-bec6-1e96d4e3df1d/lib/python3.10/site-packages (from azureml-automl-runtime~=1.57.0->azureml-train-automl-runtime==1.57.0) (5.6.0)\nRequirement already satisfied: azureml-training-tabular~=1.57.0 in /nfs4/pyenv-525bb166-fc19-4c39-bec6-1e96d4e3df1d/lib/python3.10/site-packages (from azureml-automl-runtime~=1.57.0->azureml-train-automl-runtime==1.57.0) (1.57.0.post1)\nRequirement already satisfied: dataclasses<=0.8,>=0.6 in /nfs4/pyenv-525bb166-fc19-4c39-bec6-1e96d4e3df1d/lib/python3.10/site-packages (from azureml-automl-runtime~=1.57.0->azureml-train-automl-runtime==1.57.0) (0.6)\nRequirement already satisfied: psutil<5.9.4,>=5.2.2 in /nfs4/pyenv-525bb166-fc19-4c39-bec6-1e96d4e3df1d/lib/python3.10/site-packages (from azureml-automl-runtime~=1.57.0->azureml-train-automl-runtime==1.57.0) (5.9.3)\nRequirement already satisfied: dill<0.4.0,>=0.2.8 in /home/trusted-service-user/cluster-env/env/lib/python3.10/site-packages (from azureml-automl-runtime~=1.57.0->azureml-train-automl-runtime==1.57.0) (0.3.6)\nRequirement already satisfied: pmdarima==1.8.5 in /nfs4/pyenv-525bb166-fc19-4c39-bec6-1e96d4e3df1d/lib/python3.10/site-packages (from azureml-automl-runtime~=1.57.0->azureml-train-automl-runtime==1.57.0) (1.8.5)\nRequirement already satisfied: joblib==1.2.0 in /home/trusted-service-user/cluster-env/env/lib/python3.10/site-packages (from azureml-automl-runtime~=1.57.0->azureml-train-automl-runtime==1.57.0) (1.2.0)\nRequirement already satisfied: dotnetcore2<4.0.0,>=3.0.0 in /home/trusted-service-user/cluster-env/env/lib/python3.10/site-packages (from azureml-automl-runtime~=1.57.0->azureml-train-automl-runtime==1.57.0) (3.1.23)\nRequirement already satisfied: setuptools!=50.0.0,>=38.6.0 in /home/trusted-service-user/cluster-env/env/lib/python3.10/site-packages (from pmdarima==1.8.5->azureml-automl-runtime~=1.57.0->azureml-train-automl-runtime==1.57.0) (65.5.1)\nRequirement already satisfied: Cython!=0.29.18,>=0.29 in /home/trusted-service-user/cluster-env/env/lib/python3.10/site-packages (from pmdarima==1.8.5->azureml-automl-runtime~=1.57.0->azureml-train-automl-runtime==1.57.0) (0.29.32)\nRequirement already satisfied: adal<=1.2.7,>=1.2.0 in /home/trusted-service-user/cluster-env/env/lib/python3.10/site-packages (from azureml-core~=1.57.0->azureml-train-automl-runtime==1.57.0) (1.2.7)\nRequirement already satisfied: argcomplete<4 in /home/trusted-service-user/cluster-env/env/lib/python3.10/site-packages (from azureml-core~=1.57.0->azureml-train-automl-runtime==1.57.0) (2.0.0)\nRequirement already satisfied: azure-mgmt-authorization<5,>=0.40.0 in /home/trusted-service-user/cluster-env/env/lib/python3.10/site-packages (from azureml-core~=1.57.0->azureml-train-automl-runtime==1.57.0) (2.0.0)\nRequirement already satisfied: msrestazure<=0.7,>=0.4.33 in /home/trusted-service-user/cluster-env/env/lib/python3.10/site-packages (from azureml-core~=1.57.0->azureml-train-automl-runtime==1.57.0) (0.6.4)\nRequirement already satisfied: pathspec<1.0.0 in /home/trusted-service-user/cluster-env/env/lib/python3.10/site-packages (from azureml-core~=1.57.0->azureml-train-automl-runtime==1.57.0) (0.10.1)\nRequirement already satisfied: azure-mgmt-resource<=24.0.0,>=15.0.0 in /home/trusted-service-user/cluster-env/env/lib/python3.10/site-packages (from azureml-core~=1.57.0->azureml-train-automl-runtime==1.57.0) (21.2.1)\nRequirement already satisfied: pyopenssl<25.0.0 in /home/trusted-service-user/cluster-env/env/lib/python3.10/site-packages (from azureml-core~=1.57.0->azureml-train-automl-runtime==1.57.0) (22.1.0)\nRequirement already satisfied: jsonpickle<4.0.0 in /home/trusted-service-user/cluster-env/env/lib/python3.10/site-packages (from azureml-core~=1.57.0->azureml-train-automl-runtime==1.57.0) (2.2.0)\nRequirement already satisfied: azure-common<2.0.0,>=1.1.12 in /home/trusted-service-user/cluster-env/env/lib/python3.10/site-packages (from azureml-core~=1.57.0->azureml-train-automl-runtime==1.57.0) (1.1.28)\nRequirement already satisfied: azure-mgmt-containerregistry<11,>=8.2.0 in /home/trusted-service-user/cluster-env/env/lib/python3.10/site-packages (from azureml-core~=1.57.0->azureml-train-automl-runtime==1.57.0) (10.0.0)\nRequirement already satisfied: pkginfo in /home/trusted-service-user/cluster-env/env/lib/python3.10/site-packages (from azureml-core~=1.57.0->azureml-train-automl-runtime==1.57.0) (1.8.3)\nRequirement already satisfied: SecretStorage<4.0.0 in /home/trusted-service-user/cluster-env/env/lib/python3.10/site-packages (from azureml-core~=1.57.0->azureml-train-automl-runtime==1.57.0) (3.3.3)\nRequirement already satisfied: docker<8.0.0 in /home/trusted-service-user/cluster-env/env/lib/python3.10/site-packages (from azureml-core~=1.57.0->azureml-train-automl-runtime==1.57.0) (6.0.1)\nRequirement already satisfied: ndg-httpsclient<=0.5.1 in /home/trusted-service-user/cluster-env/env/lib/python3.10/site-packages (from azureml-core~=1.57.0->azureml-train-automl-runtime==1.57.0) (0.5.1)\nRequirement already satisfied: PyJWT<3.0.0 in /home/trusted-service-user/cluster-env/env/lib/python3.10/site-packages (from azureml-core~=1.57.0->azureml-train-automl-runtime==1.57.0) (2.6.0)\nRequirement already satisfied: azure-mgmt-network<=26.0.0 in /nfs4/pyenv-525bb166-fc19-4c39-bec6-1e96d4e3df1d/lib/python3.10/site-packages (from azureml-core~=1.57.0->azureml-train-automl-runtime==1.57.0) (26.0.0)\nRequirement already satisfied: requests[socks]<3.0.0,>=2.19.1 in /home/trusted-service-user/cluster-env/env/lib/python3.10/site-packages (from azureml-core~=1.57.0->azureml-train-automl-runtime==1.57.0) (2.28.1)\nRequirement already satisfied: contextlib2<22.0.0 in /home/trusted-service-user/cluster-env/env/lib/python3.10/site-packages (from azureml-core~=1.57.0->azureml-train-automl-runtime==1.57.0) (21.6.0)\nRequirement already satisfied: humanfriendly<11.0,>=4.7 in /home/trusted-service-user/cluster-env/env/lib/python3.10/site-packages (from azureml-core~=1.57.0->azureml-train-automl-runtime==1.57.0) (10.0)\nRequirement already satisfied: azure-mgmt-storage<=22.0.0,>=16.0.0 in /home/trusted-service-user/cluster-env/env/lib/python3.10/site-packages (from azureml-core~=1.57.0->azureml-train-automl-runtime==1.57.0) (20.1.0)\nRequirement already satisfied: msrest<=0.7.1,>=0.5.1 in /home/trusted-service-user/cluster-env/env/lib/python3.10/site-packages (from azureml-core~=1.57.0->azureml-train-automl-runtime==1.57.0) (0.7.1)\nRequirement already satisfied: msal-extensions<=2.0.0,>=0.3.0 in /nfs4/pyenv-525bb166-fc19-4c39-bec6-1e96d4e3df1d/lib/python3.10/site-packages (from azureml-core~=1.57.0->azureml-train-automl-runtime==1.57.0) (0.3.1)\nRequirement already satisfied: paramiko<4.0.0,>=2.0.8 in /home/trusted-service-user/cluster-env/env/lib/python3.10/site-packages (from azureml-core~=1.57.0->azureml-train-automl-runtime==1.57.0) (2.12.0)\nRequirement already satisfied: azure-mgmt-keyvault<11.0.0,>=0.40.0 in /home/trusted-service-user/cluster-env/env/lib/python3.10/site-packages (from azureml-core~=1.57.0->azureml-train-automl-runtime==1.57.0) (10.1.0)\nRequirement already satisfied: jmespath<2.0.0 in /nfs4/pyenv-525bb166-fc19-4c39-bec6-1e96d4e3df1d/lib/python3.10/site-packages (from azureml-core~=1.57.0->azureml-train-automl-runtime==1.57.0) (0.10.0)\nRequirement already satisfied: knack<0.12.0 in /home/trusted-service-user/cluster-env/env/lib/python3.10/site-packages (from azureml-core~=1.57.0->azureml-train-automl-runtime==1.57.0) (0.10.0)\nRequirement already satisfied: azure-graphrbac<1.0.0,>=0.40.0 in /home/trusted-service-user/cluster-env/env/lib/python3.10/site-packages (from azureml-core~=1.57.0->azureml-train-automl-runtime==1.57.0) (0.61.1)\nRequirement already satisfied: msal<2.0.0,>=1.15.0 in /home/trusted-service-user/cluster-env/env/lib/python3.10/site-packages (from azureml-core~=1.57.0->azureml-train-automl-runtime==1.57.0) (1.18.0)\nRequirement already satisfied: backports.tempfile in /home/trusted-service-user/cluster-env/env/lib/python3.10/site-packages (from azureml-core~=1.57.0->azureml-train-automl-runtime==1.57.0) (1.0)\nRequirement already satisfied: azureml-dataprep<5.2.0a,>=5.1.0a in /nfs4/pyenv-525bb166-fc19-4c39-bec6-1e96d4e3df1d/lib/python3.10/site-packages (from azureml-dataset-runtime[fuse,pandas]~=1.57.0->azureml-train-automl-runtime==1.57.0) (5.1.6)\nRequirement already satisfied: fusepy<4.0.0,>=3.0.1 in /home/trusted-service-user/cluster-env/env/lib/python3.10/site-packages (from azureml-dataset-runtime[fuse,pandas]~=1.57.0->azureml-train-automl-runtime==1.57.0) (3.0.1)\nRequirement already satisfied: numba<=0.56.4 in /home/trusted-service-user/cluster-env/env/lib/python3.10/site-packages (from azureml-interpret~=1.57.0->azureml-train-automl-runtime==1.57.0) (0.56.3)\nRequirement already satisfied: interpret-community==0.31.* in /nfs4/pyenv-525bb166-fc19-4c39-bec6-1e96d4e3df1d/lib/python3.10/site-packages (from azureml-interpret~=1.57.0->azureml-train-automl-runtime==1.57.0) (0.31.0)\nRequirement already satisfied: ml-wrappers~=0.5.4 in /nfs4/pyenv-525bb166-fc19-4c39-bec6-1e96d4e3df1d/lib/python3.10/site-packages (from interpret-community==0.31.*->azureml-interpret~=1.57.0->azureml-train-automl-runtime==1.57.0) (0.5.6)\nRequirement already satisfied: shap<=0.44.0,>=0.20.0 in /home/trusted-service-user/cluster-env/env/lib/python3.10/site-packages (from interpret-community==0.31.*->azureml-interpret~=1.57.0->azureml-train-automl-runtime==1.57.0) (0.39.0)\nRequirement already satisfied: interpret-core<=0.5.0,>=0.1.20 in /nfs4/pyenv-525bb166-fc19-4c39-bec6-1e96d4e3df1d/lib/python3.10/site-packages (from interpret-community==0.31.*->azureml-interpret~=1.57.0->azureml-train-automl-runtime==1.57.0) (0.5.0)\nRequirement already satisfied: raiutils~=0.4.0 in /nfs4/pyenv-525bb166-fc19-4c39-bec6-1e96d4e3df1d/lib/python3.10/site-packages (from interpret-community==0.31.*->azureml-interpret~=1.57.0->azureml-train-automl-runtime==1.57.0) (0.4.2)\nRequirement already satisfied: azure-identity in /home/trusted-service-user/cluster-env/env/lib/python3.10/site-packages (from azureml-mlflow~=1.57.0->azureml-train-automl-runtime==1.57.0) (1.7.0)\nRequirement already satisfied: azure-mgmt-core<2.0.0,>=1.2.0 in /home/trusted-service-user/cluster-env/env/lib/python3.10/site-packages (from azureml-mlflow~=1.57.0->azureml-train-automl-runtime==1.57.0) (1.3.2)\nRequirement already satisfied: mlflow-skinny in /home/trusted-service-user/cluster-env/env/lib/python3.10/site-packages (from azureml-mlflow~=1.57.0->azureml-train-automl-runtime==1.57.0) (1.30.0)\nRequirement already satisfied: azure-storage-blob<=12.19.0,>=12.5.0 in /home/trusted-service-user/cluster-env/env/lib/python3.10/site-packages (from azureml-mlflow~=1.57.0->azureml-train-automl-runtime==1.57.0) (12.14.1)\nRequirement already satisfied: applicationinsights in /home/trusted-service-user/cluster-env/env/lib/python3.10/site-packages (from azureml-telemetry~=1.57.0->azureml-train-automl-runtime==1.57.0) (0.11.10)\nRequirement already satisfied: azureml-train-core~=1.57.0 in /nfs4/pyenv-525bb166-fc19-4c39-bec6-1e96d4e3df1d/lib/python3.10/site-packages (from azureml-train-automl-client~=1.57.0->azureml-train-automl-runtime==1.57.0) (1.57.0)\nRequirement already satisfied: pillow>=7.1.0 in /home/trusted-service-user/cluster-env/env/lib/python3.10/site-packages (from bokeh<3.0.0->azureml-train-automl-runtime==1.57.0) (9.2.0)\nRequirement already satisfied: tornado>=5.1 in /home/trusted-service-user/cluster-env/env/lib/python3.10/site-packages (from bokeh<3.0.0->azureml-train-automl-runtime==1.57.0) (6.2)\nRequirement already satisfied: s3transfer<0.6.0,>=0.5.0 in /nfs4/pyenv-525bb166-fc19-4c39-bec6-1e96d4e3df1d/lib/python3.10/site-packages (from boto3<=1.20.19->azureml-train-automl-runtime==1.57.0) (0.5.2)\nRequirement already satisfied: cloudpickle>=1.1.1 in /home/trusted-service-user/cluster-env/env/lib/python3.10/site-packages (from dask[complete]<=2023.2.0->azureml-train-automl-runtime==1.57.0) (2.2.0)\nRequirement already satisfied: toolz>=0.8.2 in /home/trusted-service-user/cluster-env/env/lib/python3.10/site-packages (from dask[complete]<=2023.2.0->azureml-train-automl-runtime==1.57.0) (0.12.0)\nRequirement already satisfied: fsspec>=0.6.0 in /home/trusted-service-user/cluster-env/env/lib/python3.10/site-packages (from dask[complete]<=2023.2.0->azureml-train-automl-runtime==1.57.0) (2022.10.0)\nRequirement already satisfied: click>=7.0 in /home/trusted-service-user/cluster-env/env/lib/python3.10/site-packages (from dask[complete]<=2023.2.0->azureml-train-automl-runtime==1.57.0) (8.1.3)\nRequirement already satisfied: partd>=0.3.10 in /home/trusted-service-user/cluster-env/env/lib/python3.10/site-packages (from dask[complete]<=2023.2.0->azureml-train-automl-runtime==1.57.0) (1.3.0)\nRequirement already satisfied: distributed==2023.2.0 in /nfs4/pyenv-525bb166-fc19-4c39-bec6-1e96d4e3df1d/lib/python3.10/site-packages (from dask[complete]<=2023.2.0->azureml-train-automl-runtime==1.57.0) (2023.2.0)\nRequirement already satisfied: msgpack>=1.0.0 in /home/trusted-service-user/cluster-env/env/lib/python3.10/site-packages (from distributed==2023.2.0->dask[complete]<=2023.2.0->azureml-train-automl-runtime==1.57.0) (1.0.8)\nRequirement already satisfied: tblib>=1.6.0 in /nfs4/pyenv-525bb166-fc19-4c39-bec6-1e96d4e3df1d/lib/python3.10/site-packages (from distributed==2023.2.0->dask[complete]<=2023.2.0->azureml-train-automl-runtime==1.57.0) (3.0.0)\nRequirement already satisfied: locket>=1.0.0 in /home/trusted-service-user/cluster-env/env/lib/python3.10/site-packages (from distributed==2023.2.0->dask[complete]<=2023.2.0->azureml-train-automl-runtime==1.57.0) (1.0.0)\nRequirement already satisfied: zict>=2.1.0 in /nfs4/pyenv-525bb166-fc19-4c39-bec6-1e96d4e3df1d/lib/python3.10/site-packages (from distributed==2023.2.0->dask[complete]<=2023.2.0->azureml-train-automl-runtime==1.57.0) (3.0.0)\nRequirement already satisfied: sortedcontainers>=2.0.5 in /nfs4/pyenv-525bb166-fc19-4c39-bec6-1e96d4e3df1d/lib/python3.10/site-packages (from distributed==2023.2.0->dask[complete]<=2023.2.0->azureml-train-automl-runtime==1.57.0) (2.4.0)\nRequirement already satisfied: MarkupSafe>=2.0 in /home/trusted-service-user/cluster-env/env/lib/python3.10/site-packages (from jinja2<4->azureml-train-automl-runtime==1.57.0) (2.1.1)\nRequirement already satisfied: fire in /home/trusted-service-user/cluster-env/env/lib/python3.10/site-packages (from keras2onnx<=1.6.0,>=1.4.0->azureml-train-automl-runtime==1.57.0) (0.4.0)\nRequirement already satisfied: wheel in /home/trusted-service-user/cluster-env/env/lib/python3.10/site-packages (from lightgbm<=3.2.1,>=3.0.0->azureml-train-automl-runtime==1.57.0) (0.38.3)\nRequirement already satisfied: coloredlogs in /home/trusted-service-user/cluster-env/env/lib/python3.10/site-packages (from onnxruntime~=1.17.3->azureml-train-automl-runtime==1.57.0) (15.0.1)\nRequirement already satisfied: flatbuffers in /home/trusted-service-user/cluster-env/env/lib/python3.10/site-packages (from onnxruntime~=1.17.3->azureml-train-automl-runtime==1.57.0) (2.0)\nRequirement already satisfied: sympy in /home/trusted-service-user/cluster-env/env/lib/python3.10/site-packages (from onnxruntime~=1.17.3->azureml-train-automl-runtime==1.57.0) (1.11.1)\nRequirement already satisfied: threadpoolctl>=3.1.0 in /home/trusted-service-user/cluster-env/env/lib/python3.10/site-packages (from scikit-learn~=1.5.1->azureml-train-automl-runtime==1.57.0) (3.1.0)\nRequirement already satisfied: patsy>=0.5.2 in /home/trusted-service-user/cluster-env/env/lib/python3.10/site-packages (from statsmodels<0.14,>=0.13.0->azureml-train-automl-runtime==1.57.0) (0.5.3)\nRequirement already satisfied: property-cached>=1.6.4 in /nfs4/pyenv-525bb166-fc19-4c39-bec6-1e96d4e3df1d/lib/python3.10/site-packages (from arch<=5.6.0->azureml-automl-runtime~=1.57.0->azureml-train-automl-runtime==1.57.0) (1.6.4)\nRequirement already satisfied: six>=1.11.0 in /home/trusted-service-user/cluster-env/env/lib/python3.10/site-packages (from azure-core>=1.30.0->azure-storage-queue~=12.1->azureml-train-automl-runtime==1.57.0) (1.16.0)\nRequirement already satisfied: jsonschema in /home/trusted-service-user/cluster-env/env/lib/python3.10/site-packages (from azureml-dataprep<5.2.0a,>=5.1.0a->azureml-dataset-runtime[fuse,pandas]~=1.57.0->azureml-train-automl-runtime==1.57.0) (4.17.0)\nRequirement already satisfied: azureml-dataprep-rslex~=2.22.2dev0 in /nfs4/pyenv-525bb166-fc19-4c39-bec6-1e96d4e3df1d/lib/python3.10/site-packages (from azureml-dataprep<5.2.0a,>=5.1.0a->azureml-dataset-runtime[fuse,pandas]~=1.57.0->azureml-train-automl-runtime==1.57.0) (2.22.4)\nRequirement already satisfied: azureml-dataprep-native<42.0.0,>=41.0.0 in /nfs4/pyenv-525bb166-fc19-4c39-bec6-1e96d4e3df1d/lib/python3.10/site-packages (from azureml-dataprep<5.2.0a,>=5.1.0a->azureml-dataset-runtime[fuse,pandas]~=1.57.0->azureml-train-automl-runtime==1.57.0) (41.0.0)\nRequirement already satisfied: azureml-train-restclients-hyperdrive~=1.57.0 in /nfs4/pyenv-525bb166-fc19-4c39-bec6-1e96d4e3df1d/lib/python3.10/site-packages (from azureml-train-core~=1.57.0->azureml-train-automl-client~=1.57.0->azureml-train-automl-runtime==1.57.0) (1.57.0)\nRequirement already satisfied: cffi>=1.12 in /home/trusted-service-user/cluster-env/env/lib/python3.10/site-packages (from cryptography>=2.1.4->azure-storage-queue~=12.1->azureml-train-automl-runtime==1.57.0) (1.15.1)\nRequirement already satisfied: websocket-client>=0.32.0 in /home/trusted-service-user/cluster-env/env/lib/python3.10/site-packages (from docker<8.0.0->azureml-core~=1.57.0->azureml-train-automl-runtime==1.57.0) (1.4.2)\nRequirement already satisfied: distro>=1.2.0 in /home/trusted-service-user/cluster-env/env/lib/python3.10/site-packages (from dotnetcore2<4.0.0,>=3.0.0->azureml-automl-runtime~=1.57.0->azureml-train-automl-runtime==1.57.0) (1.8.0)\nRequirement already satisfied: zipp>=0.5 in /home/trusted-service-user/cluster-env/env/lib/python3.10/site-packages (from importlib-metadata<=8.2.0->azureml-automl-core~=1.57.0->azureml-train-automl-runtime==1.57.0) (3.10.0)\nRequirement already satisfied: tabulate in /home/trusted-service-user/cluster-env/env/lib/python3.10/site-packages (from knack<0.12.0->azureml-core~=1.57.0->azureml-train-automl-runtime==1.57.0) (0.9.0)\nRequirement already satisfied: pygments in /home/trusted-service-user/cluster-env/env/lib/python3.10/site-packages (from knack<0.12.0->azureml-core~=1.57.0->azureml-train-automl-runtime==1.57.0) (2.13.0)\nRequirement already satisfied: portalocker<3,>=1.0 in /home/trusted-service-user/cluster-env/env/lib/python3.10/site-packages (from msal-extensions<=2.0.0,>=0.3.0->azureml-core~=1.57.0->azureml-train-automl-runtime==1.57.0) (2.6.0)\nRequirement already satisfied: certifi>=2017.4.17 in /home/trusted-service-user/cluster-env/env/lib/python3.10/site-packages (from msrest<=0.7.1,>=0.5.1->azureml-core~=1.57.0->azureml-train-automl-runtime==1.57.0) (2022.9.24)\nRequirement already satisfied: requests-oauthlib>=0.5.0 in /home/trusted-service-user/cluster-env/env/lib/python3.10/site-packages (from msrest<=0.7.1,>=0.5.1->azureml-core~=1.57.0->azureml-train-automl-runtime==1.57.0) (1.3.1)\nRequirement already satisfied: pyasn1>=0.1.1 in /home/trusted-service-user/cluster-env/env/lib/python3.10/site-packages (from ndg-httpsclient<=0.5.1->azureml-core~=1.57.0->azureml-train-automl-runtime==1.57.0) (0.4.8)\nRequirement already satisfied: llvmlite<0.40,>=0.39.0dev0 in /home/trusted-service-user/cluster-env/env/lib/python3.10/site-packages (from numba<=0.56.4->azureml-interpret~=1.57.0->azureml-train-automl-runtime==1.57.0) (0.39.1)\nRequirement already satisfied: pyparsing!=3.0.5,>=2.0.2 in /home/trusted-service-user/cluster-env/env/lib/python3.10/site-packages (from packaging->onnxconverter-common==1.13.0->azureml-train-automl-runtime==1.57.0) (3.0.9)\nRequirement already satisfied: pynacl>=1.0.1 in /home/trusted-service-user/cluster-env/env/lib/python3.10/site-packages (from paramiko<4.0.0,>=2.0.8->azureml-core~=1.57.0->azureml-train-automl-runtime==1.57.0) (1.5.0)\nRequirement already satisfied: bcrypt>=3.1.3 in /home/trusted-service-user/cluster-env/env/lib/python3.10/site-packages (from paramiko<4.0.0,>=2.0.8->azureml-core~=1.57.0->azureml-train-automl-runtime==1.57.0) (4.0.1)\nRequirement already satisfied: idna<4,>=2.5 in /home/trusted-service-user/cluster-env/env/lib/python3.10/site-packages (from requests[socks]<3.0.0,>=2.19.1->azureml-core~=1.57.0->azureml-train-automl-runtime==1.57.0) (3.4)\nRequirement already satisfied: charset-normalizer<3,>=2 in /home/trusted-service-user/cluster-env/env/lib/python3.10/site-packages (from requests[socks]<3.0.0,>=2.19.1->azureml-core~=1.57.0->azureml-train-automl-runtime==1.57.0) (2.1.1)\nRequirement already satisfied: PySocks!=1.5.7,>=1.5.6 in /home/trusted-service-user/cluster-env/env/lib/python3.10/site-packages (from requests[socks]<3.0.0,>=2.19.1->azureml-core~=1.57.0->azureml-train-automl-runtime==1.57.0) (1.7.1)\nRequirement already satisfied: jeepney>=0.6 in /home/trusted-service-user/cluster-env/env/lib/python3.10/site-packages (from SecretStorage<4.0.0->azureml-core~=1.57.0->azureml-train-automl-runtime==1.57.0) (0.8.0)\nRequirement already satisfied: backports.weakref in /home/trusted-service-user/cluster-env/env/lib/python3.10/site-packages (from backports.tempfile->azureml-core~=1.57.0->azureml-train-automl-runtime==1.57.0) (1.0.post1)\nRequirement already satisfied: termcolor in /home/trusted-service-user/cluster-env/env/lib/python3.10/site-packages (from fire->keras2onnx<=1.6.0,>=1.4.0->azureml-train-automl-runtime==1.57.0) (2.1.0)\nRequirement already satisfied: gitpython<4,>=2.1.0 in /home/trusted-service-user/cluster-env/env/lib/python3.10/site-packages (from mlflow-skinny->azureml-mlflow~=1.57.0->azureml-train-automl-runtime==1.57.0) (3.1.29)\nRequirement already satisfied: sqlparse<1,>=0.4.0 in /home/trusted-service-user/cluster-env/env/lib/python3.10/site-packages (from mlflow-skinny->azureml-mlflow~=1.57.0->azureml-train-automl-runtime==1.57.0) (0.4.3)\nRequirement already satisfied: entrypoints<1 in /home/trusted-service-user/cluster-env/env/lib/python3.10/site-packages (from mlflow-skinny->azureml-mlflow~=1.57.0->azureml-train-automl-runtime==1.57.0) (0.4)\nRequirement already satisfied: databricks-cli<1,>=0.8.7 in /home/trusted-service-user/cluster-env/env/lib/python3.10/site-packages (from mlflow-skinny->azureml-mlflow~=1.57.0->azureml-train-automl-runtime==1.57.0) (0.17.3)\nRequirement already satisfied: mpmath>=0.19 in /home/trusted-service-user/cluster-env/env/lib/python3.10/site-packages (from sympy->onnxruntime~=1.17.3->azureml-train-automl-runtime==1.57.0) (1.2.1)\nRequirement already satisfied: pycparser in /home/trusted-service-user/cluster-env/env/lib/python3.10/site-packages (from cffi>=1.12->cryptography>=2.1.4->azure-storage-queue~=12.1->azureml-train-automl-runtime==1.57.0) (2.21)\nRequirement already satisfied: oauthlib>=3.1.0 in /home/trusted-service-user/cluster-env/env/lib/python3.10/site-packages (from databricks-cli<1,>=0.8.7->mlflow-skinny->azureml-mlflow~=1.57.0->azureml-train-automl-runtime==1.57.0) (3.2.2)\nRequirement already satisfied: gitdb<5,>=4.0.1 in /home/trusted-service-user/cluster-env/env/lib/python3.10/site-packages (from gitpython<4,>=2.1.0->mlflow-skinny->azureml-mlflow~=1.57.0->azureml-train-automl-runtime==1.57.0) (4.0.9)\nRequirement already satisfied: tqdm>4.25.0 in /home/trusted-service-user/cluster-env/env/lib/python3.10/site-packages (from shap<=0.44.0,>=0.20.0->interpret-community==0.31.*->azureml-interpret~=1.57.0->azureml-train-automl-runtime==1.57.0) (4.64.1)\nRequirement already satisfied: slicer==0.0.7 in /home/trusted-service-user/cluster-env/env/lib/python3.10/site-packages (from shap<=0.44.0,>=0.20.0->interpret-community==0.31.*->azureml-interpret~=1.57.0->azureml-train-automl-runtime==1.57.0) (0.0.7)\nRequirement already satisfied: pyrsistent!=0.17.0,!=0.17.1,!=0.17.2,>=0.14.0 in /home/trusted-service-user/cluster-env/env/lib/python3.10/site-packages (from jsonschema->azureml-dataprep<5.2.0a,>=5.1.0a->azureml-dataset-runtime[fuse,pandas]~=1.57.0->azureml-train-automl-runtime==1.57.0) (0.19.2)\nRequirement already satisfied: attrs>=17.4.0 in /home/trusted-service-user/cluster-env/env/lib/python3.10/site-packages (from jsonschema->azureml-dataprep<5.2.0a,>=5.1.0a->azureml-dataset-runtime[fuse,pandas]~=1.57.0->azureml-train-automl-runtime==1.57.0) (22.1.0)\nRequirement already satisfied: smmap<6,>=3.0.1 in /home/trusted-service-user/cluster-env/env/lib/python3.10/site-packages (from gitdb<5,>=4.0.1->gitpython<4,>=2.1.0->mlflow-skinny->azureml-mlflow~=1.57.0->azureml-train-automl-runtime==1.57.0) (3.0.5)\n\u001b[33mWARNING: You are using pip version 22.0.4; however, version 24.2 is available.\nYou should consider upgrading via the '/nfs4/pyenv-525bb166-fc19-4c39-bec6-1e96d4e3df1d/bin/python -m pip install --upgrade pip' command.\u001b[0m\u001b[33m\n\u001b[0mNote: you may need to restart the kernel to use updated packages.\nRequirement already satisfied: azureml-pipeline-core==1.57.0 in /nfs4/pyenv-525bb166-fc19-4c39-bec6-1e96d4e3df1d/lib/python3.10/site-packages (1.57.0)\nRequirement already satisfied: azureml-core~=1.57.0 in /nfs4/pyenv-525bb166-fc19-4c39-bec6-1e96d4e3df1d/lib/python3.10/site-packages (from azureml-pipeline-core==1.57.0) (1.57.0.post3)\nRequirement already satisfied: docker<8.0.0 in /home/trusted-service-user/cluster-env/env/lib/python3.10/site-packages (from azureml-core~=1.57.0->azureml-pipeline-core==1.57.0) (6.0.1)\nRequirement already satisfied: requests[socks]<3.0.0,>=2.19.1 in /home/trusted-service-user/cluster-env/env/lib/python3.10/site-packages (from azureml-core~=1.57.0->azureml-pipeline-core==1.57.0) (2.28.1)\nRequirement already satisfied: packaging<=25.0,>=20.0 in /home/trusted-service-user/cluster-env/env/lib/python3.10/site-packages (from azureml-core~=1.57.0->azureml-pipeline-core==1.57.0) (21.3)\nRequirement already satisfied: ndg-httpsclient<=0.5.1 in /home/trusted-service-user/cluster-env/env/lib/python3.10/site-packages (from azureml-core~=1.57.0->azureml-pipeline-core==1.57.0) (0.5.1)\nRequirement already satisfied: humanfriendly<11.0,>=4.7 in /home/trusted-service-user/cluster-env/env/lib/python3.10/site-packages (from azureml-core~=1.57.0->azureml-pipeline-core==1.57.0) (10.0)\nRequirement already satisfied: msrest<=0.7.1,>=0.5.1 in /home/trusted-service-user/cluster-env/env/lib/python3.10/site-packages (from azureml-core~=1.57.0->azureml-pipeline-core==1.57.0) (0.7.1)\nRequirement already satisfied: msrestazure<=0.7,>=0.4.33 in /home/trusted-service-user/cluster-env/env/lib/python3.10/site-packages (from azureml-core~=1.57.0->azureml-pipeline-core==1.57.0) (0.6.4)\nRequirement already satisfied: adal<=1.2.7,>=1.2.0 in /home/trusted-service-user/cluster-env/env/lib/python3.10/site-packages (from azureml-core~=1.57.0->azureml-pipeline-core==1.57.0) (1.2.7)\nRequirement already satisfied: azure-mgmt-authorization<5,>=0.40.0 in /home/trusted-service-user/cluster-env/env/lib/python3.10/site-packages (from azureml-core~=1.57.0->azureml-pipeline-core==1.57.0) (2.0.0)\nRequirement already satisfied: pathspec<1.0.0 in /home/trusted-service-user/cluster-env/env/lib/python3.10/site-packages (from azureml-core~=1.57.0->azureml-pipeline-core==1.57.0) (0.10.1)\nRequirement already satisfied: azure-mgmt-containerregistry<11,>=8.2.0 in /home/trusted-service-user/cluster-env/env/lib/python3.10/site-packages (from azureml-core~=1.57.0->azureml-pipeline-core==1.57.0) (10.0.0)\nRequirement already satisfied: pkginfo in /home/trusted-service-user/cluster-env/env/lib/python3.10/site-packages (from azureml-core~=1.57.0->azureml-pipeline-core==1.57.0) (1.8.3)\nRequirement already satisfied: paramiko<4.0.0,>=2.0.8 in /home/trusted-service-user/cluster-env/env/lib/python3.10/site-packages (from azureml-core~=1.57.0->azureml-pipeline-core==1.57.0) (2.12.0)\nRequirement already satisfied: msal<2.0.0,>=1.15.0 in /home/trusted-service-user/cluster-env/env/lib/python3.10/site-packages (from azureml-core~=1.57.0->azureml-pipeline-core==1.57.0) (1.18.0)\nRequirement already satisfied: azure-mgmt-keyvault<11.0.0,>=0.40.0 in /home/trusted-service-user/cluster-env/env/lib/python3.10/site-packages (from azureml-core~=1.57.0->azureml-pipeline-core==1.57.0) (10.1.0)\nRequirement already satisfied: jsonpickle<4.0.0 in /home/trusted-service-user/cluster-env/env/lib/python3.10/site-packages (from azureml-core~=1.57.0->azureml-pipeline-core==1.57.0) (2.2.0)\nRequirement already satisfied: azure-common<2.0.0,>=1.1.12 in /home/trusted-service-user/cluster-env/env/lib/python3.10/site-packages (from azureml-core~=1.57.0->azureml-pipeline-core==1.57.0) (1.1.28)\nRequirement already satisfied: urllib3<3.0.0,>1.26.17 in /nfs4/pyenv-525bb166-fc19-4c39-bec6-1e96d4e3df1d/lib/python3.10/site-packages (from azureml-core~=1.57.0->azureml-pipeline-core==1.57.0) (1.26.20)\nRequirement already satisfied: SecretStorage<4.0.0 in /home/trusted-service-user/cluster-env/env/lib/python3.10/site-packages (from azureml-core~=1.57.0->azureml-pipeline-core==1.57.0) (3.3.3)\nRequirement already satisfied: pyopenssl<25.0.0 in /home/trusted-service-user/cluster-env/env/lib/python3.10/site-packages (from azureml-core~=1.57.0->azureml-pipeline-core==1.57.0) (22.1.0)\nRequirement already satisfied: azure-mgmt-storage<=22.0.0,>=16.0.0 in /home/trusted-service-user/cluster-env/env/lib/python3.10/site-packages (from azureml-core~=1.57.0->azureml-pipeline-core==1.57.0) (20.1.0)\nRequirement already satisfied: argcomplete<4 in /home/trusted-service-user/cluster-env/env/lib/python3.10/site-packages (from azureml-core~=1.57.0->azureml-pipeline-core==1.57.0) (2.0.0)\nRequirement already satisfied: backports.tempfile in /home/trusted-service-user/cluster-env/env/lib/python3.10/site-packages (from azureml-core~=1.57.0->azureml-pipeline-core==1.57.0) (1.0)\nRequirement already satisfied: azure-core<2.0.0 in /nfs4/pyenv-525bb166-fc19-4c39-bec6-1e96d4e3df1d/lib/python3.10/site-packages (from azureml-core~=1.57.0->azureml-pipeline-core==1.57.0) (1.31.0)\nRequirement already satisfied: pytz in /home/trusted-service-user/cluster-env/env/lib/python3.10/site-packages (from azureml-core~=1.57.0->azureml-pipeline-core==1.57.0) (2022.6)\nRequirement already satisfied: contextlib2<22.0.0 in /home/trusted-service-user/cluster-env/env/lib/python3.10/site-packages (from azureml-core~=1.57.0->azureml-pipeline-core==1.57.0) (21.6.0)\nRequirement already satisfied: msal-extensions<=2.0.0,>=0.3.0 in /nfs4/pyenv-525bb166-fc19-4c39-bec6-1e96d4e3df1d/lib/python3.10/site-packages (from azureml-core~=1.57.0->azureml-pipeline-core==1.57.0) (0.3.1)\nRequirement already satisfied: knack<0.12.0 in /home/trusted-service-user/cluster-env/env/lib/python3.10/site-packages (from azureml-core~=1.57.0->azureml-pipeline-core==1.57.0) (0.10.0)\nRequirement already satisfied: azure-mgmt-resource<=24.0.0,>=15.0.0 in /home/trusted-service-user/cluster-env/env/lib/python3.10/site-packages (from azureml-core~=1.57.0->azureml-pipeline-core==1.57.0) (21.2.1)\nRequirement already satisfied: azure-mgmt-network<=26.0.0 in /nfs4/pyenv-525bb166-fc19-4c39-bec6-1e96d4e3df1d/lib/python3.10/site-packages (from azureml-core~=1.57.0->azureml-pipeline-core==1.57.0) (26.0.0)\nRequirement already satisfied: jmespath<2.0.0 in /nfs4/pyenv-525bb166-fc19-4c39-bec6-1e96d4e3df1d/lib/python3.10/site-packages (from azureml-core~=1.57.0->azureml-pipeline-core==1.57.0) (0.10.0)\nRequirement already satisfied: python-dateutil<3.0.0,>=2.7.3 in /home/trusted-service-user/cluster-env/env/lib/python3.10/site-packages (from azureml-core~=1.57.0->azureml-pipeline-core==1.57.0) (2.8.2)\nRequirement already satisfied: azure-graphrbac<1.0.0,>=0.40.0 in /home/trusted-service-user/cluster-env/env/lib/python3.10/site-packages (from azureml-core~=1.57.0->azureml-pipeline-core==1.57.0) (0.61.1)\nRequirement already satisfied: PyJWT<3.0.0 in /home/trusted-service-user/cluster-env/env/lib/python3.10/site-packages (from azureml-core~=1.57.0->azureml-pipeline-core==1.57.0) (2.6.0)\nRequirement already satisfied: cryptography>=1.1.0 in /home/trusted-service-user/cluster-env/env/lib/python3.10/site-packages (from adal<=1.2.7,>=1.2.0->azureml-core~=1.57.0->azureml-pipeline-core==1.57.0) (38.0.3)\nRequirement already satisfied: typing-extensions>=4.6.0 in /nfs4/pyenv-525bb166-fc19-4c39-bec6-1e96d4e3df1d/lib/python3.10/site-packages (from azure-core<2.0.0->azureml-core~=1.57.0->azureml-pipeline-core==1.57.0) (4.12.2)\nRequirement already satisfied: six>=1.11.0 in /home/trusted-service-user/cluster-env/env/lib/python3.10/site-packages (from azure-core<2.0.0->azureml-core~=1.57.0->azureml-pipeline-core==1.57.0) (1.16.0)\nRequirement already satisfied: azure-mgmt-core<2.0.0,>=1.2.0 in /home/trusted-service-user/cluster-env/env/lib/python3.10/site-packages (from azure-mgmt-authorization<5,>=0.40.0->azureml-core~=1.57.0->azureml-pipeline-core==1.57.0) (1.3.2)\nRequirement already satisfied: isodate>=0.6.1 in /nfs4/pyenv-525bb166-fc19-4c39-bec6-1e96d4e3df1d/lib/python3.10/site-packages (from azure-mgmt-network<=26.0.0->azureml-core~=1.57.0->azureml-pipeline-core==1.57.0) (0.7.2)\nRequirement already satisfied: websocket-client>=0.32.0 in /home/trusted-service-user/cluster-env/env/lib/python3.10/site-packages (from docker<8.0.0->azureml-core~=1.57.0->azureml-pipeline-core==1.57.0) (1.4.2)\nRequirement already satisfied: pygments in /home/trusted-service-user/cluster-env/env/lib/python3.10/site-packages (from knack<0.12.0->azureml-core~=1.57.0->azureml-pipeline-core==1.57.0) (2.13.0)\nRequirement already satisfied: pyyaml in /home/trusted-service-user/cluster-env/env/lib/python3.10/site-packages (from knack<0.12.0->azureml-core~=1.57.0->azureml-pipeline-core==1.57.0) (6.0)\nRequirement already satisfied: tabulate in /home/trusted-service-user/cluster-env/env/lib/python3.10/site-packages (from knack<0.12.0->azureml-core~=1.57.0->azureml-pipeline-core==1.57.0) (0.9.0)\nRequirement already satisfied: portalocker<3,>=1.0 in /home/trusted-service-user/cluster-env/env/lib/python3.10/site-packages (from msal-extensions<=2.0.0,>=0.3.0->azureml-core~=1.57.0->azureml-pipeline-core==1.57.0) (2.6.0)\nRequirement already satisfied: certifi>=2017.4.17 in /home/trusted-service-user/cluster-env/env/lib/python3.10/site-packages (from msrest<=0.7.1,>=0.5.1->azureml-core~=1.57.0->azureml-pipeline-core==1.57.0) (2022.9.24)\nRequirement already satisfied: requests-oauthlib>=0.5.0 in /home/trusted-service-user/cluster-env/env/lib/python3.10/site-packages (from msrest<=0.7.1,>=0.5.1->azureml-core~=1.57.0->azureml-pipeline-core==1.57.0) (1.3.1)\nRequirement already satisfied: pyasn1>=0.1.1 in /home/trusted-service-user/cluster-env/env/lib/python3.10/site-packages (from ndg-httpsclient<=0.5.1->azureml-core~=1.57.0->azureml-pipeline-core==1.57.0) (0.4.8)\nRequirement already satisfied: pyparsing!=3.0.5,>=2.0.2 in /home/trusted-service-user/cluster-env/env/lib/python3.10/site-packages (from packaging<=25.0,>=20.0->azureml-core~=1.57.0->azureml-pipeline-core==1.57.0) (3.0.9)\nRequirement already satisfied: bcrypt>=3.1.3 in /home/trusted-service-user/cluster-env/env/lib/python3.10/site-packages (from paramiko<4.0.0,>=2.0.8->azureml-core~=1.57.0->azureml-pipeline-core==1.57.0) (4.0.1)\nRequirement already satisfied: pynacl>=1.0.1 in /home/trusted-service-user/cluster-env/env/lib/python3.10/site-packages (from paramiko<4.0.0,>=2.0.8->azureml-core~=1.57.0->azureml-pipeline-core==1.57.0) (1.5.0)\nRequirement already satisfied: idna<4,>=2.5 in /home/trusted-service-user/cluster-env/env/lib/python3.10/site-packages (from requests[socks]<3.0.0,>=2.19.1->azureml-core~=1.57.0->azureml-pipeline-core==1.57.0) (3.4)\nRequirement already satisfied: charset-normalizer<3,>=2 in /home/trusted-service-user/cluster-env/env/lib/python3.10/site-packages (from requests[socks]<3.0.0,>=2.19.1->azureml-core~=1.57.0->azureml-pipeline-core==1.57.0) (2.1.1)\nRequirement already satisfied: PySocks!=1.5.7,>=1.5.6 in /home/trusted-service-user/cluster-env/env/lib/python3.10/site-packages (from requests[socks]<3.0.0,>=2.19.1->azureml-core~=1.57.0->azureml-pipeline-core==1.57.0) (1.7.1)\nRequirement already satisfied: jeepney>=0.6 in /home/trusted-service-user/cluster-env/env/lib/python3.10/site-packages (from SecretStorage<4.0.0->azureml-core~=1.57.0->azureml-pipeline-core==1.57.0) (0.8.0)\nRequirement already satisfied: backports.weakref in /home/trusted-service-user/cluster-env/env/lib/python3.10/site-packages (from backports.tempfile->azureml-core~=1.57.0->azureml-pipeline-core==1.57.0) (1.0.post1)\nRequirement already satisfied: cffi>=1.12 in /home/trusted-service-user/cluster-env/env/lib/python3.10/site-packages (from cryptography>=1.1.0->adal<=1.2.7,>=1.2.0->azureml-core~=1.57.0->azureml-pipeline-core==1.57.0) (1.15.1)\nRequirement already satisfied: oauthlib>=3.0.0 in /home/trusted-service-user/cluster-env/env/lib/python3.10/site-packages (from requests-oauthlib>=0.5.0->msrest<=0.7.1,>=0.5.1->azureml-core~=1.57.0->azureml-pipeline-core==1.57.0) (3.2.2)\nRequirement already satisfied: pycparser in /home/trusted-service-user/cluster-env/env/lib/python3.10/site-packages (from cffi>=1.12->cryptography>=1.1.0->adal<=1.2.7,>=1.2.0->azureml-core~=1.57.0->azureml-pipeline-core==1.57.0) (2.21)\n\u001b[33mWARNING: You are using pip version 22.0.4; however, version 24.2 is available.\nYou should consider upgrading via the '/nfs4/pyenv-525bb166-fc19-4c39-bec6-1e96d4e3df1d/bin/python -m pip install --upgrade pip' command.\u001b[0m\u001b[33m\n\u001b[0mNote: you may need to restart the kernel to use updated packages.\nRequirement already satisfied: azureml-pipeline-steps in /nfs4/pyenv-525bb166-fc19-4c39-bec6-1e96d4e3df1d/lib/python3.10/site-packages (1.57.0)\nRequirement already satisfied: azureml-train-automl-client~=1.57.0 in /nfs4/pyenv-525bb166-fc19-4c39-bec6-1e96d4e3df1d/lib/python3.10/site-packages (from azureml-pipeline-steps) (1.57.0)\nRequirement already satisfied: azureml-pipeline-core~=1.57.0 in /nfs4/pyenv-525bb166-fc19-4c39-bec6-1e96d4e3df1d/lib/python3.10/site-packages (from azureml-pipeline-steps) (1.57.0)\nRequirement already satisfied: azureml-train-core~=1.57.0 in /nfs4/pyenv-525bb166-fc19-4c39-bec6-1e96d4e3df1d/lib/python3.10/site-packages (from azureml-pipeline-steps) (1.57.0)\nRequirement already satisfied: azureml-core~=1.57.0 in /nfs4/pyenv-525bb166-fc19-4c39-bec6-1e96d4e3df1d/lib/python3.10/site-packages (from azureml-pipeline-core~=1.57.0->azureml-pipeline-steps) (1.57.0.post3)\nRequirement already satisfied: azureml-dataset-runtime~=1.57.0 in /nfs4/pyenv-525bb166-fc19-4c39-bec6-1e96d4e3df1d/lib/python3.10/site-packages (from azureml-train-automl-client~=1.57.0->azureml-pipeline-steps) (1.57.0)\nRequirement already satisfied: azureml-telemetry~=1.57.0 in /nfs4/pyenv-525bb166-fc19-4c39-bec6-1e96d4e3df1d/lib/python3.10/site-packages (from azureml-train-automl-client~=1.57.0->azureml-pipeline-steps) (1.57.0)\nRequirement already satisfied: azureml-automl-core~=1.57.0 in /nfs4/pyenv-525bb166-fc19-4c39-bec6-1e96d4e3df1d/lib/python3.10/site-packages (from azureml-train-automl-client~=1.57.0->azureml-pipeline-steps) (1.57.0)\nRequirement already satisfied: azureml-train-restclients-hyperdrive~=1.57.0 in /nfs4/pyenv-525bb166-fc19-4c39-bec6-1e96d4e3df1d/lib/python3.10/site-packages (from azureml-train-core~=1.57.0->azureml-pipeline-steps) (1.57.0)\nRequirement already satisfied: importlib-resources<=6.4.0 in /nfs4/pyenv-525bb166-fc19-4c39-bec6-1e96d4e3df1d/lib/python3.10/site-packages (from azureml-automl-core~=1.57.0->azureml-train-automl-client~=1.57.0->azureml-pipeline-steps) (6.4.0)\nRequirement already satisfied: importlib-metadata<=8.2.0 in /home/trusted-service-user/cluster-env/env/lib/python3.10/site-packages (from azureml-automl-core~=1.57.0->azureml-train-automl-client~=1.57.0->azureml-pipeline-steps) (5.0.0)\nRequirement already satisfied: ndg-httpsclient<=0.5.1 in /home/trusted-service-user/cluster-env/env/lib/python3.10/site-packages (from azureml-core~=1.57.0->azureml-pipeline-core~=1.57.0->azureml-pipeline-steps) (0.5.1)\nRequirement already satisfied: pkginfo in /home/trusted-service-user/cluster-env/env/lib/python3.10/site-packages (from azureml-core~=1.57.0->azureml-pipeline-core~=1.57.0->azureml-pipeline-steps) (1.8.3)\nRequirement already satisfied: jsonpickle<4.0.0 in /home/trusted-service-user/cluster-env/env/lib/python3.10/site-packages (from azureml-core~=1.57.0->azureml-pipeline-core~=1.57.0->azureml-pipeline-steps) (2.2.0)\nRequirement already satisfied: pathspec<1.0.0 in /home/trusted-service-user/cluster-env/env/lib/python3.10/site-packages (from azureml-core~=1.57.0->azureml-pipeline-core~=1.57.0->azureml-pipeline-steps) (0.10.1)\nRequirement already satisfied: knack<0.12.0 in /home/trusted-service-user/cluster-env/env/lib/python3.10/site-packages (from azureml-core~=1.57.0->azureml-pipeline-core~=1.57.0->azureml-pipeline-steps) (0.10.0)\nRequirement already satisfied: PyJWT<3.0.0 in /home/trusted-service-user/cluster-env/env/lib/python3.10/site-packages (from azureml-core~=1.57.0->azureml-pipeline-core~=1.57.0->azureml-pipeline-steps) (2.6.0)\nRequirement already satisfied: adal<=1.2.7,>=1.2.0 in /home/trusted-service-user/cluster-env/env/lib/python3.10/site-packages (from azureml-core~=1.57.0->azureml-pipeline-core~=1.57.0->azureml-pipeline-steps) (1.2.7)\nRequirement already satisfied: argcomplete<4 in /home/trusted-service-user/cluster-env/env/lib/python3.10/site-packages (from azureml-core~=1.57.0->azureml-pipeline-core~=1.57.0->azureml-pipeline-steps) (2.0.0)\nRequirement already satisfied: azure-graphrbac<1.0.0,>=0.40.0 in /home/trusted-service-user/cluster-env/env/lib/python3.10/site-packages (from azureml-core~=1.57.0->azureml-pipeline-core~=1.57.0->azureml-pipeline-steps) (0.61.1)\nRequirement already satisfied: azure-mgmt-network<=26.0.0 in /nfs4/pyenv-525bb166-fc19-4c39-bec6-1e96d4e3df1d/lib/python3.10/site-packages (from azureml-core~=1.57.0->azureml-pipeline-core~=1.57.0->azureml-pipeline-steps) (26.0.0)\nRequirement already satisfied: backports.tempfile in /home/trusted-service-user/cluster-env/env/lib/python3.10/site-packages (from azureml-core~=1.57.0->azureml-pipeline-core~=1.57.0->azureml-pipeline-steps) (1.0)\nRequirement already satisfied: docker<8.0.0 in /home/trusted-service-user/cluster-env/env/lib/python3.10/site-packages (from azureml-core~=1.57.0->azureml-pipeline-core~=1.57.0->azureml-pipeline-steps) (6.0.1)\nRequirement already satisfied: packaging<=25.0,>=20.0 in /home/trusted-service-user/cluster-env/env/lib/python3.10/site-packages (from azureml-core~=1.57.0->azureml-pipeline-core~=1.57.0->azureml-pipeline-steps) (21.3)\nRequirement already satisfied: msal-extensions<=2.0.0,>=0.3.0 in /nfs4/pyenv-525bb166-fc19-4c39-bec6-1e96d4e3df1d/lib/python3.10/site-packages (from azureml-core~=1.57.0->azureml-pipeline-core~=1.57.0->azureml-pipeline-steps) (0.3.1)\nRequirement already satisfied: msrestazure<=0.7,>=0.4.33 in /home/trusted-service-user/cluster-env/env/lib/python3.10/site-packages (from azureml-core~=1.57.0->azureml-pipeline-core~=1.57.0->azureml-pipeline-steps) (0.6.4)\nRequirement already satisfied: contextlib2<22.0.0 in /home/trusted-service-user/cluster-env/env/lib/python3.10/site-packages (from azureml-core~=1.57.0->azureml-pipeline-core~=1.57.0->azureml-pipeline-steps) (21.6.0)\nRequirement already satisfied: humanfriendly<11.0,>=4.7 in /home/trusted-service-user/cluster-env/env/lib/python3.10/site-packages (from azureml-core~=1.57.0->azureml-pipeline-core~=1.57.0->azureml-pipeline-steps) (10.0)\nRequirement already satisfied: msrest<=0.7.1,>=0.5.1 in /home/trusted-service-user/cluster-env/env/lib/python3.10/site-packages (from azureml-core~=1.57.0->azureml-pipeline-core~=1.57.0->azureml-pipeline-steps) (0.7.1)\nRequirement already satisfied: azure-mgmt-storage<=22.0.0,>=16.0.0 in /home/trusted-service-user/cluster-env/env/lib/python3.10/site-packages (from azureml-core~=1.57.0->azureml-pipeline-core~=1.57.0->azureml-pipeline-steps) (20.1.0)\nRequirement already satisfied: pyopenssl<25.0.0 in /home/trusted-service-user/cluster-env/env/lib/python3.10/site-packages (from azureml-core~=1.57.0->azureml-pipeline-core~=1.57.0->azureml-pipeline-steps) (22.1.0)\nRequirement already satisfied: azure-mgmt-authorization<5,>=0.40.0 in /home/trusted-service-user/cluster-env/env/lib/python3.10/site-packages (from azureml-core~=1.57.0->azureml-pipeline-core~=1.57.0->azureml-pipeline-steps) (2.0.0)\nRequirement already satisfied: paramiko<4.0.0,>=2.0.8 in /home/trusted-service-user/cluster-env/env/lib/python3.10/site-packages (from azureml-core~=1.57.0->azureml-pipeline-core~=1.57.0->azureml-pipeline-steps) (2.12.0)\nRequirement already satisfied: msal<2.0.0,>=1.15.0 in /home/trusted-service-user/cluster-env/env/lib/python3.10/site-packages (from azureml-core~=1.57.0->azureml-pipeline-core~=1.57.0->azureml-pipeline-steps) (1.18.0)\nRequirement already satisfied: azure-mgmt-resource<=24.0.0,>=15.0.0 in /home/trusted-service-user/cluster-env/env/lib/python3.10/site-packages (from azureml-core~=1.57.0->azureml-pipeline-core~=1.57.0->azureml-pipeline-steps) (21.2.1)\nRequirement already satisfied: urllib3<3.0.0,>1.26.17 in /nfs4/pyenv-525bb166-fc19-4c39-bec6-1e96d4e3df1d/lib/python3.10/site-packages (from azureml-core~=1.57.0->azureml-pipeline-core~=1.57.0->azureml-pipeline-steps) (1.26.20)\nRequirement already satisfied: jmespath<2.0.0 in /nfs4/pyenv-525bb166-fc19-4c39-bec6-1e96d4e3df1d/lib/python3.10/site-packages (from azureml-core~=1.57.0->azureml-pipeline-core~=1.57.0->azureml-pipeline-steps) (0.10.0)\nRequirement already satisfied: azure-mgmt-keyvault<11.0.0,>=0.40.0 in /home/trusted-service-user/cluster-env/env/lib/python3.10/site-packages (from azureml-core~=1.57.0->azureml-pipeline-core~=1.57.0->azureml-pipeline-steps) (10.1.0)\nRequirement already satisfied: python-dateutil<3.0.0,>=2.7.3 in /home/trusted-service-user/cluster-env/env/lib/python3.10/site-packages (from azureml-core~=1.57.0->azureml-pipeline-core~=1.57.0->azureml-pipeline-steps) (2.8.2)\nRequirement already satisfied: SecretStorage<4.0.0 in /home/trusted-service-user/cluster-env/env/lib/python3.10/site-packages (from azureml-core~=1.57.0->azureml-pipeline-core~=1.57.0->azureml-pipeline-steps) (3.3.3)\nRequirement already satisfied: requests[socks]<3.0.0,>=2.19.1 in /home/trusted-service-user/cluster-env/env/lib/python3.10/site-packages (from azureml-core~=1.57.0->azureml-pipeline-core~=1.57.0->azureml-pipeline-steps) (2.28.1)\nRequirement already satisfied: azure-common<2.0.0,>=1.1.12 in /home/trusted-service-user/cluster-env/env/lib/python3.10/site-packages (from azureml-core~=1.57.0->azureml-pipeline-core~=1.57.0->azureml-pipeline-steps) (1.1.28)\nRequirement already satisfied: pytz in /home/trusted-service-user/cluster-env/env/lib/python3.10/site-packages (from azureml-core~=1.57.0->azureml-pipeline-core~=1.57.0->azureml-pipeline-steps) (2022.6)\nRequirement already satisfied: azure-core<2.0.0 in /nfs4/pyenv-525bb166-fc19-4c39-bec6-1e96d4e3df1d/lib/python3.10/site-packages (from azureml-core~=1.57.0->azureml-pipeline-core~=1.57.0->azureml-pipeline-steps) (1.31.0)\nRequirement already satisfied: azure-mgmt-containerregistry<11,>=8.2.0 in /home/trusted-service-user/cluster-env/env/lib/python3.10/site-packages (from azureml-core~=1.57.0->azureml-pipeline-core~=1.57.0->azureml-pipeline-steps) (10.0.0)\nRequirement already satisfied: numpy!=1.19.3,<1.24 in /home/trusted-service-user/cluster-env/env/lib/python3.10/site-packages (from azureml-dataset-runtime~=1.57.0->azureml-train-automl-client~=1.57.0->azureml-pipeline-steps) (1.23.4)\nRequirement already satisfied: azureml-dataprep<5.2.0a,>=5.1.0a in /nfs4/pyenv-525bb166-fc19-4c39-bec6-1e96d4e3df1d/lib/python3.10/site-packages (from azureml-dataset-runtime~=1.57.0->azureml-train-automl-client~=1.57.0->azureml-pipeline-steps) (5.1.6)\nRequirement already satisfied: pyarrow>=0.17.0 in /nfs4/pyenv-525bb166-fc19-4c39-bec6-1e96d4e3df1d/lib/python3.10/site-packages (from azureml-dataset-runtime~=1.57.0->azureml-train-automl-client~=1.57.0->azureml-pipeline-steps) (14.0.2)\nRequirement already satisfied: applicationinsights in /home/trusted-service-user/cluster-env/env/lib/python3.10/site-packages (from azureml-telemetry~=1.57.0->azureml-train-automl-client~=1.57.0->azureml-pipeline-steps) (0.11.10)\nRequirement already satisfied: cryptography>=1.1.0 in /home/trusted-service-user/cluster-env/env/lib/python3.10/site-packages (from adal<=1.2.7,>=1.2.0->azureml-core~=1.57.0->azureml-pipeline-core~=1.57.0->azureml-pipeline-steps) (38.0.3)\nRequirement already satisfied: six>=1.11.0 in /home/trusted-service-user/cluster-env/env/lib/python3.10/site-packages (from azure-core<2.0.0->azureml-core~=1.57.0->azureml-pipeline-core~=1.57.0->azureml-pipeline-steps) (1.16.0)\nRequirement already satisfied: typing-extensions>=4.6.0 in /nfs4/pyenv-525bb166-fc19-4c39-bec6-1e96d4e3df1d/lib/python3.10/site-packages (from azure-core<2.0.0->azureml-core~=1.57.0->azureml-pipeline-core~=1.57.0->azureml-pipeline-steps) (4.12.2)\nRequirement already satisfied: azure-mgmt-core<2.0.0,>=1.2.0 in /home/trusted-service-user/cluster-env/env/lib/python3.10/site-packages (from azure-mgmt-authorization<5,>=0.40.0->azureml-core~=1.57.0->azureml-pipeline-core~=1.57.0->azureml-pipeline-steps) (1.3.2)\nRequirement already satisfied: isodate>=0.6.1 in /nfs4/pyenv-525bb166-fc19-4c39-bec6-1e96d4e3df1d/lib/python3.10/site-packages (from azure-mgmt-network<=26.0.0->azureml-core~=1.57.0->azureml-pipeline-core~=1.57.0->azureml-pipeline-steps) (0.7.2)\nRequirement already satisfied: azureml-dataprep-native<42.0.0,>=41.0.0 in /nfs4/pyenv-525bb166-fc19-4c39-bec6-1e96d4e3df1d/lib/python3.10/site-packages (from azureml-dataprep<5.2.0a,>=5.1.0a->azureml-dataset-runtime~=1.57.0->azureml-train-automl-client~=1.57.0->azureml-pipeline-steps) (41.0.0)\nRequirement already satisfied: pyyaml<7.0.0,>=5.1.0 in /home/trusted-service-user/cluster-env/env/lib/python3.10/site-packages (from azureml-dataprep<5.2.0a,>=5.1.0a->azureml-dataset-runtime~=1.57.0->azureml-train-automl-client~=1.57.0->azureml-pipeline-steps) (6.0)\nRequirement already satisfied: cloudpickle<3.0.0,>=1.1.0 in /home/trusted-service-user/cluster-env/env/lib/python3.10/site-packages (from azureml-dataprep<5.2.0a,>=5.1.0a->azureml-dataset-runtime~=1.57.0->azureml-train-automl-client~=1.57.0->azureml-pipeline-steps) (2.2.0)\nRequirement already satisfied: azure-identity>=1.7.0 in /home/trusted-service-user/cluster-env/env/lib/python3.10/site-packages (from azureml-dataprep<5.2.0a,>=5.1.0a->azureml-dataset-runtime~=1.57.0->azureml-train-automl-client~=1.57.0->azureml-pipeline-steps) (1.7.0)\nRequirement already satisfied: jsonschema in /home/trusted-service-user/cluster-env/env/lib/python3.10/site-packages (from azureml-dataprep<5.2.0a,>=5.1.0a->azureml-dataset-runtime~=1.57.0->azureml-train-automl-client~=1.57.0->azureml-pipeline-steps) (4.17.0)\nRequirement already satisfied: azureml-dataprep-rslex~=2.22.2dev0 in /nfs4/pyenv-525bb166-fc19-4c39-bec6-1e96d4e3df1d/lib/python3.10/site-packages (from azureml-dataprep<5.2.0a,>=5.1.0a->azureml-dataset-runtime~=1.57.0->azureml-train-automl-client~=1.57.0->azureml-pipeline-steps) (2.22.4)\nRequirement already satisfied: websocket-client>=0.32.0 in /home/trusted-service-user/cluster-env/env/lib/python3.10/site-packages (from docker<8.0.0->azureml-core~=1.57.0->azureml-pipeline-core~=1.57.0->azureml-pipeline-steps) (1.4.2)\nRequirement already satisfied: zipp>=0.5 in /home/trusted-service-user/cluster-env/env/lib/python3.10/site-packages (from importlib-metadata<=8.2.0->azureml-automl-core~=1.57.0->azureml-train-automl-client~=1.57.0->azureml-pipeline-steps) (3.10.0)\nRequirement already satisfied: tabulate in /home/trusted-service-user/cluster-env/env/lib/python3.10/site-packages (from knack<0.12.0->azureml-core~=1.57.0->azureml-pipeline-core~=1.57.0->azureml-pipeline-steps) (0.9.0)\nRequirement already satisfied: pygments in /home/trusted-service-user/cluster-env/env/lib/python3.10/site-packages (from knack<0.12.0->azureml-core~=1.57.0->azureml-pipeline-core~=1.57.0->azureml-pipeline-steps) (2.13.0)\nRequirement already satisfied: portalocker<3,>=1.0 in /home/trusted-service-user/cluster-env/env/lib/python3.10/site-packages (from msal-extensions<=2.0.0,>=0.3.0->azureml-core~=1.57.0->azureml-pipeline-core~=1.57.0->azureml-pipeline-steps) (2.6.0)\nRequirement already satisfied: certifi>=2017.4.17 in /home/trusted-service-user/cluster-env/env/lib/python3.10/site-packages (from msrest<=0.7.1,>=0.5.1->azureml-core~=1.57.0->azureml-pipeline-core~=1.57.0->azureml-pipeline-steps) (2022.9.24)\nRequirement already satisfied: requests-oauthlib>=0.5.0 in /home/trusted-service-user/cluster-env/env/lib/python3.10/site-packages (from msrest<=0.7.1,>=0.5.1->azureml-core~=1.57.0->azureml-pipeline-core~=1.57.0->azureml-pipeline-steps) (1.3.1)\nRequirement already satisfied: pyasn1>=0.1.1 in /home/trusted-service-user/cluster-env/env/lib/python3.10/site-packages (from ndg-httpsclient<=0.5.1->azureml-core~=1.57.0->azureml-pipeline-core~=1.57.0->azureml-pipeline-steps) (0.4.8)\nRequirement already satisfied: pyparsing!=3.0.5,>=2.0.2 in /home/trusted-service-user/cluster-env/env/lib/python3.10/site-packages (from packaging<=25.0,>=20.0->azureml-core~=1.57.0->azureml-pipeline-core~=1.57.0->azureml-pipeline-steps) (3.0.9)\nRequirement already satisfied: bcrypt>=3.1.3 in /home/trusted-service-user/cluster-env/env/lib/python3.10/site-packages (from paramiko<4.0.0,>=2.0.8->azureml-core~=1.57.0->azureml-pipeline-core~=1.57.0->azureml-pipeline-steps) (4.0.1)\nRequirement already satisfied: pynacl>=1.0.1 in /home/trusted-service-user/cluster-env/env/lib/python3.10/site-packages (from paramiko<4.0.0,>=2.0.8->azureml-core~=1.57.0->azureml-pipeline-core~=1.57.0->azureml-pipeline-steps) (1.5.0)\nRequirement already satisfied: charset-normalizer<3,>=2 in /home/trusted-service-user/cluster-env/env/lib/python3.10/site-packages (from requests[socks]<3.0.0,>=2.19.1->azureml-core~=1.57.0->azureml-pipeline-core~=1.57.0->azureml-pipeline-steps) (2.1.1)\nRequirement already satisfied: idna<4,>=2.5 in /home/trusted-service-user/cluster-env/env/lib/python3.10/site-packages (from requests[socks]<3.0.0,>=2.19.1->azureml-core~=1.57.0->azureml-pipeline-core~=1.57.0->azureml-pipeline-steps) (3.4)\nRequirement already satisfied: PySocks!=1.5.7,>=1.5.6 in /home/trusted-service-user/cluster-env/env/lib/python3.10/site-packages (from requests[socks]<3.0.0,>=2.19.1->azureml-core~=1.57.0->azureml-pipeline-core~=1.57.0->azureml-pipeline-steps) (1.7.1)\nRequirement already satisfied: jeepney>=0.6 in /home/trusted-service-user/cluster-env/env/lib/python3.10/site-packages (from SecretStorage<4.0.0->azureml-core~=1.57.0->azureml-pipeline-core~=1.57.0->azureml-pipeline-steps) (0.8.0)\nRequirement already satisfied: backports.weakref in /home/trusted-service-user/cluster-env/env/lib/python3.10/site-packages (from backports.tempfile->azureml-core~=1.57.0->azureml-pipeline-core~=1.57.0->azureml-pipeline-steps) (1.0.post1)\nRequirement already satisfied: cffi>=1.12 in /home/trusted-service-user/cluster-env/env/lib/python3.10/site-packages (from cryptography>=1.1.0->adal<=1.2.7,>=1.2.0->azureml-core~=1.57.0->azureml-pipeline-core~=1.57.0->azureml-pipeline-steps) (1.15.1)\nRequirement already satisfied: oauthlib>=3.0.0 in /home/trusted-service-user/cluster-env/env/lib/python3.10/site-packages (from requests-oauthlib>=0.5.0->msrest<=0.7.1,>=0.5.1->azureml-core~=1.57.0->azureml-pipeline-core~=1.57.0->azureml-pipeline-steps) (3.2.2)\nRequirement already satisfied: pyrsistent!=0.17.0,!=0.17.1,!=0.17.2,>=0.14.0 in /home/trusted-service-user/cluster-env/env/lib/python3.10/site-packages (from jsonschema->azureml-dataprep<5.2.0a,>=5.1.0a->azureml-dataset-runtime~=1.57.0->azureml-train-automl-client~=1.57.0->azureml-pipeline-steps) (0.19.2)\nRequirement already satisfied: attrs>=17.4.0 in /home/trusted-service-user/cluster-env/env/lib/python3.10/site-packages (from jsonschema->azureml-dataprep<5.2.0a,>=5.1.0a->azureml-dataset-runtime~=1.57.0->azureml-train-automl-client~=1.57.0->azureml-pipeline-steps) (22.1.0)\nRequirement already satisfied: pycparser in /home/trusted-service-user/cluster-env/env/lib/python3.10/site-packages (from cffi>=1.12->cryptography>=1.1.0->adal<=1.2.7,>=1.2.0->azureml-core~=1.57.0->azureml-pipeline-core~=1.57.0->azureml-pipeline-steps) (2.21)\n\u001b[33mWARNING: You are using pip version 22.0.4; however, version 24.2 is available.\nYou should consider upgrading via the '/nfs4/pyenv-525bb166-fc19-4c39-bec6-1e96d4e3df1d/bin/python -m pip install --upgrade pip' command.\u001b[0m\u001b[33m\n\u001b[0mNote: you may need to restart the kernel to use updated packages.\n"
        },
        {
          "output_type": "execute_result",
          "execution_count": 27,
          "data": {},
          "metadata": {}
        },
        {
          "output_type": "stream",
          "name": "stdout",
          "text": "Warning: PySpark kernel has been restarted to use updated packages.\n\n"
        }
      ],
      "execution_count": 27,
      "metadata": {
        "jupyter": {
          "source_hidden": false,
          "outputs_hidden": false
        },
        "nteract": {
          "transient": {
            "deleting": false
          }
        },
        "gather": {
          "logged": 1728977787307
        }
      }
    },
    {
      "cell_type": "code",
      "source": [
        "import logging\n",
        "import os\n",
        "import csv\n",
        "\n",
        "from matplotlib import pyplot as plt\n",
        "import numpy as np\n",
        "import pandas as pd\n",
        "from sklearn import datasets\n",
        "import pkg_resources\n",
        "\n",
        "import azureml.core\n",
        "from azureml.core.experiment import Experiment\n",
        "from azureml.core.workspace import Workspace\n",
        "from azureml.train.automl import AutoMLConfig\n",
        "from azureml.core.dataset import Dataset\n",
        "\n",
        "from azureml.pipeline.steps import AutoMLStep\n",
        "\n",
        "# Check core SDK version number\n",
        "print(\"SDK version:\", azureml.core.VERSION)"
      ],
      "outputs": [
        {
          "output_type": "display_data",
          "data": {
            "application/vnd.livy.statement-meta+json": {
              "spark_pool": null,
              "statement_id": -1,
              "statement_ids": [],
              "state": "waiting",
              "livy_statement_state": null,
              "spark_jobs": null,
              "session_id": null,
              "normalized_state": "waiting",
              "queued_time": "2024-10-15T09:06:56.308917Z",
              "session_start_time": null,
              "execution_start_time": null,
              "execution_finish_time": null,
              "parent_msg_id": "aa2ace60-36c1-4816-b04d-f1f022f9b0a4"
            },
            "text/plain": "StatementMeta(, , -1, Waiting, , Waiting)"
          },
          "metadata": {}
        }
      ],
      "execution_count": 28,
      "metadata": {
        "gather": {
          "logged": 1728979193966
        }
      }
    },
    {
      "cell_type": "markdown",
      "source": [
        "## Initialize Workspace\n",
        "Initialize a workspace object from persisted configuration. Make sure the config file is present at .\\config.json"
      ],
      "metadata": {}
    },
    {
      "cell_type": "code",
      "source": [
        "ws = Workspace.from_config(path=\"Users/odl_user_268698/starter_files/config.json\")\n",
        "print(ws.name, ws.resource_group, ws.location, ws.subscription_id, sep = '\\n')"
      ],
      "outputs": [
        {
          "output_type": "display_data",
          "data": {
            "application/vnd.livy.statement-meta+json": {
              "spark_pool": null,
              "statement_id": null,
              "statement_ids": null,
              "state": "waiting",
              "livy_statement_state": null,
              "spark_jobs": null,
              "session_id": null,
              "normalized_state": "waiting",
              "queued_time": "2024-10-15T09:06:56.6027264Z",
              "session_start_time": null,
              "execution_start_time": null,
              "execution_finish_time": null,
              "parent_msg_id": "b05dcb68-f9aa-408d-bf96-879b1b45c1aa"
            },
            "text/plain": "StatementMeta(, , , Waiting, , Waiting)"
          },
          "metadata": {}
        }
      ],
      "execution_count": null,
      "metadata": {
        "gather": {
          "logged": 1728979339739
        }
      }
    },
    {
      "cell_type": "markdown",
      "source": [
        "## Create an Azure ML experiment\n",
        "Let's create an experiment named \"automlstep-classification\" and a folder to hold the training scripts. The script runs will be recorded under the experiment in Azure.\n",
        "\n",
        "The best practice is to use separate folders for scripts and its dependent files for each step and specify that folder as the `source_directory` for the step. This helps reduce the size of the snapshot created for the step (only the specific folder is snapshotted). Since changes in any files in the `source_directory` would trigger a re-upload of the snapshot, this helps keep the reuse of the step when there are no changes in the `source_directory` of the step.\n",
        "\n",
        "*Udacity Note:* There is no need to create an Azure ML experiment, this needs to re-use the experiment that was already created\n"
      ],
      "metadata": {}
    },
    {
      "cell_type": "code",
      "source": [
        "# Choose a name for the run history container in the workspace.\n",
        "# NOTE: update these to match your existing experiment name\n",
        "experiment_name = 'ml-experiment-project-2'\n",
        "project_folder = './pipeline-project'\n",
        "\n",
        "experiment = Experiment(ws, experiment_name)\n",
        "experiment"
      ],
      "outputs": [
        {
          "output_type": "display_data",
          "data": {
            "application/vnd.livy.statement-meta+json": {
              "spark_pool": null,
              "statement_id": null,
              "statement_ids": null,
              "state": "waiting",
              "livy_statement_state": null,
              "spark_jobs": null,
              "session_id": null,
              "normalized_state": "waiting",
              "queued_time": "2024-10-15T09:06:57.2827049Z",
              "session_start_time": null,
              "execution_start_time": null,
              "execution_finish_time": null,
              "parent_msg_id": "5464dde1-f382-46a2-9da3-14b34ca6799a"
            },
            "text/plain": "StatementMeta(, , , Waiting, , Waiting)"
          },
          "metadata": {}
        }
      ],
      "execution_count": null,
      "metadata": {
        "gather": {
          "logged": 1728979403880
        }
      }
    },
    {
      "cell_type": "markdown",
      "source": [
        "### Create or Attach an AmlCompute cluster\n",
        "You will need to create a [compute target](https://docs.microsoft.com/azure/machine-learning/service/concept-azure-machine-learning-architecture#compute-target) for your AutoML run. In this tutorial, you get the default `AmlCompute` as your training compute resource.\n",
        "\n",
        "**Udacity Note** There is no need to create a new compute target, it can re-use the previous cluster"
      ],
      "metadata": {}
    },
    {
      "cell_type": "code",
      "source": [
        "from azureml.core.compute import AmlCompute\n",
        "from azureml.core.compute import ComputeTarget\n",
        "from azureml.core.compute_target import ComputeTargetException\n",
        "\n",
        "# NOTE: update the cluster name to match the existing cluster\n",
        "# Choose a name for your CPU cluster\n",
        "amlcompute_cluster_name = \"auto-ml\"\n",
        "\n",
        "# Verify that cluster does not exist already\n",
        "try:\n",
        "    compute_target = ComputeTarget(workspace=ws, name=amlcompute_cluster_name)\n",
        "    print('Found existing cluster, use it.')\n",
        "except ComputeTargetException:\n",
        "    compute_config = AmlCompute.provisioning_configuration(vm_size='STANDARD_D2_V2',# for GPU, use \"STANDARD_NC6\"\n",
        "                                                           #vm_priority = 'lowpriority', # optional\n",
        "                                                           max_nodes=4)\n",
        "    compute_target = ComputeTarget.create(ws, amlcompute_cluster_name, compute_config)\n",
        "\n",
        "compute_target.wait_for_completion(show_output=True, min_node_count = 1, timeout_in_minutes = 10)\n",
        "# For a more detailed view of current AmlCompute status, use get_status()."
      ],
      "outputs": [
        {
          "output_type": "display_data",
          "data": {
            "application/vnd.livy.statement-meta+json": {
              "spark_pool": null,
              "statement_id": null,
              "statement_ids": null,
              "state": "waiting",
              "livy_statement_state": null,
              "spark_jobs": null,
              "session_id": null,
              "normalized_state": "waiting",
              "queued_time": "2024-10-15T09:06:57.6061198Z",
              "session_start_time": null,
              "execution_start_time": null,
              "execution_finish_time": null,
              "parent_msg_id": "d4b8ee49-1bb6-42f0-838f-eef0487121bd"
            },
            "text/plain": "StatementMeta(, , , Waiting, , Waiting)"
          },
          "metadata": {}
        }
      ],
      "execution_count": null,
      "metadata": {
        "gather": {
          "logged": 1728980104811
        }
      }
    },
    {
      "cell_type": "markdown",
      "source": [
        "## Data\n",
        "\n",
        "**Udacity note:** Make sure the `key` is the same name as the dataset that is uploaded, and that the description matches. If it is hard to find or unknown, loop over the `ws.datasets.keys()` and `print()` them.\n",
        "If it *isn't* found because it was deleted, it can be recreated with the link that has the CSV "
      ],
      "metadata": {}
    },
    {
      "cell_type": "code",
      "source": [
        "# Try to load the dataset from the Workspace. Otherwise, create it from the file\n",
        "# NOTE: update the key to match the dataset name\n",
        "found = False\n",
        "key = \"BankMarketing Dataset\"\n",
        "description_text = \"Bank Marketing DataSet for Udacity Course 2\"\n",
        "\n",
        "if key in ws.datasets.keys(): \n",
        "        found = True\n",
        "        dataset = ws.datasets[key] \n",
        "\n",
        "if not found:\n",
        "        # Create AML Dataset and register it into Workspace\n",
        "        example_data = 'https://automlsamplenotebookdata.blob.core.windows.net/automl-sample-notebook-data/bankmarketing_train.csv'\n",
        "        dataset = Dataset.Tabular.from_delimited_files(example_data)        \n",
        "        #Register Dataset in Workspace\n",
        "        dataset = dataset.register(workspace=ws,\n",
        "                                   name=key,\n",
        "                                   description=description_text)\n",
        "\n",
        "\n",
        "df = dataset.to_pandas_dataframe()\n",
        "df.describe()"
      ],
      "outputs": [
        {
          "output_type": "display_data",
          "data": {
            "application/vnd.livy.statement-meta+json": {
              "spark_pool": null,
              "statement_id": null,
              "statement_ids": null,
              "state": "waiting",
              "livy_statement_state": null,
              "spark_jobs": null,
              "session_id": null,
              "normalized_state": "waiting",
              "queued_time": "2024-10-15T09:06:58.2881513Z",
              "session_start_time": null,
              "execution_start_time": null,
              "execution_finish_time": null,
              "parent_msg_id": "962acd4b-09ca-43f4-966c-f32f4231666a"
            },
            "text/plain": "StatementMeta(, , , Waiting, , Waiting)"
          },
          "metadata": {}
        }
      ],
      "execution_count": null,
      "metadata": {
        "gather": {
          "logged": 1728980291293
        }
      }
    },
    {
      "cell_type": "markdown",
      "source": [
        "### Review the Dataset Result\n",
        "\n",
        "You can peek the result of a TabularDataset at any range using `skip(i)` and `take(j).to_pandas_dataframe()`. Doing so evaluates only `j` records for all the steps in the TabularDataset, which makes it fast even against large datasets.\n",
        "\n",
        "`TabularDataset` objects are composed of a list of transformation steps (optional)."
      ],
      "metadata": {}
    },
    {
      "cell_type": "code",
      "source": [
        "dataset.take(5).to_pandas_dataframe()"
      ],
      "outputs": [
        {
          "output_type": "display_data",
          "data": {
            "application/vnd.livy.statement-meta+json": {
              "spark_pool": null,
              "statement_id": null,
              "statement_ids": null,
              "state": "waiting",
              "livy_statement_state": null,
              "spark_jobs": null,
              "session_id": null,
              "normalized_state": "waiting",
              "queued_time": "2024-10-15T09:06:58.8761179Z",
              "session_start_time": null,
              "execution_start_time": null,
              "execution_finish_time": null,
              "parent_msg_id": "b2221be2-34f4-4278-968b-0125384181d4"
            },
            "text/plain": "StatementMeta(, , , Waiting, , Waiting)"
          },
          "metadata": {}
        }
      ],
      "execution_count": null,
      "metadata": {
        "gather": {
          "logged": 1728980342311
        }
      }
    },
    {
      "cell_type": "markdown",
      "source": [
        "## Train\n",
        "This creates a general AutoML settings object.\n",
        "**Udacity notes:** These inputs must match what was used when training in the portal. `label_column_name` has to be `y` for example."
      ],
      "metadata": {}
    },
    {
      "cell_type": "code",
      "source": [
        "automl_settings = {\n",
        "    \"experiment_timeout_minutes\": 20,\n",
        "    \"max_concurrent_iterations\": 5,\n",
        "    \"primary_metric\" : 'AUC_weighted'\n",
        "}\n",
        "automl_config = AutoMLConfig(compute_target=compute_target,\n",
        "                             task = \"classification\",\n",
        "                             training_data=dataset,\n",
        "                             label_column_name=\"y\",   \n",
        "                             path = project_folder,\n",
        "                             enable_early_stopping= True,\n",
        "                             featurization= 'auto',\n",
        "                             debug_log = \"automl_errors.log\",\n",
        "                             **automl_settings\n",
        "                            )"
      ],
      "outputs": [
        {
          "output_type": "display_data",
          "data": {
            "application/vnd.livy.statement-meta+json": {
              "spark_pool": null,
              "statement_id": null,
              "statement_ids": null,
              "state": "waiting",
              "livy_statement_state": null,
              "spark_jobs": null,
              "session_id": null,
              "normalized_state": "waiting",
              "queued_time": "2024-10-15T09:06:59.3995703Z",
              "session_start_time": null,
              "execution_start_time": null,
              "execution_finish_time": null,
              "parent_msg_id": "0deeb925-69e5-4ae7-b02c-2ba4ec45aa4d"
            },
            "text/plain": "StatementMeta(, , , Waiting, , Waiting)"
          },
          "metadata": {}
        }
      ],
      "execution_count": null,
      "metadata": {
        "gather": {
          "logged": 1728980365862
        }
      }
    },
    {
      "cell_type": "markdown",
      "source": [
        "#### Create Pipeline and AutoMLStep\n",
        "\n",
        "You can define outputs for the AutoMLStep using TrainingOutput."
      ],
      "metadata": {}
    },
    {
      "cell_type": "code",
      "source": [
        "from azureml.pipeline.core import PipelineData, TrainingOutput\n",
        "\n",
        "ds = ws.get_default_datastore()\n",
        "metrics_output_name = 'metrics_output'\n",
        "best_model_output_name = 'best_model_output'\n",
        "\n",
        "metrics_data = PipelineData(name='metrics_data',\n",
        "                           datastore=ds,\n",
        "                           pipeline_output_name=metrics_output_name,\n",
        "                           training_output=TrainingOutput(type='Metrics'))\n",
        "model_data = PipelineData(name='model_data',\n",
        "                           datastore=ds,\n",
        "                           pipeline_output_name=best_model_output_name,\n",
        "                           training_output=TrainingOutput(type='Model'))"
      ],
      "outputs": [
        {
          "output_type": "display_data",
          "data": {
            "application/vnd.livy.statement-meta+json": {
              "spark_pool": null,
              "statement_id": null,
              "statement_ids": null,
              "state": "waiting",
              "livy_statement_state": null,
              "spark_jobs": null,
              "session_id": null,
              "normalized_state": "waiting",
              "queued_time": "2024-10-15T09:06:59.7864713Z",
              "session_start_time": null,
              "execution_start_time": null,
              "execution_finish_time": null,
              "parent_msg_id": "ede0410b-9fa0-4f31-849e-e85bb736a004"
            },
            "text/plain": "StatementMeta(, , , Waiting, , Waiting)"
          },
          "metadata": {}
        }
      ],
      "execution_count": null,
      "metadata": {
        "gather": {
          "logged": 1728980398018
        }
      }
    },
    {
      "cell_type": "markdown",
      "source": [
        "Create an AutoMLStep."
      ],
      "metadata": {}
    },
    {
      "cell_type": "code",
      "source": [
        "automl_step = AutoMLStep(\n",
        "    name='automl_module',\n",
        "    automl_config=automl_config,\n",
        "    outputs=[metrics_data, model_data],\n",
        "    allow_reuse=True)"
      ],
      "outputs": [
        {
          "output_type": "display_data",
          "data": {
            "application/vnd.livy.statement-meta+json": {
              "spark_pool": null,
              "statement_id": null,
              "statement_ids": null,
              "state": "waiting",
              "livy_statement_state": null,
              "spark_jobs": null,
              "session_id": null,
              "normalized_state": "waiting",
              "queued_time": "2024-10-15T09:07:00.1161826Z",
              "session_start_time": null,
              "execution_start_time": null,
              "execution_finish_time": null,
              "parent_msg_id": "be97837f-f017-4a2c-8cc1-c47b3ee01731"
            },
            "text/plain": "StatementMeta(, , , Waiting, , Waiting)"
          },
          "metadata": {}
        }
      ],
      "execution_count": null,
      "metadata": {
        "tags": [
          "automlstep-remarks-sample1"
        ],
        "gather": {
          "logged": 1728980423770
        }
      }
    },
    {
      "cell_type": "code",
      "source": [
        "from azureml.pipeline.core import Pipeline\n",
        "pipeline = Pipeline(\n",
        "    description=\"pipeline_with_automlstep\",\n",
        "    workspace=ws,    \n",
        "    steps=[automl_step])"
      ],
      "outputs": [
        {
          "output_type": "display_data",
          "data": {
            "application/vnd.livy.statement-meta+json": {
              "spark_pool": null,
              "statement_id": null,
              "statement_ids": null,
              "state": "waiting",
              "livy_statement_state": null,
              "spark_jobs": null,
              "session_id": null,
              "normalized_state": "waiting",
              "queued_time": "2024-10-15T09:07:00.4270609Z",
              "session_start_time": null,
              "execution_start_time": null,
              "execution_finish_time": null,
              "parent_msg_id": "8d7eeac9-8d8c-4612-8828-5d2a8bb3b0aa"
            },
            "text/plain": "StatementMeta(, , , Waiting, , Waiting)"
          },
          "metadata": {}
        }
      ],
      "execution_count": null,
      "metadata": {
        "tags": [
          "automlstep-remarks-sample2"
        ],
        "gather": {
          "logged": 1728980457994
        }
      }
    },
    {
      "cell_type": "code",
      "source": [
        "pipeline_run = experiment.submit(pipeline)"
      ],
      "outputs": [
        {
          "output_type": "display_data",
          "data": {
            "application/vnd.livy.statement-meta+json": {
              "spark_pool": null,
              "statement_id": null,
              "statement_ids": null,
              "state": "waiting",
              "livy_statement_state": null,
              "spark_jobs": null,
              "session_id": null,
              "normalized_state": "waiting",
              "queued_time": "2024-10-15T09:07:00.7412665Z",
              "session_start_time": null,
              "execution_start_time": null,
              "execution_finish_time": null,
              "parent_msg_id": "50b595c7-9e70-4f7b-ac86-eb6f69f90f40"
            },
            "text/plain": "StatementMeta(, , , Waiting, , Waiting)"
          },
          "metadata": {}
        }
      ],
      "execution_count": null,
      "metadata": {
        "gather": {
          "logged": 1728980468214
        }
      }
    },
    {
      "cell_type": "code",
      "source": [
        "from azureml.widgets import RunDetails\n",
        "RunDetails(pipeline_run).show()"
      ],
      "outputs": [
        {
          "output_type": "display_data",
          "data": {
            "application/vnd.livy.statement-meta+json": {
              "spark_pool": null,
              "statement_id": null,
              "statement_ids": null,
              "state": "waiting",
              "livy_statement_state": null,
              "spark_jobs": null,
              "session_id": null,
              "normalized_state": "waiting",
              "queued_time": "2024-10-15T09:07:01.1316434Z",
              "session_start_time": null,
              "execution_start_time": null,
              "execution_finish_time": null,
              "parent_msg_id": "6c7011e3-7d39-46d8-aa99-55fb8514ddca"
            },
            "text/plain": "StatementMeta(, , , Waiting, , Waiting)"
          },
          "metadata": {}
        }
      ],
      "execution_count": null,
      "metadata": {
        "gather": {
          "logged": 1728980547876
        }
      }
    },
    {
      "cell_type": "code",
      "source": [
        "pipeline_run.wait_for_completion()"
      ],
      "outputs": [
        {
          "output_type": "display_data",
          "data": {
            "application/vnd.livy.statement-meta+json": {
              "spark_pool": null,
              "statement_id": null,
              "statement_ids": null,
              "state": "waiting",
              "livy_statement_state": null,
              "spark_jobs": null,
              "session_id": null,
              "normalized_state": "waiting",
              "queued_time": "2024-10-15T09:07:01.4617808Z",
              "session_start_time": null,
              "execution_start_time": null,
              "execution_finish_time": null,
              "parent_msg_id": "de70700b-a201-457b-a6f4-dc5bf8301301"
            },
            "text/plain": "StatementMeta(, , , Waiting, , Waiting)"
          },
          "metadata": {}
        }
      ],
      "execution_count": null,
      "metadata": {
        "gather": {
          "logged": 1728982302464
        }
      }
    },
    {
      "cell_type": "markdown",
      "source": [
        "## Examine Results\n",
        "\n",
        "### Retrieve the metrics of all child runs\n",
        "Outputs of above run can be used as inputs of other steps in pipeline. In this tutorial, we will examine the outputs by retrieve output data and running some tests."
      ],
      "metadata": {}
    },
    {
      "cell_type": "code",
      "source": [
        "metrics_output = pipeline_run.get_pipeline_output(metrics_output_name)\n",
        "num_file_downloaded = metrics_output.download('.', show_progress=True)"
      ],
      "outputs": [
        {
          "output_type": "display_data",
          "data": {
            "application/vnd.livy.statement-meta+json": {
              "spark_pool": null,
              "statement_id": null,
              "statement_ids": null,
              "state": "waiting",
              "livy_statement_state": null,
              "spark_jobs": null,
              "session_id": null,
              "normalized_state": "waiting",
              "queued_time": "2024-10-15T09:07:01.7719827Z",
              "session_start_time": null,
              "execution_start_time": null,
              "execution_finish_time": null,
              "parent_msg_id": "1a79cfd0-eccb-4790-a727-87db1dc60211"
            },
            "text/plain": "StatementMeta(, , , Waiting, , Waiting)"
          },
          "metadata": {}
        }
      ],
      "execution_count": null,
      "metadata": {
        "gather": {
          "logged": 1728982609433
        }
      }
    },
    {
      "cell_type": "code",
      "source": [
        "import json\n",
        "with open(metrics_output._path_on_datastore) as f:\n",
        "    metrics_output_result = f.read()\n",
        "    \n",
        "deserialized_metrics_output = json.loads(metrics_output_result)\n",
        "df = pd.DataFrame(deserialized_metrics_output)\n",
        "df"
      ],
      "outputs": [
        {
          "output_type": "display_data",
          "data": {
            "application/vnd.livy.statement-meta+json": {
              "spark_pool": null,
              "statement_id": null,
              "statement_ids": null,
              "state": "waiting",
              "livy_statement_state": null,
              "spark_jobs": null,
              "session_id": null,
              "normalized_state": "waiting",
              "queued_time": "2024-10-15T09:07:02.0879849Z",
              "session_start_time": null,
              "execution_start_time": null,
              "execution_finish_time": null,
              "parent_msg_id": "49b5a371-f896-4d6f-84b2-f9742e6e61ae"
            },
            "text/plain": "StatementMeta(, , , Waiting, , Waiting)"
          },
          "metadata": {}
        }
      ],
      "execution_count": null,
      "metadata": {
        "gather": {
          "logged": 1728982642862
        }
      }
    },
    {
      "cell_type": "markdown",
      "source": [
        "### Retrieve the Best Model"
      ],
      "metadata": {}
    },
    {
      "cell_type": "code",
      "source": [
        "# Retrieve best model from Pipeline Run\n",
        "best_model_output = pipeline_run.get_pipeline_output(best_model_output_name)\n",
        "num_file_downloaded = best_model_output.download('.', show_progress=True)"
      ],
      "outputs": [
        {
          "output_type": "display_data",
          "data": {
            "application/vnd.livy.statement-meta+json": {
              "spark_pool": null,
              "statement_id": null,
              "statement_ids": null,
              "state": "waiting",
              "livy_statement_state": null,
              "spark_jobs": null,
              "session_id": null,
              "normalized_state": "waiting",
              "queued_time": "2024-10-15T09:07:02.5720705Z",
              "session_start_time": null,
              "execution_start_time": null,
              "execution_finish_time": null,
              "parent_msg_id": "83220485-084c-41f0-9c6d-575acaa93ca1"
            },
            "text/plain": "StatementMeta(, , , Waiting, , Waiting)"
          },
          "metadata": {}
        }
      ],
      "execution_count": null,
      "metadata": {
        "gather": {
          "logged": 1728982673422
        }
      }
    },
    {
      "cell_type": "code",
      "source": [
        "import pickle\n",
        "\n",
        "with open(best_model_output._path_on_datastore, \"rb\" ) as f:\n",
        "    best_model = pickle.load(f)\n",
        "best_model"
      ],
      "outputs": [
        {
          "output_type": "display_data",
          "data": {
            "application/vnd.livy.statement-meta+json": {
              "spark_pool": null,
              "statement_id": null,
              "statement_ids": null,
              "state": "waiting",
              "livy_statement_state": null,
              "spark_jobs": null,
              "session_id": null,
              "normalized_state": "waiting",
              "queued_time": "2024-10-15T09:07:02.8611616Z",
              "session_start_time": null,
              "execution_start_time": null,
              "execution_finish_time": null,
              "parent_msg_id": "b9993610-7713-4e64-8794-958dab0c5508"
            },
            "text/plain": "StatementMeta(, , , Waiting, , Waiting)"
          },
          "metadata": {}
        }
      ],
      "execution_count": null,
      "metadata": {
        "gather": {
          "logged": 1728982695597
        }
      }
    },
    {
      "cell_type": "code",
      "source": [
        "best_model.steps"
      ],
      "outputs": [
        {
          "output_type": "display_data",
          "data": {
            "application/vnd.livy.statement-meta+json": {
              "spark_pool": null,
              "statement_id": null,
              "statement_ids": null,
              "state": "waiting",
              "livy_statement_state": null,
              "spark_jobs": null,
              "session_id": null,
              "normalized_state": "waiting",
              "queued_time": "2024-10-15T09:07:03.1878569Z",
              "session_start_time": null,
              "execution_start_time": null,
              "execution_finish_time": null,
              "parent_msg_id": "fe81aad2-8a3f-47b6-a7d6-8d8a8503c208"
            },
            "text/plain": "StatementMeta(, , , Waiting, , Waiting)"
          },
          "metadata": {}
        }
      ],
      "execution_count": null,
      "metadata": {
        "gather": {
          "logged": 1728982705756
        }
      }
    },
    {
      "cell_type": "markdown",
      "source": [
        "### Test the Model\n",
        "#### Load Test Data\n",
        "For the test data, it should have the same preparation step as the train data. Otherwise it might get failed at the preprocessing step."
      ],
      "metadata": {}
    },
    {
      "cell_type": "code",
      "source": [
        "dataset_test = Dataset.Tabular.from_delimited_files(path='https://automlsamplenotebookdata.blob.core.windows.net/automl-sample-notebook-data/bankmarketing_train.csv')\n",
        "df_test = dataset_test.to_pandas_dataframe()\n",
        "df_test = df_test[pd.notnull(df_test['y'])]\n",
        "\n",
        "y_test = df_test['y']\n",
        "X_test = df_test.drop(['y'], axis=1)"
      ],
      "outputs": [
        {
          "output_type": "display_data",
          "data": {
            "application/vnd.livy.statement-meta+json": {
              "spark_pool": null,
              "statement_id": null,
              "statement_ids": null,
              "state": "waiting",
              "livy_statement_state": null,
              "spark_jobs": null,
              "session_id": null,
              "normalized_state": "waiting",
              "queued_time": "2024-10-15T09:07:03.6500393Z",
              "session_start_time": null,
              "execution_start_time": null,
              "execution_finish_time": null,
              "parent_msg_id": "af2c5393-616e-44f3-9dab-d102cfdb1b8b"
            },
            "text/plain": "StatementMeta(, , , Waiting, , Waiting)"
          },
          "metadata": {}
        }
      ],
      "execution_count": null,
      "metadata": {
        "gather": {
          "logged": 1728982725652
        }
      }
    },
    {
      "cell_type": "markdown",
      "source": [
        "#### Testing Our Best Fitted Model\n",
        "\n",
        "We will use confusion matrix to see how our model works."
      ],
      "metadata": {}
    },
    {
      "cell_type": "code",
      "source": [],
      "outputs": [],
      "execution_count": null,
      "metadata": {
        "jupyter": {
          "source_hidden": false,
          "outputs_hidden": false
        },
        "nteract": {
          "transient": {
            "deleting": false
          }
        }
      }
    },
    {
      "cell_type": "code",
      "source": [
        "from sklearn.metrics import confusion_matrix\n",
        "ypred = best_model.predict(X_test)\n",
        "cm = confusion_matrix(y_test, ypred)"
      ],
      "outputs": [
        {
          "output_type": "display_data",
          "data": {
            "application/vnd.livy.statement-meta+json": {
              "spark_pool": null,
              "statement_id": null,
              "statement_ids": null,
              "state": "waiting",
              "livy_statement_state": null,
              "spark_jobs": null,
              "session_id": null,
              "normalized_state": "waiting",
              "queued_time": "2024-10-15T09:07:04.2491011Z",
              "session_start_time": null,
              "execution_start_time": null,
              "execution_finish_time": null,
              "parent_msg_id": "c18709e9-331a-4e21-9e97-59979c8f89db"
            },
            "text/plain": "StatementMeta(, , , Waiting, , Waiting)"
          },
          "metadata": {}
        }
      ],
      "execution_count": null,
      "metadata": {
        "gather": {
          "logged": 1728982738592
        }
      }
    },
    {
      "cell_type": "code",
      "source": [
        "# Visualize the confusion matrix\n",
        "pd.DataFrame(cm).style.background_gradient(cmap='Blues', low=0, high=0.9)"
      ],
      "outputs": [
        {
          "output_type": "display_data",
          "data": {
            "application/vnd.livy.statement-meta+json": {
              "spark_pool": null,
              "statement_id": null,
              "statement_ids": null,
              "state": "waiting",
              "livy_statement_state": null,
              "spark_jobs": null,
              "session_id": null,
              "normalized_state": "waiting",
              "queued_time": "2024-10-15T09:07:04.5847108Z",
              "session_start_time": null,
              "execution_start_time": null,
              "execution_finish_time": null,
              "parent_msg_id": "5494e739-c292-438c-93cf-e29074aa1320"
            },
            "text/plain": "StatementMeta(, , , Waiting, , Waiting)"
          },
          "metadata": {}
        }
      ],
      "execution_count": null,
      "metadata": {}
    },
    {
      "cell_type": "markdown",
      "source": [
        "## Publish and run from REST endpoint\n",
        "\n",
        "Run the following code to publish the pipeline to your workspace. In your workspace in the portal, you can see metadata for the pipeline including run history and durations. You can also run the pipeline manually from the portal.\n",
        "\n",
        "Additionally, publishing the pipeline enables a REST endpoint to rerun the pipeline from any HTTP library on any platform.\n"
      ],
      "metadata": {}
    },
    {
      "cell_type": "code",
      "source": [
        "published_pipeline = pipeline_run.publish_pipeline(\n",
        "    name=\"Bankmarketing Train\", description=\"Training bankmarketing pipeline\", version=\"1.0\")\n",
        "\n",
        "published_pipeline\n"
      ],
      "outputs": [
        {
          "output_type": "display_data",
          "data": {
            "application/vnd.livy.statement-meta+json": {
              "spark_pool": null,
              "statement_id": null,
              "statement_ids": null,
              "state": "waiting",
              "livy_statement_state": null,
              "spark_jobs": null,
              "session_id": null,
              "normalized_state": "waiting",
              "queued_time": "2024-10-15T09:07:04.8844959Z",
              "session_start_time": null,
              "execution_start_time": null,
              "execution_finish_time": null,
              "parent_msg_id": "217dd3ca-a683-4655-b12d-ad6e61dafd91"
            },
            "text/plain": "StatementMeta(, , , Waiting, , Waiting)"
          },
          "metadata": {}
        }
      ],
      "execution_count": null,
      "metadata": {}
    },
    {
      "cell_type": "markdown",
      "source": [
        "Authenticate once again, to retrieve the `auth_header` so that the endpoint can be used"
      ],
      "metadata": {}
    },
    {
      "cell_type": "code",
      "source": [
        "from azureml.core.authentication import InteractiveLoginAuthentication\n",
        "\n",
        "interactive_auth = InteractiveLoginAuthentication()\n",
        "auth_header = interactive_auth.get_authentication_header()\n",
        "\n"
      ],
      "outputs": [
        {
          "output_type": "display_data",
          "data": {
            "application/vnd.livy.statement-meta+json": {
              "spark_pool": null,
              "statement_id": null,
              "statement_ids": null,
              "state": "waiting",
              "livy_statement_state": null,
              "spark_jobs": null,
              "session_id": null,
              "normalized_state": "waiting",
              "queued_time": "2024-10-15T09:07:05.2211204Z",
              "session_start_time": null,
              "execution_start_time": null,
              "execution_finish_time": null,
              "parent_msg_id": "6ddc064b-4455-4d42-88d1-9f967e6e21b6"
            },
            "text/plain": "StatementMeta(, , , Waiting, , Waiting)"
          },
          "metadata": {}
        }
      ],
      "execution_count": null,
      "metadata": {}
    },
    {
      "cell_type": "markdown",
      "source": [
        "Get the REST url from the endpoint property of the published pipeline object. You can also find the REST url in your workspace in the portal. Build an HTTP POST request to the endpoint, specifying your authentication header. Additionally, add a JSON payload object with the experiment name and the batch size parameter. As a reminder, the process_count_per_node is passed through to ParallelRunStep because you defined it is defined as a PipelineParameter object in the step configuration.\n",
        "\n",
        "Make the request to trigger the run. Access the Id key from the response dict to get the value of the run id.\n"
      ],
      "metadata": {}
    },
    {
      "cell_type": "code",
      "source": [
        "import requests\n",
        "\n",
        "rest_endpoint = published_pipeline.endpoint\n",
        "response = requests.post(rest_endpoint, \n",
        "                         headers=auth_header, \n",
        "                         json={\"ExperimentName\": \"pipeline-rest-endpoint\"}\n",
        "                        )"
      ],
      "outputs": [
        {
          "output_type": "display_data",
          "data": {
            "application/vnd.livy.statement-meta+json": {
              "spark_pool": null,
              "statement_id": null,
              "statement_ids": null,
              "state": "waiting",
              "livy_statement_state": null,
              "spark_jobs": null,
              "session_id": null,
              "normalized_state": "waiting",
              "queued_time": "2024-10-15T09:07:05.7066769Z",
              "session_start_time": null,
              "execution_start_time": null,
              "execution_finish_time": null,
              "parent_msg_id": "2c78b7d0-188e-4a34-944d-b6e87dc14687"
            },
            "text/plain": "StatementMeta(, , , Waiting, , Waiting)"
          },
          "metadata": {}
        }
      ],
      "execution_count": null,
      "metadata": {}
    },
    {
      "cell_type": "code",
      "source": [
        "try:\n",
        "    response.raise_for_status()\n",
        "except Exception:    \n",
        "    raise Exception(\"Received bad response from the endpoint: {}\\n\"\n",
        "                    \"Response Code: {}\\n\"\n",
        "                    \"Headers: {}\\n\"\n",
        "                    \"Content: {}\".format(rest_endpoint, response.status_code, response.headers, response.content))\n",
        "\n",
        "run_id = response.json().get('Id')\n",
        "print('Submitted pipeline run: ', run_id)"
      ],
      "outputs": [
        {
          "output_type": "display_data",
          "data": {
            "application/vnd.livy.statement-meta+json": {
              "spark_pool": null,
              "statement_id": null,
              "statement_ids": null,
              "state": "waiting",
              "livy_statement_state": null,
              "spark_jobs": null,
              "session_id": null,
              "normalized_state": "waiting",
              "queued_time": "2024-10-15T09:07:06.1526745Z",
              "session_start_time": null,
              "execution_start_time": null,
              "execution_finish_time": null,
              "parent_msg_id": "b663d2a1-4048-4941-b02c-31adb572c549"
            },
            "text/plain": "StatementMeta(, , , Waiting, , Waiting)"
          },
          "metadata": {}
        }
      ],
      "execution_count": null,
      "metadata": {}
    },
    {
      "cell_type": "markdown",
      "source": [
        "Use the run id to monitor the status of the new run. This will take another 10-15 min to run and will look similar to the previous pipeline run, so if you don't need to see another pipeline run, you can skip watching the full output."
      ],
      "metadata": {}
    },
    {
      "cell_type": "code",
      "source": [
        "from azureml.pipeline.core.run import PipelineRun\n",
        "from azureml.widgets import RunDetails\n",
        "\n",
        "published_pipeline_run = PipelineRun(ws.experiments[\"pipeline-rest-endpoint\"], run_id)\n",
        "RunDetails(published_pipeline_run).show()"
      ],
      "outputs": [
        {
          "output_type": "display_data",
          "data": {
            "application/vnd.livy.statement-meta+json": {
              "spark_pool": null,
              "statement_id": null,
              "statement_ids": null,
              "state": "waiting",
              "livy_statement_state": null,
              "spark_jobs": null,
              "session_id": null,
              "normalized_state": "waiting",
              "queued_time": "2024-10-15T09:07:06.5334974Z",
              "session_start_time": null,
              "execution_start_time": null,
              "execution_finish_time": null,
              "parent_msg_id": "a95fb7c9-14ad-4b6e-9cec-21f2f3232378"
            },
            "text/plain": "StatementMeta(, , , Waiting, , Waiting)"
          },
          "metadata": {}
        }
      ],
      "execution_count": null,
      "metadata": {}
    },
    {
      "cell_type": "code",
      "source": [],
      "outputs": [],
      "execution_count": null,
      "metadata": {}
    }
  ],
  "metadata": {
    "order_index": 11,
    "exclude_from_index": false,
    "task": "Demonstrates the use of AutoMLStep",
    "deployment": [
      "None"
    ],
    "authors": [
      {
        "name": "sanpil"
      }
    ],
    "star_tag": [
      "featured"
    ],
    "microsoft": {
      "ms_spell_check": {
        "ms_spell_check_language": "en"
      }
    },
    "kernel_info": {
      "name": "python3"
    },
    "language_info": {
      "codemirror_mode": {
        "name": "ipython",
        "version": 3
      },
      "file_extension": ".py",
      "mimetype": "text/x-python",
      "name": "python",
      "nbconvert_exporter": "python",
      "pygments_lexer": "ipython3",
      "version": "3.8.1"
    },
    "compute": [
      "AML Compute"
    ],
    "kernelspec": {
      "display_name": "Python 3",
      "language": "python",
      "name": "python3"
    },
    "tags": [
      "None"
    ],
    "datasets": [
      "Custom"
    ],
    "categories": [
      "how-to-use-azureml",
      "machine-learning-pipelines",
      "intro-to-pipelines"
    ],
    "category": "tutorial",
    "framework": [
      "Automated Machine Learning"
    ],
    "friendly_name": "How to use AutoMLStep with AML Pipelines",
    "nteract": {
      "version": "nteract-front-end@1.0.0"
    }
  },
  "nbformat": 4,
  "nbformat_minor": 2
}